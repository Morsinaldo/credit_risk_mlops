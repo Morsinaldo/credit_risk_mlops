{
  "nbformat": 4,
  "nbformat_minor": 0,
  "metadata": {
    "colab": {
      "name": "6 - train.ipynb",
      "provenance": [],
      "collapsed_sections": [
        "BeMVUzr08AK8",
        "tt9AnGT3922Q",
        "EEKvM3qL_3Hb",
        "7c_W3F0IGN15",
        "TuoN4_opKXzp",
        "gF_ZLoVjjPUg",
        "ldfU54n7njja",
        "3JBkxykTp2HF",
        "G8tKLeBIa44E"
      ]
    },
    "kernelspec": {
      "name": "python3",
      "display_name": "Python 3"
    },
    "language_info": {
      "name": "python"
    },
    "widgets": {
      "application/vnd.jupyter.widget-state+json": {
        "b33588a583a74b0ca704326da92a26ba": {
          "model_module": "@jupyter-widgets/controls",
          "model_name": "VBoxModel",
          "model_module_version": "1.5.0",
          "state": {
            "_dom_classes": [],
            "_model_module": "@jupyter-widgets/controls",
            "_model_module_version": "1.5.0",
            "_model_name": "VBoxModel",
            "_view_count": null,
            "_view_module": "@jupyter-widgets/controls",
            "_view_module_version": "1.5.0",
            "_view_name": "VBoxView",
            "box_style": "",
            "children": [
              "IPY_MODEL_ebd0cae92b844bc5b85c6ca43146b939",
              "IPY_MODEL_d0a7f9c1ca234cfcbf80dde01b6469a6"
            ],
            "layout": "IPY_MODEL_b53f9d1b87644c17a87da9e7df964c0c"
          }
        },
        "ebd0cae92b844bc5b85c6ca43146b939": {
          "model_module": "@jupyter-widgets/controls",
          "model_name": "LabelModel",
          "model_module_version": "1.5.0",
          "state": {
            "_dom_classes": [],
            "_model_module": "@jupyter-widgets/controls",
            "_model_module_version": "1.5.0",
            "_model_name": "LabelModel",
            "_view_count": null,
            "_view_module": "@jupyter-widgets/controls",
            "_view_module_version": "1.5.0",
            "_view_name": "LabelView",
            "description": "",
            "description_tooltip": null,
            "layout": "IPY_MODEL_0c88b95b46ce418f9a065ffa977d5df5",
            "placeholder": "​",
            "style": "IPY_MODEL_e01a27661e7b40dabe5476019a4354a7",
            "value": "0.038 MB of 0.038 MB uploaded (0.000 MB deduped)\r"
          }
        },
        "d0a7f9c1ca234cfcbf80dde01b6469a6": {
          "model_module": "@jupyter-widgets/controls",
          "model_name": "FloatProgressModel",
          "model_module_version": "1.5.0",
          "state": {
            "_dom_classes": [],
            "_model_module": "@jupyter-widgets/controls",
            "_model_module_version": "1.5.0",
            "_model_name": "FloatProgressModel",
            "_view_count": null,
            "_view_module": "@jupyter-widgets/controls",
            "_view_module_version": "1.5.0",
            "_view_name": "ProgressView",
            "bar_style": "",
            "description": "",
            "description_tooltip": null,
            "layout": "IPY_MODEL_edba6df8dde94f4abb03fcf9f8630fc9",
            "max": 1,
            "min": 0,
            "orientation": "horizontal",
            "style": "IPY_MODEL_9fe9f462c7254798b47382a56719dfe4",
            "value": 1
          }
        },
        "b53f9d1b87644c17a87da9e7df964c0c": {
          "model_module": "@jupyter-widgets/base",
          "model_name": "LayoutModel",
          "model_module_version": "1.2.0",
          "state": {
            "_model_module": "@jupyter-widgets/base",
            "_model_module_version": "1.2.0",
            "_model_name": "LayoutModel",
            "_view_count": null,
            "_view_module": "@jupyter-widgets/base",
            "_view_module_version": "1.2.0",
            "_view_name": "LayoutView",
            "align_content": null,
            "align_items": null,
            "align_self": null,
            "border": null,
            "bottom": null,
            "display": null,
            "flex": null,
            "flex_flow": null,
            "grid_area": null,
            "grid_auto_columns": null,
            "grid_auto_flow": null,
            "grid_auto_rows": null,
            "grid_column": null,
            "grid_gap": null,
            "grid_row": null,
            "grid_template_areas": null,
            "grid_template_columns": null,
            "grid_template_rows": null,
            "height": null,
            "justify_content": null,
            "justify_items": null,
            "left": null,
            "margin": null,
            "max_height": null,
            "max_width": null,
            "min_height": null,
            "min_width": null,
            "object_fit": null,
            "object_position": null,
            "order": null,
            "overflow": null,
            "overflow_x": null,
            "overflow_y": null,
            "padding": null,
            "right": null,
            "top": null,
            "visibility": null,
            "width": null
          }
        },
        "0c88b95b46ce418f9a065ffa977d5df5": {
          "model_module": "@jupyter-widgets/base",
          "model_name": "LayoutModel",
          "model_module_version": "1.2.0",
          "state": {
            "_model_module": "@jupyter-widgets/base",
            "_model_module_version": "1.2.0",
            "_model_name": "LayoutModel",
            "_view_count": null,
            "_view_module": "@jupyter-widgets/base",
            "_view_module_version": "1.2.0",
            "_view_name": "LayoutView",
            "align_content": null,
            "align_items": null,
            "align_self": null,
            "border": null,
            "bottom": null,
            "display": null,
            "flex": null,
            "flex_flow": null,
            "grid_area": null,
            "grid_auto_columns": null,
            "grid_auto_flow": null,
            "grid_auto_rows": null,
            "grid_column": null,
            "grid_gap": null,
            "grid_row": null,
            "grid_template_areas": null,
            "grid_template_columns": null,
            "grid_template_rows": null,
            "height": null,
            "justify_content": null,
            "justify_items": null,
            "left": null,
            "margin": null,
            "max_height": null,
            "max_width": null,
            "min_height": null,
            "min_width": null,
            "object_fit": null,
            "object_position": null,
            "order": null,
            "overflow": null,
            "overflow_x": null,
            "overflow_y": null,
            "padding": null,
            "right": null,
            "top": null,
            "visibility": null,
            "width": null
          }
        },
        "e01a27661e7b40dabe5476019a4354a7": {
          "model_module": "@jupyter-widgets/controls",
          "model_name": "DescriptionStyleModel",
          "model_module_version": "1.5.0",
          "state": {
            "_model_module": "@jupyter-widgets/controls",
            "_model_module_version": "1.5.0",
            "_model_name": "DescriptionStyleModel",
            "_view_count": null,
            "_view_module": "@jupyter-widgets/base",
            "_view_module_version": "1.2.0",
            "_view_name": "StyleView",
            "description_width": ""
          }
        },
        "edba6df8dde94f4abb03fcf9f8630fc9": {
          "model_module": "@jupyter-widgets/base",
          "model_name": "LayoutModel",
          "model_module_version": "1.2.0",
          "state": {
            "_model_module": "@jupyter-widgets/base",
            "_model_module_version": "1.2.0",
            "_model_name": "LayoutModel",
            "_view_count": null,
            "_view_module": "@jupyter-widgets/base",
            "_view_module_version": "1.2.0",
            "_view_name": "LayoutView",
            "align_content": null,
            "align_items": null,
            "align_self": null,
            "border": null,
            "bottom": null,
            "display": null,
            "flex": null,
            "flex_flow": null,
            "grid_area": null,
            "grid_auto_columns": null,
            "grid_auto_flow": null,
            "grid_auto_rows": null,
            "grid_column": null,
            "grid_gap": null,
            "grid_row": null,
            "grid_template_areas": null,
            "grid_template_columns": null,
            "grid_template_rows": null,
            "height": null,
            "justify_content": null,
            "justify_items": null,
            "left": null,
            "margin": null,
            "max_height": null,
            "max_width": null,
            "min_height": null,
            "min_width": null,
            "object_fit": null,
            "object_position": null,
            "order": null,
            "overflow": null,
            "overflow_x": null,
            "overflow_y": null,
            "padding": null,
            "right": null,
            "top": null,
            "visibility": null,
            "width": null
          }
        },
        "9fe9f462c7254798b47382a56719dfe4": {
          "model_module": "@jupyter-widgets/controls",
          "model_name": "ProgressStyleModel",
          "model_module_version": "1.5.0",
          "state": {
            "_model_module": "@jupyter-widgets/controls",
            "_model_module_version": "1.5.0",
            "_model_name": "ProgressStyleModel",
            "_view_count": null,
            "_view_module": "@jupyter-widgets/base",
            "_view_module_version": "1.2.0",
            "_view_name": "StyleView",
            "bar_color": null,
            "description_width": ""
          }
        },
        "d66272ef259e414fa0aeff26c17833e5": {
          "model_module": "@jupyter-widgets/controls",
          "model_name": "VBoxModel",
          "model_module_version": "1.5.0",
          "state": {
            "_dom_classes": [],
            "_model_module": "@jupyter-widgets/controls",
            "_model_module_version": "1.5.0",
            "_model_name": "VBoxModel",
            "_view_count": null,
            "_view_module": "@jupyter-widgets/controls",
            "_view_module_version": "1.5.0",
            "_view_name": "VBoxView",
            "box_style": "",
            "children": [
              "IPY_MODEL_b816211e808140ef92b41e8aa91406a0",
              "IPY_MODEL_9c447133b9144bc1905bab6fbddb8060"
            ],
            "layout": "IPY_MODEL_9abdeaf7387b413bbe83d0507a16c419"
          }
        },
        "b816211e808140ef92b41e8aa91406a0": {
          "model_module": "@jupyter-widgets/controls",
          "model_name": "LabelModel",
          "model_module_version": "1.5.0",
          "state": {
            "_dom_classes": [],
            "_model_module": "@jupyter-widgets/controls",
            "_model_module_version": "1.5.0",
            "_model_name": "LabelModel",
            "_view_count": null,
            "_view_module": "@jupyter-widgets/controls",
            "_view_module_version": "1.5.0",
            "_view_name": "LabelView",
            "description": "",
            "description_tooltip": null,
            "layout": "IPY_MODEL_ac72ba6a977342fca73b3b0e61439cab",
            "placeholder": "​",
            "style": "IPY_MODEL_5dad7e56bbc24479b083a9ed7dc2ebe6",
            "value": "0.008 MB of 0.008 MB uploaded (0.000 MB deduped)\r"
          }
        },
        "9c447133b9144bc1905bab6fbddb8060": {
          "model_module": "@jupyter-widgets/controls",
          "model_name": "FloatProgressModel",
          "model_module_version": "1.5.0",
          "state": {
            "_dom_classes": [],
            "_model_module": "@jupyter-widgets/controls",
            "_model_module_version": "1.5.0",
            "_model_name": "FloatProgressModel",
            "_view_count": null,
            "_view_module": "@jupyter-widgets/controls",
            "_view_module_version": "1.5.0",
            "_view_name": "ProgressView",
            "bar_style": "",
            "description": "",
            "description_tooltip": null,
            "layout": "IPY_MODEL_fd2b0ee41f094cecb350286406b33dd5",
            "max": 1,
            "min": 0,
            "orientation": "horizontal",
            "style": "IPY_MODEL_7b2be86d62944910bfd8e9de3fd21512",
            "value": 1
          }
        },
        "9abdeaf7387b413bbe83d0507a16c419": {
          "model_module": "@jupyter-widgets/base",
          "model_name": "LayoutModel",
          "model_module_version": "1.2.0",
          "state": {
            "_model_module": "@jupyter-widgets/base",
            "_model_module_version": "1.2.0",
            "_model_name": "LayoutModel",
            "_view_count": null,
            "_view_module": "@jupyter-widgets/base",
            "_view_module_version": "1.2.0",
            "_view_name": "LayoutView",
            "align_content": null,
            "align_items": null,
            "align_self": null,
            "border": null,
            "bottom": null,
            "display": null,
            "flex": null,
            "flex_flow": null,
            "grid_area": null,
            "grid_auto_columns": null,
            "grid_auto_flow": null,
            "grid_auto_rows": null,
            "grid_column": null,
            "grid_gap": null,
            "grid_row": null,
            "grid_template_areas": null,
            "grid_template_columns": null,
            "grid_template_rows": null,
            "height": null,
            "justify_content": null,
            "justify_items": null,
            "left": null,
            "margin": null,
            "max_height": null,
            "max_width": null,
            "min_height": null,
            "min_width": null,
            "object_fit": null,
            "object_position": null,
            "order": null,
            "overflow": null,
            "overflow_x": null,
            "overflow_y": null,
            "padding": null,
            "right": null,
            "top": null,
            "visibility": null,
            "width": null
          }
        },
        "ac72ba6a977342fca73b3b0e61439cab": {
          "model_module": "@jupyter-widgets/base",
          "model_name": "LayoutModel",
          "model_module_version": "1.2.0",
          "state": {
            "_model_module": "@jupyter-widgets/base",
            "_model_module_version": "1.2.0",
            "_model_name": "LayoutModel",
            "_view_count": null,
            "_view_module": "@jupyter-widgets/base",
            "_view_module_version": "1.2.0",
            "_view_name": "LayoutView",
            "align_content": null,
            "align_items": null,
            "align_self": null,
            "border": null,
            "bottom": null,
            "display": null,
            "flex": null,
            "flex_flow": null,
            "grid_area": null,
            "grid_auto_columns": null,
            "grid_auto_flow": null,
            "grid_auto_rows": null,
            "grid_column": null,
            "grid_gap": null,
            "grid_row": null,
            "grid_template_areas": null,
            "grid_template_columns": null,
            "grid_template_rows": null,
            "height": null,
            "justify_content": null,
            "justify_items": null,
            "left": null,
            "margin": null,
            "max_height": null,
            "max_width": null,
            "min_height": null,
            "min_width": null,
            "object_fit": null,
            "object_position": null,
            "order": null,
            "overflow": null,
            "overflow_x": null,
            "overflow_y": null,
            "padding": null,
            "right": null,
            "top": null,
            "visibility": null,
            "width": null
          }
        },
        "5dad7e56bbc24479b083a9ed7dc2ebe6": {
          "model_module": "@jupyter-widgets/controls",
          "model_name": "DescriptionStyleModel",
          "model_module_version": "1.5.0",
          "state": {
            "_model_module": "@jupyter-widgets/controls",
            "_model_module_version": "1.5.0",
            "_model_name": "DescriptionStyleModel",
            "_view_count": null,
            "_view_module": "@jupyter-widgets/base",
            "_view_module_version": "1.2.0",
            "_view_name": "StyleView",
            "description_width": ""
          }
        },
        "fd2b0ee41f094cecb350286406b33dd5": {
          "model_module": "@jupyter-widgets/base",
          "model_name": "LayoutModel",
          "model_module_version": "1.2.0",
          "state": {
            "_model_module": "@jupyter-widgets/base",
            "_model_module_version": "1.2.0",
            "_model_name": "LayoutModel",
            "_view_count": null,
            "_view_module": "@jupyter-widgets/base",
            "_view_module_version": "1.2.0",
            "_view_name": "LayoutView",
            "align_content": null,
            "align_items": null,
            "align_self": null,
            "border": null,
            "bottom": null,
            "display": null,
            "flex": null,
            "flex_flow": null,
            "grid_area": null,
            "grid_auto_columns": null,
            "grid_auto_flow": null,
            "grid_auto_rows": null,
            "grid_column": null,
            "grid_gap": null,
            "grid_row": null,
            "grid_template_areas": null,
            "grid_template_columns": null,
            "grid_template_rows": null,
            "height": null,
            "justify_content": null,
            "justify_items": null,
            "left": null,
            "margin": null,
            "max_height": null,
            "max_width": null,
            "min_height": null,
            "min_width": null,
            "object_fit": null,
            "object_position": null,
            "order": null,
            "overflow": null,
            "overflow_x": null,
            "overflow_y": null,
            "padding": null,
            "right": null,
            "top": null,
            "visibility": null,
            "width": null
          }
        },
        "7b2be86d62944910bfd8e9de3fd21512": {
          "model_module": "@jupyter-widgets/controls",
          "model_name": "ProgressStyleModel",
          "model_module_version": "1.5.0",
          "state": {
            "_model_module": "@jupyter-widgets/controls",
            "_model_module_version": "1.5.0",
            "_model_name": "ProgressStyleModel",
            "_view_count": null,
            "_view_module": "@jupyter-widgets/base",
            "_view_module_version": "1.2.0",
            "_view_name": "StyleView",
            "bar_color": null,
            "description_width": ""
          }
        },
        "0613c7cb0f514b22a4e6528e40e2e156": {
          "model_module": "@jupyter-widgets/controls",
          "model_name": "VBoxModel",
          "model_module_version": "1.5.0",
          "state": {
            "_dom_classes": [],
            "_model_module": "@jupyter-widgets/controls",
            "_model_module_version": "1.5.0",
            "_model_name": "VBoxModel",
            "_view_count": null,
            "_view_module": "@jupyter-widgets/controls",
            "_view_module_version": "1.5.0",
            "_view_name": "VBoxView",
            "box_style": "",
            "children": [
              "IPY_MODEL_5bd958e1e2bc4b1ea1f586e2afa89499",
              "IPY_MODEL_c75b56bef9f946508d8db9a716432df4"
            ],
            "layout": "IPY_MODEL_4dc52778c02542ad94a5f7d45b7a5a98"
          }
        },
        "5bd958e1e2bc4b1ea1f586e2afa89499": {
          "model_module": "@jupyter-widgets/controls",
          "model_name": "LabelModel",
          "model_module_version": "1.5.0",
          "state": {
            "_dom_classes": [],
            "_model_module": "@jupyter-widgets/controls",
            "_model_module_version": "1.5.0",
            "_model_name": "LabelModel",
            "_view_count": null,
            "_view_module": "@jupyter-widgets/controls",
            "_view_module_version": "1.5.0",
            "_view_name": "LabelView",
            "description": "",
            "description_tooltip": null,
            "layout": "IPY_MODEL_521f77db070641e7a0097f0b4c0793ef",
            "placeholder": "​",
            "style": "IPY_MODEL_c2576f2a4b3e4d77882585ea581e3c07",
            "value": "0.008 MB of 0.008 MB uploaded (0.000 MB deduped)\r"
          }
        },
        "c75b56bef9f946508d8db9a716432df4": {
          "model_module": "@jupyter-widgets/controls",
          "model_name": "FloatProgressModel",
          "model_module_version": "1.5.0",
          "state": {
            "_dom_classes": [],
            "_model_module": "@jupyter-widgets/controls",
            "_model_module_version": "1.5.0",
            "_model_name": "FloatProgressModel",
            "_view_count": null,
            "_view_module": "@jupyter-widgets/controls",
            "_view_module_version": "1.5.0",
            "_view_name": "ProgressView",
            "bar_style": "",
            "description": "",
            "description_tooltip": null,
            "layout": "IPY_MODEL_0a9328d22f424f759a4cb7b68a7de40c",
            "max": 1,
            "min": 0,
            "orientation": "horizontal",
            "style": "IPY_MODEL_21b5c781e9c2442a96f6ab630b98a2aa",
            "value": 1
          }
        },
        "4dc52778c02542ad94a5f7d45b7a5a98": {
          "model_module": "@jupyter-widgets/base",
          "model_name": "LayoutModel",
          "model_module_version": "1.2.0",
          "state": {
            "_model_module": "@jupyter-widgets/base",
            "_model_module_version": "1.2.0",
            "_model_name": "LayoutModel",
            "_view_count": null,
            "_view_module": "@jupyter-widgets/base",
            "_view_module_version": "1.2.0",
            "_view_name": "LayoutView",
            "align_content": null,
            "align_items": null,
            "align_self": null,
            "border": null,
            "bottom": null,
            "display": null,
            "flex": null,
            "flex_flow": null,
            "grid_area": null,
            "grid_auto_columns": null,
            "grid_auto_flow": null,
            "grid_auto_rows": null,
            "grid_column": null,
            "grid_gap": null,
            "grid_row": null,
            "grid_template_areas": null,
            "grid_template_columns": null,
            "grid_template_rows": null,
            "height": null,
            "justify_content": null,
            "justify_items": null,
            "left": null,
            "margin": null,
            "max_height": null,
            "max_width": null,
            "min_height": null,
            "min_width": null,
            "object_fit": null,
            "object_position": null,
            "order": null,
            "overflow": null,
            "overflow_x": null,
            "overflow_y": null,
            "padding": null,
            "right": null,
            "top": null,
            "visibility": null,
            "width": null
          }
        },
        "521f77db070641e7a0097f0b4c0793ef": {
          "model_module": "@jupyter-widgets/base",
          "model_name": "LayoutModel",
          "model_module_version": "1.2.0",
          "state": {
            "_model_module": "@jupyter-widgets/base",
            "_model_module_version": "1.2.0",
            "_model_name": "LayoutModel",
            "_view_count": null,
            "_view_module": "@jupyter-widgets/base",
            "_view_module_version": "1.2.0",
            "_view_name": "LayoutView",
            "align_content": null,
            "align_items": null,
            "align_self": null,
            "border": null,
            "bottom": null,
            "display": null,
            "flex": null,
            "flex_flow": null,
            "grid_area": null,
            "grid_auto_columns": null,
            "grid_auto_flow": null,
            "grid_auto_rows": null,
            "grid_column": null,
            "grid_gap": null,
            "grid_row": null,
            "grid_template_areas": null,
            "grid_template_columns": null,
            "grid_template_rows": null,
            "height": null,
            "justify_content": null,
            "justify_items": null,
            "left": null,
            "margin": null,
            "max_height": null,
            "max_width": null,
            "min_height": null,
            "min_width": null,
            "object_fit": null,
            "object_position": null,
            "order": null,
            "overflow": null,
            "overflow_x": null,
            "overflow_y": null,
            "padding": null,
            "right": null,
            "top": null,
            "visibility": null,
            "width": null
          }
        },
        "c2576f2a4b3e4d77882585ea581e3c07": {
          "model_module": "@jupyter-widgets/controls",
          "model_name": "DescriptionStyleModel",
          "model_module_version": "1.5.0",
          "state": {
            "_model_module": "@jupyter-widgets/controls",
            "_model_module_version": "1.5.0",
            "_model_name": "DescriptionStyleModel",
            "_view_count": null,
            "_view_module": "@jupyter-widgets/base",
            "_view_module_version": "1.2.0",
            "_view_name": "StyleView",
            "description_width": ""
          }
        },
        "0a9328d22f424f759a4cb7b68a7de40c": {
          "model_module": "@jupyter-widgets/base",
          "model_name": "LayoutModel",
          "model_module_version": "1.2.0",
          "state": {
            "_model_module": "@jupyter-widgets/base",
            "_model_module_version": "1.2.0",
            "_model_name": "LayoutModel",
            "_view_count": null,
            "_view_module": "@jupyter-widgets/base",
            "_view_module_version": "1.2.0",
            "_view_name": "LayoutView",
            "align_content": null,
            "align_items": null,
            "align_self": null,
            "border": null,
            "bottom": null,
            "display": null,
            "flex": null,
            "flex_flow": null,
            "grid_area": null,
            "grid_auto_columns": null,
            "grid_auto_flow": null,
            "grid_auto_rows": null,
            "grid_column": null,
            "grid_gap": null,
            "grid_row": null,
            "grid_template_areas": null,
            "grid_template_columns": null,
            "grid_template_rows": null,
            "height": null,
            "justify_content": null,
            "justify_items": null,
            "left": null,
            "margin": null,
            "max_height": null,
            "max_width": null,
            "min_height": null,
            "min_width": null,
            "object_fit": null,
            "object_position": null,
            "order": null,
            "overflow": null,
            "overflow_x": null,
            "overflow_y": null,
            "padding": null,
            "right": null,
            "top": null,
            "visibility": null,
            "width": null
          }
        },
        "21b5c781e9c2442a96f6ab630b98a2aa": {
          "model_module": "@jupyter-widgets/controls",
          "model_name": "ProgressStyleModel",
          "model_module_version": "1.5.0",
          "state": {
            "_model_module": "@jupyter-widgets/controls",
            "_model_module_version": "1.5.0",
            "_model_name": "ProgressStyleModel",
            "_view_count": null,
            "_view_module": "@jupyter-widgets/base",
            "_view_module_version": "1.2.0",
            "_view_name": "StyleView",
            "bar_color": null,
            "description_width": ""
          }
        },
        "6e9eff32ca164a51b3fb183ecdd5cae0": {
          "model_module": "@jupyter-widgets/controls",
          "model_name": "VBoxModel",
          "model_module_version": "1.5.0",
          "state": {
            "_dom_classes": [],
            "_model_module": "@jupyter-widgets/controls",
            "_model_module_version": "1.5.0",
            "_model_name": "VBoxModel",
            "_view_count": null,
            "_view_module": "@jupyter-widgets/controls",
            "_view_module_version": "1.5.0",
            "_view_name": "VBoxView",
            "box_style": "",
            "children": [
              "IPY_MODEL_3f1500527dc04bcbaa7f1ace440d3897",
              "IPY_MODEL_372061e7f44c46d98144f9fb4bc193ac"
            ],
            "layout": "IPY_MODEL_11e7c611da6149d3a970a59207dbcae9"
          }
        },
        "3f1500527dc04bcbaa7f1ace440d3897": {
          "model_module": "@jupyter-widgets/controls",
          "model_name": "LabelModel",
          "model_module_version": "1.5.0",
          "state": {
            "_dom_classes": [],
            "_model_module": "@jupyter-widgets/controls",
            "_model_module_version": "1.5.0",
            "_model_name": "LabelModel",
            "_view_count": null,
            "_view_module": "@jupyter-widgets/controls",
            "_view_module_version": "1.5.0",
            "_view_name": "LabelView",
            "description": "",
            "description_tooltip": null,
            "layout": "IPY_MODEL_8a010640585e45ea8cab901ba1dc0c18",
            "placeholder": "​",
            "style": "IPY_MODEL_e28eaca3569046d89907b619ed4b9c3f",
            "value": "0.008 MB of 0.008 MB uploaded (0.000 MB deduped)\r"
          }
        },
        "372061e7f44c46d98144f9fb4bc193ac": {
          "model_module": "@jupyter-widgets/controls",
          "model_name": "FloatProgressModel",
          "model_module_version": "1.5.0",
          "state": {
            "_dom_classes": [],
            "_model_module": "@jupyter-widgets/controls",
            "_model_module_version": "1.5.0",
            "_model_name": "FloatProgressModel",
            "_view_count": null,
            "_view_module": "@jupyter-widgets/controls",
            "_view_module_version": "1.5.0",
            "_view_name": "ProgressView",
            "bar_style": "",
            "description": "",
            "description_tooltip": null,
            "layout": "IPY_MODEL_36c291b5b8cb4de5a90f52223becea31",
            "max": 1,
            "min": 0,
            "orientation": "horizontal",
            "style": "IPY_MODEL_409659c3ae114173bcea7cdd74211846",
            "value": 1
          }
        },
        "11e7c611da6149d3a970a59207dbcae9": {
          "model_module": "@jupyter-widgets/base",
          "model_name": "LayoutModel",
          "model_module_version": "1.2.0",
          "state": {
            "_model_module": "@jupyter-widgets/base",
            "_model_module_version": "1.2.0",
            "_model_name": "LayoutModel",
            "_view_count": null,
            "_view_module": "@jupyter-widgets/base",
            "_view_module_version": "1.2.0",
            "_view_name": "LayoutView",
            "align_content": null,
            "align_items": null,
            "align_self": null,
            "border": null,
            "bottom": null,
            "display": null,
            "flex": null,
            "flex_flow": null,
            "grid_area": null,
            "grid_auto_columns": null,
            "grid_auto_flow": null,
            "grid_auto_rows": null,
            "grid_column": null,
            "grid_gap": null,
            "grid_row": null,
            "grid_template_areas": null,
            "grid_template_columns": null,
            "grid_template_rows": null,
            "height": null,
            "justify_content": null,
            "justify_items": null,
            "left": null,
            "margin": null,
            "max_height": null,
            "max_width": null,
            "min_height": null,
            "min_width": null,
            "object_fit": null,
            "object_position": null,
            "order": null,
            "overflow": null,
            "overflow_x": null,
            "overflow_y": null,
            "padding": null,
            "right": null,
            "top": null,
            "visibility": null,
            "width": null
          }
        },
        "8a010640585e45ea8cab901ba1dc0c18": {
          "model_module": "@jupyter-widgets/base",
          "model_name": "LayoutModel",
          "model_module_version": "1.2.0",
          "state": {
            "_model_module": "@jupyter-widgets/base",
            "_model_module_version": "1.2.0",
            "_model_name": "LayoutModel",
            "_view_count": null,
            "_view_module": "@jupyter-widgets/base",
            "_view_module_version": "1.2.0",
            "_view_name": "LayoutView",
            "align_content": null,
            "align_items": null,
            "align_self": null,
            "border": null,
            "bottom": null,
            "display": null,
            "flex": null,
            "flex_flow": null,
            "grid_area": null,
            "grid_auto_columns": null,
            "grid_auto_flow": null,
            "grid_auto_rows": null,
            "grid_column": null,
            "grid_gap": null,
            "grid_row": null,
            "grid_template_areas": null,
            "grid_template_columns": null,
            "grid_template_rows": null,
            "height": null,
            "justify_content": null,
            "justify_items": null,
            "left": null,
            "margin": null,
            "max_height": null,
            "max_width": null,
            "min_height": null,
            "min_width": null,
            "object_fit": null,
            "object_position": null,
            "order": null,
            "overflow": null,
            "overflow_x": null,
            "overflow_y": null,
            "padding": null,
            "right": null,
            "top": null,
            "visibility": null,
            "width": null
          }
        },
        "e28eaca3569046d89907b619ed4b9c3f": {
          "model_module": "@jupyter-widgets/controls",
          "model_name": "DescriptionStyleModel",
          "model_module_version": "1.5.0",
          "state": {
            "_model_module": "@jupyter-widgets/controls",
            "_model_module_version": "1.5.0",
            "_model_name": "DescriptionStyleModel",
            "_view_count": null,
            "_view_module": "@jupyter-widgets/base",
            "_view_module_version": "1.2.0",
            "_view_name": "StyleView",
            "description_width": ""
          }
        },
        "36c291b5b8cb4de5a90f52223becea31": {
          "model_module": "@jupyter-widgets/base",
          "model_name": "LayoutModel",
          "model_module_version": "1.2.0",
          "state": {
            "_model_module": "@jupyter-widgets/base",
            "_model_module_version": "1.2.0",
            "_model_name": "LayoutModel",
            "_view_count": null,
            "_view_module": "@jupyter-widgets/base",
            "_view_module_version": "1.2.0",
            "_view_name": "LayoutView",
            "align_content": null,
            "align_items": null,
            "align_self": null,
            "border": null,
            "bottom": null,
            "display": null,
            "flex": null,
            "flex_flow": null,
            "grid_area": null,
            "grid_auto_columns": null,
            "grid_auto_flow": null,
            "grid_auto_rows": null,
            "grid_column": null,
            "grid_gap": null,
            "grid_row": null,
            "grid_template_areas": null,
            "grid_template_columns": null,
            "grid_template_rows": null,
            "height": null,
            "justify_content": null,
            "justify_items": null,
            "left": null,
            "margin": null,
            "max_height": null,
            "max_width": null,
            "min_height": null,
            "min_width": null,
            "object_fit": null,
            "object_position": null,
            "order": null,
            "overflow": null,
            "overflow_x": null,
            "overflow_y": null,
            "padding": null,
            "right": null,
            "top": null,
            "visibility": null,
            "width": null
          }
        },
        "409659c3ae114173bcea7cdd74211846": {
          "model_module": "@jupyter-widgets/controls",
          "model_name": "ProgressStyleModel",
          "model_module_version": "1.5.0",
          "state": {
            "_model_module": "@jupyter-widgets/controls",
            "_model_module_version": "1.5.0",
            "_model_name": "ProgressStyleModel",
            "_view_count": null,
            "_view_module": "@jupyter-widgets/base",
            "_view_module_version": "1.2.0",
            "_view_name": "StyleView",
            "bar_color": null,
            "description_width": ""
          }
        },
        "e54f33b16fec4a5f8bac961fc4fb532a": {
          "model_module": "@jupyter-widgets/controls",
          "model_name": "VBoxModel",
          "model_module_version": "1.5.0",
          "state": {
            "_dom_classes": [],
            "_model_module": "@jupyter-widgets/controls",
            "_model_module_version": "1.5.0",
            "_model_name": "VBoxModel",
            "_view_count": null,
            "_view_module": "@jupyter-widgets/controls",
            "_view_module_version": "1.5.0",
            "_view_name": "VBoxView",
            "box_style": "",
            "children": [
              "IPY_MODEL_6bc474b778ed4e448c7962c9b3da06fa",
              "IPY_MODEL_00217f46375e4534bcdd9654ca763886"
            ],
            "layout": "IPY_MODEL_28dc085cf9c84a259b9aa20dfc307928"
          }
        },
        "6bc474b778ed4e448c7962c9b3da06fa": {
          "model_module": "@jupyter-widgets/controls",
          "model_name": "LabelModel",
          "model_module_version": "1.5.0",
          "state": {
            "_dom_classes": [],
            "_model_module": "@jupyter-widgets/controls",
            "_model_module_version": "1.5.0",
            "_model_name": "LabelModel",
            "_view_count": null,
            "_view_module": "@jupyter-widgets/controls",
            "_view_module_version": "1.5.0",
            "_view_name": "LabelView",
            "description": "",
            "description_tooltip": null,
            "layout": "IPY_MODEL_d77025115a81456dade5d139892d942e",
            "placeholder": "​",
            "style": "IPY_MODEL_c134c8bbd52b41da88dcf49f7421099c",
            "value": "0.008 MB of 0.008 MB uploaded (0.000 MB deduped)\r"
          }
        },
        "00217f46375e4534bcdd9654ca763886": {
          "model_module": "@jupyter-widgets/controls",
          "model_name": "FloatProgressModel",
          "model_module_version": "1.5.0",
          "state": {
            "_dom_classes": [],
            "_model_module": "@jupyter-widgets/controls",
            "_model_module_version": "1.5.0",
            "_model_name": "FloatProgressModel",
            "_view_count": null,
            "_view_module": "@jupyter-widgets/controls",
            "_view_module_version": "1.5.0",
            "_view_name": "ProgressView",
            "bar_style": "",
            "description": "",
            "description_tooltip": null,
            "layout": "IPY_MODEL_48a8816a4fd944a2983867072b18281b",
            "max": 1,
            "min": 0,
            "orientation": "horizontal",
            "style": "IPY_MODEL_1ef4066db49b491dacd1e36f0e3f3b3a",
            "value": 1
          }
        },
        "28dc085cf9c84a259b9aa20dfc307928": {
          "model_module": "@jupyter-widgets/base",
          "model_name": "LayoutModel",
          "model_module_version": "1.2.0",
          "state": {
            "_model_module": "@jupyter-widgets/base",
            "_model_module_version": "1.2.0",
            "_model_name": "LayoutModel",
            "_view_count": null,
            "_view_module": "@jupyter-widgets/base",
            "_view_module_version": "1.2.0",
            "_view_name": "LayoutView",
            "align_content": null,
            "align_items": null,
            "align_self": null,
            "border": null,
            "bottom": null,
            "display": null,
            "flex": null,
            "flex_flow": null,
            "grid_area": null,
            "grid_auto_columns": null,
            "grid_auto_flow": null,
            "grid_auto_rows": null,
            "grid_column": null,
            "grid_gap": null,
            "grid_row": null,
            "grid_template_areas": null,
            "grid_template_columns": null,
            "grid_template_rows": null,
            "height": null,
            "justify_content": null,
            "justify_items": null,
            "left": null,
            "margin": null,
            "max_height": null,
            "max_width": null,
            "min_height": null,
            "min_width": null,
            "object_fit": null,
            "object_position": null,
            "order": null,
            "overflow": null,
            "overflow_x": null,
            "overflow_y": null,
            "padding": null,
            "right": null,
            "top": null,
            "visibility": null,
            "width": null
          }
        },
        "d77025115a81456dade5d139892d942e": {
          "model_module": "@jupyter-widgets/base",
          "model_name": "LayoutModel",
          "model_module_version": "1.2.0",
          "state": {
            "_model_module": "@jupyter-widgets/base",
            "_model_module_version": "1.2.0",
            "_model_name": "LayoutModel",
            "_view_count": null,
            "_view_module": "@jupyter-widgets/base",
            "_view_module_version": "1.2.0",
            "_view_name": "LayoutView",
            "align_content": null,
            "align_items": null,
            "align_self": null,
            "border": null,
            "bottom": null,
            "display": null,
            "flex": null,
            "flex_flow": null,
            "grid_area": null,
            "grid_auto_columns": null,
            "grid_auto_flow": null,
            "grid_auto_rows": null,
            "grid_column": null,
            "grid_gap": null,
            "grid_row": null,
            "grid_template_areas": null,
            "grid_template_columns": null,
            "grid_template_rows": null,
            "height": null,
            "justify_content": null,
            "justify_items": null,
            "left": null,
            "margin": null,
            "max_height": null,
            "max_width": null,
            "min_height": null,
            "min_width": null,
            "object_fit": null,
            "object_position": null,
            "order": null,
            "overflow": null,
            "overflow_x": null,
            "overflow_y": null,
            "padding": null,
            "right": null,
            "top": null,
            "visibility": null,
            "width": null
          }
        },
        "c134c8bbd52b41da88dcf49f7421099c": {
          "model_module": "@jupyter-widgets/controls",
          "model_name": "DescriptionStyleModel",
          "model_module_version": "1.5.0",
          "state": {
            "_model_module": "@jupyter-widgets/controls",
            "_model_module_version": "1.5.0",
            "_model_name": "DescriptionStyleModel",
            "_view_count": null,
            "_view_module": "@jupyter-widgets/base",
            "_view_module_version": "1.2.0",
            "_view_name": "StyleView",
            "description_width": ""
          }
        },
        "48a8816a4fd944a2983867072b18281b": {
          "model_module": "@jupyter-widgets/base",
          "model_name": "LayoutModel",
          "model_module_version": "1.2.0",
          "state": {
            "_model_module": "@jupyter-widgets/base",
            "_model_module_version": "1.2.0",
            "_model_name": "LayoutModel",
            "_view_count": null,
            "_view_module": "@jupyter-widgets/base",
            "_view_module_version": "1.2.0",
            "_view_name": "LayoutView",
            "align_content": null,
            "align_items": null,
            "align_self": null,
            "border": null,
            "bottom": null,
            "display": null,
            "flex": null,
            "flex_flow": null,
            "grid_area": null,
            "grid_auto_columns": null,
            "grid_auto_flow": null,
            "grid_auto_rows": null,
            "grid_column": null,
            "grid_gap": null,
            "grid_row": null,
            "grid_template_areas": null,
            "grid_template_columns": null,
            "grid_template_rows": null,
            "height": null,
            "justify_content": null,
            "justify_items": null,
            "left": null,
            "margin": null,
            "max_height": null,
            "max_width": null,
            "min_height": null,
            "min_width": null,
            "object_fit": null,
            "object_position": null,
            "order": null,
            "overflow": null,
            "overflow_x": null,
            "overflow_y": null,
            "padding": null,
            "right": null,
            "top": null,
            "visibility": null,
            "width": null
          }
        },
        "1ef4066db49b491dacd1e36f0e3f3b3a": {
          "model_module": "@jupyter-widgets/controls",
          "model_name": "ProgressStyleModel",
          "model_module_version": "1.5.0",
          "state": {
            "_model_module": "@jupyter-widgets/controls",
            "_model_module_version": "1.5.0",
            "_model_name": "ProgressStyleModel",
            "_view_count": null,
            "_view_module": "@jupyter-widgets/base",
            "_view_module_version": "1.2.0",
            "_view_name": "StyleView",
            "bar_color": null,
            "description_width": ""
          }
        },
        "3ef2cddcc21a43249ca25213cb480d1d": {
          "model_module": "@jupyter-widgets/controls",
          "model_name": "VBoxModel",
          "model_module_version": "1.5.0",
          "state": {
            "_dom_classes": [],
            "_model_module": "@jupyter-widgets/controls",
            "_model_module_version": "1.5.0",
            "_model_name": "VBoxModel",
            "_view_count": null,
            "_view_module": "@jupyter-widgets/controls",
            "_view_module_version": "1.5.0",
            "_view_name": "VBoxView",
            "box_style": "",
            "children": [
              "IPY_MODEL_f216ca5fa31f4e8bb1b3d49c18c88a42",
              "IPY_MODEL_8a7f76ee1dbf419687535970bade573b"
            ],
            "layout": "IPY_MODEL_4123fc15d9c14b1c9b134f4f9e1e0f2d"
          }
        },
        "f216ca5fa31f4e8bb1b3d49c18c88a42": {
          "model_module": "@jupyter-widgets/controls",
          "model_name": "LabelModel",
          "model_module_version": "1.5.0",
          "state": {
            "_dom_classes": [],
            "_model_module": "@jupyter-widgets/controls",
            "_model_module_version": "1.5.0",
            "_model_name": "LabelModel",
            "_view_count": null,
            "_view_module": "@jupyter-widgets/controls",
            "_view_module_version": "1.5.0",
            "_view_name": "LabelView",
            "description": "",
            "description_tooltip": null,
            "layout": "IPY_MODEL_f38cf56dc8244bf0857c0276819f5b4a",
            "placeholder": "​",
            "style": "IPY_MODEL_2dc7c807794f4ffd9a144938fe4abdda",
            "value": "0.008 MB of 0.008 MB uploaded (0.000 MB deduped)\r"
          }
        },
        "8a7f76ee1dbf419687535970bade573b": {
          "model_module": "@jupyter-widgets/controls",
          "model_name": "FloatProgressModel",
          "model_module_version": "1.5.0",
          "state": {
            "_dom_classes": [],
            "_model_module": "@jupyter-widgets/controls",
            "_model_module_version": "1.5.0",
            "_model_name": "FloatProgressModel",
            "_view_count": null,
            "_view_module": "@jupyter-widgets/controls",
            "_view_module_version": "1.5.0",
            "_view_name": "ProgressView",
            "bar_style": "",
            "description": "",
            "description_tooltip": null,
            "layout": "IPY_MODEL_aa05254699df452c97dd970e874d855f",
            "max": 1,
            "min": 0,
            "orientation": "horizontal",
            "style": "IPY_MODEL_acf104d7b145494ebdecdcd77ee36449",
            "value": 1
          }
        },
        "4123fc15d9c14b1c9b134f4f9e1e0f2d": {
          "model_module": "@jupyter-widgets/base",
          "model_name": "LayoutModel",
          "model_module_version": "1.2.0",
          "state": {
            "_model_module": "@jupyter-widgets/base",
            "_model_module_version": "1.2.0",
            "_model_name": "LayoutModel",
            "_view_count": null,
            "_view_module": "@jupyter-widgets/base",
            "_view_module_version": "1.2.0",
            "_view_name": "LayoutView",
            "align_content": null,
            "align_items": null,
            "align_self": null,
            "border": null,
            "bottom": null,
            "display": null,
            "flex": null,
            "flex_flow": null,
            "grid_area": null,
            "grid_auto_columns": null,
            "grid_auto_flow": null,
            "grid_auto_rows": null,
            "grid_column": null,
            "grid_gap": null,
            "grid_row": null,
            "grid_template_areas": null,
            "grid_template_columns": null,
            "grid_template_rows": null,
            "height": null,
            "justify_content": null,
            "justify_items": null,
            "left": null,
            "margin": null,
            "max_height": null,
            "max_width": null,
            "min_height": null,
            "min_width": null,
            "object_fit": null,
            "object_position": null,
            "order": null,
            "overflow": null,
            "overflow_x": null,
            "overflow_y": null,
            "padding": null,
            "right": null,
            "top": null,
            "visibility": null,
            "width": null
          }
        },
        "f38cf56dc8244bf0857c0276819f5b4a": {
          "model_module": "@jupyter-widgets/base",
          "model_name": "LayoutModel",
          "model_module_version": "1.2.0",
          "state": {
            "_model_module": "@jupyter-widgets/base",
            "_model_module_version": "1.2.0",
            "_model_name": "LayoutModel",
            "_view_count": null,
            "_view_module": "@jupyter-widgets/base",
            "_view_module_version": "1.2.0",
            "_view_name": "LayoutView",
            "align_content": null,
            "align_items": null,
            "align_self": null,
            "border": null,
            "bottom": null,
            "display": null,
            "flex": null,
            "flex_flow": null,
            "grid_area": null,
            "grid_auto_columns": null,
            "grid_auto_flow": null,
            "grid_auto_rows": null,
            "grid_column": null,
            "grid_gap": null,
            "grid_row": null,
            "grid_template_areas": null,
            "grid_template_columns": null,
            "grid_template_rows": null,
            "height": null,
            "justify_content": null,
            "justify_items": null,
            "left": null,
            "margin": null,
            "max_height": null,
            "max_width": null,
            "min_height": null,
            "min_width": null,
            "object_fit": null,
            "object_position": null,
            "order": null,
            "overflow": null,
            "overflow_x": null,
            "overflow_y": null,
            "padding": null,
            "right": null,
            "top": null,
            "visibility": null,
            "width": null
          }
        },
        "2dc7c807794f4ffd9a144938fe4abdda": {
          "model_module": "@jupyter-widgets/controls",
          "model_name": "DescriptionStyleModel",
          "model_module_version": "1.5.0",
          "state": {
            "_model_module": "@jupyter-widgets/controls",
            "_model_module_version": "1.5.0",
            "_model_name": "DescriptionStyleModel",
            "_view_count": null,
            "_view_module": "@jupyter-widgets/base",
            "_view_module_version": "1.2.0",
            "_view_name": "StyleView",
            "description_width": ""
          }
        },
        "aa05254699df452c97dd970e874d855f": {
          "model_module": "@jupyter-widgets/base",
          "model_name": "LayoutModel",
          "model_module_version": "1.2.0",
          "state": {
            "_model_module": "@jupyter-widgets/base",
            "_model_module_version": "1.2.0",
            "_model_name": "LayoutModel",
            "_view_count": null,
            "_view_module": "@jupyter-widgets/base",
            "_view_module_version": "1.2.0",
            "_view_name": "LayoutView",
            "align_content": null,
            "align_items": null,
            "align_self": null,
            "border": null,
            "bottom": null,
            "display": null,
            "flex": null,
            "flex_flow": null,
            "grid_area": null,
            "grid_auto_columns": null,
            "grid_auto_flow": null,
            "grid_auto_rows": null,
            "grid_column": null,
            "grid_gap": null,
            "grid_row": null,
            "grid_template_areas": null,
            "grid_template_columns": null,
            "grid_template_rows": null,
            "height": null,
            "justify_content": null,
            "justify_items": null,
            "left": null,
            "margin": null,
            "max_height": null,
            "max_width": null,
            "min_height": null,
            "min_width": null,
            "object_fit": null,
            "object_position": null,
            "order": null,
            "overflow": null,
            "overflow_x": null,
            "overflow_y": null,
            "padding": null,
            "right": null,
            "top": null,
            "visibility": null,
            "width": null
          }
        },
        "acf104d7b145494ebdecdcd77ee36449": {
          "model_module": "@jupyter-widgets/controls",
          "model_name": "ProgressStyleModel",
          "model_module_version": "1.5.0",
          "state": {
            "_model_module": "@jupyter-widgets/controls",
            "_model_module_version": "1.5.0",
            "_model_name": "ProgressStyleModel",
            "_view_count": null,
            "_view_module": "@jupyter-widgets/base",
            "_view_module_version": "1.2.0",
            "_view_name": "StyleView",
            "bar_color": null,
            "description_width": ""
          }
        },
        "f947014ebe80475787758607be1392fc": {
          "model_module": "@jupyter-widgets/controls",
          "model_name": "VBoxModel",
          "model_module_version": "1.5.0",
          "state": {
            "_dom_classes": [],
            "_model_module": "@jupyter-widgets/controls",
            "_model_module_version": "1.5.0",
            "_model_name": "VBoxModel",
            "_view_count": null,
            "_view_module": "@jupyter-widgets/controls",
            "_view_module_version": "1.5.0",
            "_view_name": "VBoxView",
            "box_style": "",
            "children": [
              "IPY_MODEL_81fba16a494f4223a8d217f28019d369",
              "IPY_MODEL_dfac957f3d4b43b3beeee89bc16b7081"
            ],
            "layout": "IPY_MODEL_e110d8881e4d466387c288d116624ac1"
          }
        },
        "81fba16a494f4223a8d217f28019d369": {
          "model_module": "@jupyter-widgets/controls",
          "model_name": "LabelModel",
          "model_module_version": "1.5.0",
          "state": {
            "_dom_classes": [],
            "_model_module": "@jupyter-widgets/controls",
            "_model_module_version": "1.5.0",
            "_model_name": "LabelModel",
            "_view_count": null,
            "_view_module": "@jupyter-widgets/controls",
            "_view_module_version": "1.5.0",
            "_view_name": "LabelView",
            "description": "",
            "description_tooltip": null,
            "layout": "IPY_MODEL_24674bfe30014b018d205b781b4ea5b8",
            "placeholder": "​",
            "style": "IPY_MODEL_56009f45f7ce4372b14f86d8273236e6",
            "value": "0.008 MB of 0.008 MB uploaded (0.000 MB deduped)\r"
          }
        },
        "dfac957f3d4b43b3beeee89bc16b7081": {
          "model_module": "@jupyter-widgets/controls",
          "model_name": "FloatProgressModel",
          "model_module_version": "1.5.0",
          "state": {
            "_dom_classes": [],
            "_model_module": "@jupyter-widgets/controls",
            "_model_module_version": "1.5.0",
            "_model_name": "FloatProgressModel",
            "_view_count": null,
            "_view_module": "@jupyter-widgets/controls",
            "_view_module_version": "1.5.0",
            "_view_name": "ProgressView",
            "bar_style": "",
            "description": "",
            "description_tooltip": null,
            "layout": "IPY_MODEL_5dde59adcbf244aba363806ffaf74607",
            "max": 1,
            "min": 0,
            "orientation": "horizontal",
            "style": "IPY_MODEL_3b622de75449459188763c85adbd36ad",
            "value": 1
          }
        },
        "e110d8881e4d466387c288d116624ac1": {
          "model_module": "@jupyter-widgets/base",
          "model_name": "LayoutModel",
          "model_module_version": "1.2.0",
          "state": {
            "_model_module": "@jupyter-widgets/base",
            "_model_module_version": "1.2.0",
            "_model_name": "LayoutModel",
            "_view_count": null,
            "_view_module": "@jupyter-widgets/base",
            "_view_module_version": "1.2.0",
            "_view_name": "LayoutView",
            "align_content": null,
            "align_items": null,
            "align_self": null,
            "border": null,
            "bottom": null,
            "display": null,
            "flex": null,
            "flex_flow": null,
            "grid_area": null,
            "grid_auto_columns": null,
            "grid_auto_flow": null,
            "grid_auto_rows": null,
            "grid_column": null,
            "grid_gap": null,
            "grid_row": null,
            "grid_template_areas": null,
            "grid_template_columns": null,
            "grid_template_rows": null,
            "height": null,
            "justify_content": null,
            "justify_items": null,
            "left": null,
            "margin": null,
            "max_height": null,
            "max_width": null,
            "min_height": null,
            "min_width": null,
            "object_fit": null,
            "object_position": null,
            "order": null,
            "overflow": null,
            "overflow_x": null,
            "overflow_y": null,
            "padding": null,
            "right": null,
            "top": null,
            "visibility": null,
            "width": null
          }
        },
        "24674bfe30014b018d205b781b4ea5b8": {
          "model_module": "@jupyter-widgets/base",
          "model_name": "LayoutModel",
          "model_module_version": "1.2.0",
          "state": {
            "_model_module": "@jupyter-widgets/base",
            "_model_module_version": "1.2.0",
            "_model_name": "LayoutModel",
            "_view_count": null,
            "_view_module": "@jupyter-widgets/base",
            "_view_module_version": "1.2.0",
            "_view_name": "LayoutView",
            "align_content": null,
            "align_items": null,
            "align_self": null,
            "border": null,
            "bottom": null,
            "display": null,
            "flex": null,
            "flex_flow": null,
            "grid_area": null,
            "grid_auto_columns": null,
            "grid_auto_flow": null,
            "grid_auto_rows": null,
            "grid_column": null,
            "grid_gap": null,
            "grid_row": null,
            "grid_template_areas": null,
            "grid_template_columns": null,
            "grid_template_rows": null,
            "height": null,
            "justify_content": null,
            "justify_items": null,
            "left": null,
            "margin": null,
            "max_height": null,
            "max_width": null,
            "min_height": null,
            "min_width": null,
            "object_fit": null,
            "object_position": null,
            "order": null,
            "overflow": null,
            "overflow_x": null,
            "overflow_y": null,
            "padding": null,
            "right": null,
            "top": null,
            "visibility": null,
            "width": null
          }
        },
        "56009f45f7ce4372b14f86d8273236e6": {
          "model_module": "@jupyter-widgets/controls",
          "model_name": "DescriptionStyleModel",
          "model_module_version": "1.5.0",
          "state": {
            "_model_module": "@jupyter-widgets/controls",
            "_model_module_version": "1.5.0",
            "_model_name": "DescriptionStyleModel",
            "_view_count": null,
            "_view_module": "@jupyter-widgets/base",
            "_view_module_version": "1.2.0",
            "_view_name": "StyleView",
            "description_width": ""
          }
        },
        "5dde59adcbf244aba363806ffaf74607": {
          "model_module": "@jupyter-widgets/base",
          "model_name": "LayoutModel",
          "model_module_version": "1.2.0",
          "state": {
            "_model_module": "@jupyter-widgets/base",
            "_model_module_version": "1.2.0",
            "_model_name": "LayoutModel",
            "_view_count": null,
            "_view_module": "@jupyter-widgets/base",
            "_view_module_version": "1.2.0",
            "_view_name": "LayoutView",
            "align_content": null,
            "align_items": null,
            "align_self": null,
            "border": null,
            "bottom": null,
            "display": null,
            "flex": null,
            "flex_flow": null,
            "grid_area": null,
            "grid_auto_columns": null,
            "grid_auto_flow": null,
            "grid_auto_rows": null,
            "grid_column": null,
            "grid_gap": null,
            "grid_row": null,
            "grid_template_areas": null,
            "grid_template_columns": null,
            "grid_template_rows": null,
            "height": null,
            "justify_content": null,
            "justify_items": null,
            "left": null,
            "margin": null,
            "max_height": null,
            "max_width": null,
            "min_height": null,
            "min_width": null,
            "object_fit": null,
            "object_position": null,
            "order": null,
            "overflow": null,
            "overflow_x": null,
            "overflow_y": null,
            "padding": null,
            "right": null,
            "top": null,
            "visibility": null,
            "width": null
          }
        },
        "3b622de75449459188763c85adbd36ad": {
          "model_module": "@jupyter-widgets/controls",
          "model_name": "ProgressStyleModel",
          "model_module_version": "1.5.0",
          "state": {
            "_model_module": "@jupyter-widgets/controls",
            "_model_module_version": "1.5.0",
            "_model_name": "ProgressStyleModel",
            "_view_count": null,
            "_view_module": "@jupyter-widgets/base",
            "_view_module_version": "1.2.0",
            "_view_name": "StyleView",
            "bar_color": null,
            "description_width": ""
          }
        },
        "e9b68bd74eb94512afa2fc9e052004ce": {
          "model_module": "@jupyter-widgets/controls",
          "model_name": "VBoxModel",
          "model_module_version": "1.5.0",
          "state": {
            "_dom_classes": [],
            "_model_module": "@jupyter-widgets/controls",
            "_model_module_version": "1.5.0",
            "_model_name": "VBoxModel",
            "_view_count": null,
            "_view_module": "@jupyter-widgets/controls",
            "_view_module_version": "1.5.0",
            "_view_name": "VBoxView",
            "box_style": "",
            "children": [
              "IPY_MODEL_642acd73d99c470a99c17d685f0b7704",
              "IPY_MODEL_e34f38da777d4eed844352c69287c5d0"
            ],
            "layout": "IPY_MODEL_99db2784438e4525aa6f63a7327f21e9"
          }
        },
        "642acd73d99c470a99c17d685f0b7704": {
          "model_module": "@jupyter-widgets/controls",
          "model_name": "LabelModel",
          "model_module_version": "1.5.0",
          "state": {
            "_dom_classes": [],
            "_model_module": "@jupyter-widgets/controls",
            "_model_module_version": "1.5.0",
            "_model_name": "LabelModel",
            "_view_count": null,
            "_view_module": "@jupyter-widgets/controls",
            "_view_module_version": "1.5.0",
            "_view_name": "LabelView",
            "description": "",
            "description_tooltip": null,
            "layout": "IPY_MODEL_ea37187ae765457eb09295a54c5e7365",
            "placeholder": "​",
            "style": "IPY_MODEL_455e69ec3bb64becaed1dec637e1b2bc",
            "value": "0.008 MB of 0.008 MB uploaded (0.000 MB deduped)\r"
          }
        },
        "e34f38da777d4eed844352c69287c5d0": {
          "model_module": "@jupyter-widgets/controls",
          "model_name": "FloatProgressModel",
          "model_module_version": "1.5.0",
          "state": {
            "_dom_classes": [],
            "_model_module": "@jupyter-widgets/controls",
            "_model_module_version": "1.5.0",
            "_model_name": "FloatProgressModel",
            "_view_count": null,
            "_view_module": "@jupyter-widgets/controls",
            "_view_module_version": "1.5.0",
            "_view_name": "ProgressView",
            "bar_style": "",
            "description": "",
            "description_tooltip": null,
            "layout": "IPY_MODEL_bc255094fc244b6bb5ebbcc5b180ab74",
            "max": 1,
            "min": 0,
            "orientation": "horizontal",
            "style": "IPY_MODEL_82f5b3b2a66c4bd9a977a41dca5a2fcb",
            "value": 1
          }
        },
        "99db2784438e4525aa6f63a7327f21e9": {
          "model_module": "@jupyter-widgets/base",
          "model_name": "LayoutModel",
          "model_module_version": "1.2.0",
          "state": {
            "_model_module": "@jupyter-widgets/base",
            "_model_module_version": "1.2.0",
            "_model_name": "LayoutModel",
            "_view_count": null,
            "_view_module": "@jupyter-widgets/base",
            "_view_module_version": "1.2.0",
            "_view_name": "LayoutView",
            "align_content": null,
            "align_items": null,
            "align_self": null,
            "border": null,
            "bottom": null,
            "display": null,
            "flex": null,
            "flex_flow": null,
            "grid_area": null,
            "grid_auto_columns": null,
            "grid_auto_flow": null,
            "grid_auto_rows": null,
            "grid_column": null,
            "grid_gap": null,
            "grid_row": null,
            "grid_template_areas": null,
            "grid_template_columns": null,
            "grid_template_rows": null,
            "height": null,
            "justify_content": null,
            "justify_items": null,
            "left": null,
            "margin": null,
            "max_height": null,
            "max_width": null,
            "min_height": null,
            "min_width": null,
            "object_fit": null,
            "object_position": null,
            "order": null,
            "overflow": null,
            "overflow_x": null,
            "overflow_y": null,
            "padding": null,
            "right": null,
            "top": null,
            "visibility": null,
            "width": null
          }
        },
        "ea37187ae765457eb09295a54c5e7365": {
          "model_module": "@jupyter-widgets/base",
          "model_name": "LayoutModel",
          "model_module_version": "1.2.0",
          "state": {
            "_model_module": "@jupyter-widgets/base",
            "_model_module_version": "1.2.0",
            "_model_name": "LayoutModel",
            "_view_count": null,
            "_view_module": "@jupyter-widgets/base",
            "_view_module_version": "1.2.0",
            "_view_name": "LayoutView",
            "align_content": null,
            "align_items": null,
            "align_self": null,
            "border": null,
            "bottom": null,
            "display": null,
            "flex": null,
            "flex_flow": null,
            "grid_area": null,
            "grid_auto_columns": null,
            "grid_auto_flow": null,
            "grid_auto_rows": null,
            "grid_column": null,
            "grid_gap": null,
            "grid_row": null,
            "grid_template_areas": null,
            "grid_template_columns": null,
            "grid_template_rows": null,
            "height": null,
            "justify_content": null,
            "justify_items": null,
            "left": null,
            "margin": null,
            "max_height": null,
            "max_width": null,
            "min_height": null,
            "min_width": null,
            "object_fit": null,
            "object_position": null,
            "order": null,
            "overflow": null,
            "overflow_x": null,
            "overflow_y": null,
            "padding": null,
            "right": null,
            "top": null,
            "visibility": null,
            "width": null
          }
        },
        "455e69ec3bb64becaed1dec637e1b2bc": {
          "model_module": "@jupyter-widgets/controls",
          "model_name": "DescriptionStyleModel",
          "model_module_version": "1.5.0",
          "state": {
            "_model_module": "@jupyter-widgets/controls",
            "_model_module_version": "1.5.0",
            "_model_name": "DescriptionStyleModel",
            "_view_count": null,
            "_view_module": "@jupyter-widgets/base",
            "_view_module_version": "1.2.0",
            "_view_name": "StyleView",
            "description_width": ""
          }
        },
        "bc255094fc244b6bb5ebbcc5b180ab74": {
          "model_module": "@jupyter-widgets/base",
          "model_name": "LayoutModel",
          "model_module_version": "1.2.0",
          "state": {
            "_model_module": "@jupyter-widgets/base",
            "_model_module_version": "1.2.0",
            "_model_name": "LayoutModel",
            "_view_count": null,
            "_view_module": "@jupyter-widgets/base",
            "_view_module_version": "1.2.0",
            "_view_name": "LayoutView",
            "align_content": null,
            "align_items": null,
            "align_self": null,
            "border": null,
            "bottom": null,
            "display": null,
            "flex": null,
            "flex_flow": null,
            "grid_area": null,
            "grid_auto_columns": null,
            "grid_auto_flow": null,
            "grid_auto_rows": null,
            "grid_column": null,
            "grid_gap": null,
            "grid_row": null,
            "grid_template_areas": null,
            "grid_template_columns": null,
            "grid_template_rows": null,
            "height": null,
            "justify_content": null,
            "justify_items": null,
            "left": null,
            "margin": null,
            "max_height": null,
            "max_width": null,
            "min_height": null,
            "min_width": null,
            "object_fit": null,
            "object_position": null,
            "order": null,
            "overflow": null,
            "overflow_x": null,
            "overflow_y": null,
            "padding": null,
            "right": null,
            "top": null,
            "visibility": null,
            "width": null
          }
        },
        "82f5b3b2a66c4bd9a977a41dca5a2fcb": {
          "model_module": "@jupyter-widgets/controls",
          "model_name": "ProgressStyleModel",
          "model_module_version": "1.5.0",
          "state": {
            "_model_module": "@jupyter-widgets/controls",
            "_model_module_version": "1.5.0",
            "_model_name": "ProgressStyleModel",
            "_view_count": null,
            "_view_module": "@jupyter-widgets/base",
            "_view_module_version": "1.2.0",
            "_view_name": "StyleView",
            "bar_color": null,
            "description_width": ""
          }
        },
        "789ca682cc164fe9be5a63f1226bf47a": {
          "model_module": "@jupyter-widgets/controls",
          "model_name": "VBoxModel",
          "model_module_version": "1.5.0",
          "state": {
            "_dom_classes": [],
            "_model_module": "@jupyter-widgets/controls",
            "_model_module_version": "1.5.0",
            "_model_name": "VBoxModel",
            "_view_count": null,
            "_view_module": "@jupyter-widgets/controls",
            "_view_module_version": "1.5.0",
            "_view_name": "VBoxView",
            "box_style": "",
            "children": [
              "IPY_MODEL_30d5335d53814da2b4244ea3e7d511fb",
              "IPY_MODEL_8c6d9a0e02d9403b9bbb63ec6ce9e513"
            ],
            "layout": "IPY_MODEL_2e3788cccf2a4b84bd7d5a59c03c42a5"
          }
        },
        "30d5335d53814da2b4244ea3e7d511fb": {
          "model_module": "@jupyter-widgets/controls",
          "model_name": "LabelModel",
          "model_module_version": "1.5.0",
          "state": {
            "_dom_classes": [],
            "_model_module": "@jupyter-widgets/controls",
            "_model_module_version": "1.5.0",
            "_model_name": "LabelModel",
            "_view_count": null,
            "_view_module": "@jupyter-widgets/controls",
            "_view_module_version": "1.5.0",
            "_view_name": "LabelView",
            "description": "",
            "description_tooltip": null,
            "layout": "IPY_MODEL_685ee2fe32fb4ae08aefa144f8738f16",
            "placeholder": "​",
            "style": "IPY_MODEL_07be9fb8d14944cc855b289d695fe00b",
            "value": "0.008 MB of 0.008 MB uploaded (0.000 MB deduped)\r"
          }
        },
        "8c6d9a0e02d9403b9bbb63ec6ce9e513": {
          "model_module": "@jupyter-widgets/controls",
          "model_name": "FloatProgressModel",
          "model_module_version": "1.5.0",
          "state": {
            "_dom_classes": [],
            "_model_module": "@jupyter-widgets/controls",
            "_model_module_version": "1.5.0",
            "_model_name": "FloatProgressModel",
            "_view_count": null,
            "_view_module": "@jupyter-widgets/controls",
            "_view_module_version": "1.5.0",
            "_view_name": "ProgressView",
            "bar_style": "",
            "description": "",
            "description_tooltip": null,
            "layout": "IPY_MODEL_27dd8676102f4a34adc321360ad7c16e",
            "max": 1,
            "min": 0,
            "orientation": "horizontal",
            "style": "IPY_MODEL_3166e54e4f994c848e76435a1962f441",
            "value": 1
          }
        },
        "2e3788cccf2a4b84bd7d5a59c03c42a5": {
          "model_module": "@jupyter-widgets/base",
          "model_name": "LayoutModel",
          "model_module_version": "1.2.0",
          "state": {
            "_model_module": "@jupyter-widgets/base",
            "_model_module_version": "1.2.0",
            "_model_name": "LayoutModel",
            "_view_count": null,
            "_view_module": "@jupyter-widgets/base",
            "_view_module_version": "1.2.0",
            "_view_name": "LayoutView",
            "align_content": null,
            "align_items": null,
            "align_self": null,
            "border": null,
            "bottom": null,
            "display": null,
            "flex": null,
            "flex_flow": null,
            "grid_area": null,
            "grid_auto_columns": null,
            "grid_auto_flow": null,
            "grid_auto_rows": null,
            "grid_column": null,
            "grid_gap": null,
            "grid_row": null,
            "grid_template_areas": null,
            "grid_template_columns": null,
            "grid_template_rows": null,
            "height": null,
            "justify_content": null,
            "justify_items": null,
            "left": null,
            "margin": null,
            "max_height": null,
            "max_width": null,
            "min_height": null,
            "min_width": null,
            "object_fit": null,
            "object_position": null,
            "order": null,
            "overflow": null,
            "overflow_x": null,
            "overflow_y": null,
            "padding": null,
            "right": null,
            "top": null,
            "visibility": null,
            "width": null
          }
        },
        "685ee2fe32fb4ae08aefa144f8738f16": {
          "model_module": "@jupyter-widgets/base",
          "model_name": "LayoutModel",
          "model_module_version": "1.2.0",
          "state": {
            "_model_module": "@jupyter-widgets/base",
            "_model_module_version": "1.2.0",
            "_model_name": "LayoutModel",
            "_view_count": null,
            "_view_module": "@jupyter-widgets/base",
            "_view_module_version": "1.2.0",
            "_view_name": "LayoutView",
            "align_content": null,
            "align_items": null,
            "align_self": null,
            "border": null,
            "bottom": null,
            "display": null,
            "flex": null,
            "flex_flow": null,
            "grid_area": null,
            "grid_auto_columns": null,
            "grid_auto_flow": null,
            "grid_auto_rows": null,
            "grid_column": null,
            "grid_gap": null,
            "grid_row": null,
            "grid_template_areas": null,
            "grid_template_columns": null,
            "grid_template_rows": null,
            "height": null,
            "justify_content": null,
            "justify_items": null,
            "left": null,
            "margin": null,
            "max_height": null,
            "max_width": null,
            "min_height": null,
            "min_width": null,
            "object_fit": null,
            "object_position": null,
            "order": null,
            "overflow": null,
            "overflow_x": null,
            "overflow_y": null,
            "padding": null,
            "right": null,
            "top": null,
            "visibility": null,
            "width": null
          }
        },
        "07be9fb8d14944cc855b289d695fe00b": {
          "model_module": "@jupyter-widgets/controls",
          "model_name": "DescriptionStyleModel",
          "model_module_version": "1.5.0",
          "state": {
            "_model_module": "@jupyter-widgets/controls",
            "_model_module_version": "1.5.0",
            "_model_name": "DescriptionStyleModel",
            "_view_count": null,
            "_view_module": "@jupyter-widgets/base",
            "_view_module_version": "1.2.0",
            "_view_name": "StyleView",
            "description_width": ""
          }
        },
        "27dd8676102f4a34adc321360ad7c16e": {
          "model_module": "@jupyter-widgets/base",
          "model_name": "LayoutModel",
          "model_module_version": "1.2.0",
          "state": {
            "_model_module": "@jupyter-widgets/base",
            "_model_module_version": "1.2.0",
            "_model_name": "LayoutModel",
            "_view_count": null,
            "_view_module": "@jupyter-widgets/base",
            "_view_module_version": "1.2.0",
            "_view_name": "LayoutView",
            "align_content": null,
            "align_items": null,
            "align_self": null,
            "border": null,
            "bottom": null,
            "display": null,
            "flex": null,
            "flex_flow": null,
            "grid_area": null,
            "grid_auto_columns": null,
            "grid_auto_flow": null,
            "grid_auto_rows": null,
            "grid_column": null,
            "grid_gap": null,
            "grid_row": null,
            "grid_template_areas": null,
            "grid_template_columns": null,
            "grid_template_rows": null,
            "height": null,
            "justify_content": null,
            "justify_items": null,
            "left": null,
            "margin": null,
            "max_height": null,
            "max_width": null,
            "min_height": null,
            "min_width": null,
            "object_fit": null,
            "object_position": null,
            "order": null,
            "overflow": null,
            "overflow_x": null,
            "overflow_y": null,
            "padding": null,
            "right": null,
            "top": null,
            "visibility": null,
            "width": null
          }
        },
        "3166e54e4f994c848e76435a1962f441": {
          "model_module": "@jupyter-widgets/controls",
          "model_name": "ProgressStyleModel",
          "model_module_version": "1.5.0",
          "state": {
            "_model_module": "@jupyter-widgets/controls",
            "_model_module_version": "1.5.0",
            "_model_name": "ProgressStyleModel",
            "_view_count": null,
            "_view_module": "@jupyter-widgets/base",
            "_view_module_version": "1.2.0",
            "_view_name": "StyleView",
            "bar_color": null,
            "description_width": ""
          }
        },
        "04d61367495149c48ef33d556af340a6": {
          "model_module": "@jupyter-widgets/controls",
          "model_name": "VBoxModel",
          "model_module_version": "1.5.0",
          "state": {
            "_dom_classes": [],
            "_model_module": "@jupyter-widgets/controls",
            "_model_module_version": "1.5.0",
            "_model_name": "VBoxModel",
            "_view_count": null,
            "_view_module": "@jupyter-widgets/controls",
            "_view_module_version": "1.5.0",
            "_view_name": "VBoxView",
            "box_style": "",
            "children": [
              "IPY_MODEL_7ea447db634942e2a4c7575b5db2e75e",
              "IPY_MODEL_360b00a21db0426f806abe0102acb29c"
            ],
            "layout": "IPY_MODEL_466ed2ebbd37483f8da76deaab339d05"
          }
        },
        "7ea447db634942e2a4c7575b5db2e75e": {
          "model_module": "@jupyter-widgets/controls",
          "model_name": "LabelModel",
          "model_module_version": "1.5.0",
          "state": {
            "_dom_classes": [],
            "_model_module": "@jupyter-widgets/controls",
            "_model_module_version": "1.5.0",
            "_model_name": "LabelModel",
            "_view_count": null,
            "_view_module": "@jupyter-widgets/controls",
            "_view_module_version": "1.5.0",
            "_view_name": "LabelView",
            "description": "",
            "description_tooltip": null,
            "layout": "IPY_MODEL_f489472bf08149b9afa7ed1fc3c95591",
            "placeholder": "​",
            "style": "IPY_MODEL_83824852e6be466db356b9ac06f10479",
            "value": "0.026 MB of 0.026 MB uploaded (0.000 MB deduped)\r"
          }
        },
        "360b00a21db0426f806abe0102acb29c": {
          "model_module": "@jupyter-widgets/controls",
          "model_name": "FloatProgressModel",
          "model_module_version": "1.5.0",
          "state": {
            "_dom_classes": [],
            "_model_module": "@jupyter-widgets/controls",
            "_model_module_version": "1.5.0",
            "_model_name": "FloatProgressModel",
            "_view_count": null,
            "_view_module": "@jupyter-widgets/controls",
            "_view_module_version": "1.5.0",
            "_view_name": "ProgressView",
            "bar_style": "",
            "description": "",
            "description_tooltip": null,
            "layout": "IPY_MODEL_c63c208eead64e2c9a24413793c6aba4",
            "max": 1,
            "min": 0,
            "orientation": "horizontal",
            "style": "IPY_MODEL_f6868c2e369146bd94d7c939ac01c016",
            "value": 1
          }
        },
        "466ed2ebbd37483f8da76deaab339d05": {
          "model_module": "@jupyter-widgets/base",
          "model_name": "LayoutModel",
          "model_module_version": "1.2.0",
          "state": {
            "_model_module": "@jupyter-widgets/base",
            "_model_module_version": "1.2.0",
            "_model_name": "LayoutModel",
            "_view_count": null,
            "_view_module": "@jupyter-widgets/base",
            "_view_module_version": "1.2.0",
            "_view_name": "LayoutView",
            "align_content": null,
            "align_items": null,
            "align_self": null,
            "border": null,
            "bottom": null,
            "display": null,
            "flex": null,
            "flex_flow": null,
            "grid_area": null,
            "grid_auto_columns": null,
            "grid_auto_flow": null,
            "grid_auto_rows": null,
            "grid_column": null,
            "grid_gap": null,
            "grid_row": null,
            "grid_template_areas": null,
            "grid_template_columns": null,
            "grid_template_rows": null,
            "height": null,
            "justify_content": null,
            "justify_items": null,
            "left": null,
            "margin": null,
            "max_height": null,
            "max_width": null,
            "min_height": null,
            "min_width": null,
            "object_fit": null,
            "object_position": null,
            "order": null,
            "overflow": null,
            "overflow_x": null,
            "overflow_y": null,
            "padding": null,
            "right": null,
            "top": null,
            "visibility": null,
            "width": null
          }
        },
        "f489472bf08149b9afa7ed1fc3c95591": {
          "model_module": "@jupyter-widgets/base",
          "model_name": "LayoutModel",
          "model_module_version": "1.2.0",
          "state": {
            "_model_module": "@jupyter-widgets/base",
            "_model_module_version": "1.2.0",
            "_model_name": "LayoutModel",
            "_view_count": null,
            "_view_module": "@jupyter-widgets/base",
            "_view_module_version": "1.2.0",
            "_view_name": "LayoutView",
            "align_content": null,
            "align_items": null,
            "align_self": null,
            "border": null,
            "bottom": null,
            "display": null,
            "flex": null,
            "flex_flow": null,
            "grid_area": null,
            "grid_auto_columns": null,
            "grid_auto_flow": null,
            "grid_auto_rows": null,
            "grid_column": null,
            "grid_gap": null,
            "grid_row": null,
            "grid_template_areas": null,
            "grid_template_columns": null,
            "grid_template_rows": null,
            "height": null,
            "justify_content": null,
            "justify_items": null,
            "left": null,
            "margin": null,
            "max_height": null,
            "max_width": null,
            "min_height": null,
            "min_width": null,
            "object_fit": null,
            "object_position": null,
            "order": null,
            "overflow": null,
            "overflow_x": null,
            "overflow_y": null,
            "padding": null,
            "right": null,
            "top": null,
            "visibility": null,
            "width": null
          }
        },
        "83824852e6be466db356b9ac06f10479": {
          "model_module": "@jupyter-widgets/controls",
          "model_name": "DescriptionStyleModel",
          "model_module_version": "1.5.0",
          "state": {
            "_model_module": "@jupyter-widgets/controls",
            "_model_module_version": "1.5.0",
            "_model_name": "DescriptionStyleModel",
            "_view_count": null,
            "_view_module": "@jupyter-widgets/base",
            "_view_module_version": "1.2.0",
            "_view_name": "StyleView",
            "description_width": ""
          }
        },
        "c63c208eead64e2c9a24413793c6aba4": {
          "model_module": "@jupyter-widgets/base",
          "model_name": "LayoutModel",
          "model_module_version": "1.2.0",
          "state": {
            "_model_module": "@jupyter-widgets/base",
            "_model_module_version": "1.2.0",
            "_model_name": "LayoutModel",
            "_view_count": null,
            "_view_module": "@jupyter-widgets/base",
            "_view_module_version": "1.2.0",
            "_view_name": "LayoutView",
            "align_content": null,
            "align_items": null,
            "align_self": null,
            "border": null,
            "bottom": null,
            "display": null,
            "flex": null,
            "flex_flow": null,
            "grid_area": null,
            "grid_auto_columns": null,
            "grid_auto_flow": null,
            "grid_auto_rows": null,
            "grid_column": null,
            "grid_gap": null,
            "grid_row": null,
            "grid_template_areas": null,
            "grid_template_columns": null,
            "grid_template_rows": null,
            "height": null,
            "justify_content": null,
            "justify_items": null,
            "left": null,
            "margin": null,
            "max_height": null,
            "max_width": null,
            "min_height": null,
            "min_width": null,
            "object_fit": null,
            "object_position": null,
            "order": null,
            "overflow": null,
            "overflow_x": null,
            "overflow_y": null,
            "padding": null,
            "right": null,
            "top": null,
            "visibility": null,
            "width": null
          }
        },
        "f6868c2e369146bd94d7c939ac01c016": {
          "model_module": "@jupyter-widgets/controls",
          "model_name": "ProgressStyleModel",
          "model_module_version": "1.5.0",
          "state": {
            "_model_module": "@jupyter-widgets/controls",
            "_model_module_version": "1.5.0",
            "_model_name": "ProgressStyleModel",
            "_view_count": null,
            "_view_module": "@jupyter-widgets/base",
            "_view_module_version": "1.2.0",
            "_view_name": "StyleView",
            "bar_color": null,
            "description_width": ""
          }
        }
      }
    }
  },
  "cells": [
    {
      "cell_type": "markdown",
      "metadata": {
        "id": "0I4pgzLVtBTP"
      },
      "source": [
        "# 1.0 An end-to-end classification problem (Training)\n",
        "\n"
      ]
    },
    {
      "cell_type": "markdown",
      "metadata": {
        "id": "Dh34gim6KPtT"
      },
      "source": [
        "## 1.1 Dataset description"
      ]
    },
    {
      "cell_type": "markdown",
      "metadata": {
        "id": "iE8OJoDZ5AFK"
      },
      "source": [
        "The notebooks focus on a borrower's **credit modeling problem**. The database was downloaded through a dataquest project and is available at link below. The data is from **Lending Club** and contains data from loans made in the period **2007 to 2011**. Lending Club is a marketplace for personal loans that matches borrowers who are seeking a loan with investors looking to lend money and make a return. The **target variable**, or what we are wanting to predict, is whether or not, given a person's history, they will repay the loan.\n",
        "\n",
        "You can download the data from the [Kaggle](https://www.kaggle.com/datasets/samaxtech/lending-club-20072011-data).\n",
        "\n",
        "Let's take the following steps:\n",
        "\n",
        "1. ETL (done)\n",
        "2. Data Checks (done)\n",
        "3. Data Segregation (done)\n",
        "4. Training"
      ]
    },
    {
      "cell_type": "markdown",
      "metadata": {
        "id": "7UpxKxU1Ej7f"
      },
      "source": [
        "## 1.2 Install, load libraries"
      ]
    },
    {
      "cell_type": "code",
      "execution_count": null,
      "metadata": {
        "id": "t82KewAPWCYe"
      },
      "outputs": [],
      "source": [
        "!pip install wandb"
      ]
    },
    {
      "cell_type": "code",
      "source": [
        "import logging\n",
        "import wandb\n",
        "import pandas as pd\n",
        "import numpy as np\n",
        "import joblib\n",
        "import matplotlib.pyplot as plt\n",
        "from sklearn.model_selection import train_test_split\n",
        "from sklearn.neighbors import LocalOutlierFactor\n",
        "from sklearn.preprocessing import LabelEncoder\n",
        "from sklearn.preprocessing import OneHotEncoder\n",
        "from sklearn.base import BaseEstimator, TransformerMixin\n",
        "from sklearn.preprocessing import MinMaxScaler\n",
        "from sklearn.preprocessing import StandardScaler\n",
        "from sklearn.preprocessing import OneHotEncoder\n",
        "from sklearn.pipeline import Pipeline, FeatureUnion\n",
        "from sklearn.tree import DecisionTreeClassifier\n",
        "from sklearn.impute import SimpleImputer\n",
        "from sklearn.metrics import fbeta_score, precision_score, recall_score, accuracy_score\n",
        "from sklearn.metrics import classification_report\n",
        "from sklearn.metrics import confusion_matrix\n",
        "from sklearn.metrics import ConfusionMatrixDisplay"
      ],
      "metadata": {
        "id": "NreRnbvI8lL5"
      },
      "execution_count": null,
      "outputs": []
    },
    {
      "cell_type": "code",
      "source": [
        "# Login to Weights & Biases\n",
        "!wandb login --relogin"
      ],
      "metadata": {
        "id": "QZXcN54GkP25",
        "colab": {
          "base_uri": "https://localhost:8080/"
        },
        "outputId": "d1b1a6be-2d68-4b51-8cb9-90cf2bb978ae"
      },
      "execution_count": null,
      "outputs": [
        {
          "output_type": "stream",
          "name": "stdout",
          "text": [
            "\u001b[34m\u001b[1mwandb\u001b[0m: You can find your API key in your browser here: https://wandb.ai/authorize\n",
            "\u001b[34m\u001b[1mwandb\u001b[0m: Paste an API key from your profile and hit enter, or press ctrl+c to quit: \n",
            "\u001b[34m\u001b[1mwandb\u001b[0m: Appending key for api.wandb.ai to your netrc file: /root/.netrc\n"
          ]
        }
      ]
    },
    {
      "cell_type": "markdown",
      "source": [
        "## 1.3 Holdout Configuration"
      ],
      "metadata": {
        "id": "BeMVUzr08AK8"
      }
    },
    {
      "cell_type": "code",
      "source": [
        "# global variables\n",
        "\n",
        "# ratio used to split train and validation data\n",
        "val_size = 0.30\n",
        "\n",
        "# seed used to reproduce purposes\n",
        "seed = 41\n",
        "\n",
        "# reference (column) to stratify the data\n",
        "stratify = \"loan_status\"\n",
        "\n",
        "# name of the input artifact\n",
        "artifact_input_name = \"risk_credit/train.csv:latest\"\n",
        "\n",
        "# type of the artifact\n",
        "artifact_type = \"Train\""
      ],
      "metadata": {
        "id": "sZzaS0x8ZYUB"
      },
      "execution_count": null,
      "outputs": []
    },
    {
      "cell_type": "code",
      "source": [
        "# configure logging\n",
        "logging.basicConfig(level=logging.INFO,\n",
        "                    format=\"%(asctime)s %(message)s\",\n",
        "                    datefmt='%d-%m-%Y %H:%M:%S')\n",
        "\n",
        "# reference for a logging obj\n",
        "logger = logging.getLogger()\n",
        "\n",
        "# initiate the wandb project\n",
        "run = wandb.init(project=\"risk_credit\",job_type=\"train\")\n",
        "\n",
        "logger.info(\"Downloading and reading train artifact\")\n",
        "local_path = run.use_artifact(artifact_input_name).file()\n",
        "df_train = pd.read_csv(local_path)\n",
        "\n",
        "# Spliting train.csv into train and validation dataset\n",
        "logger.info(\"Spliting data into train/val\")\n",
        "# split-out train/validation and test dataset\n",
        "x_train, x_val, y_train, y_val = train_test_split(df_train.drop(labels=stratify,axis=1),\n",
        "                                                  df_train[stratify],\n",
        "                                                  test_size=val_size,\n",
        "                                                  random_state=seed,\n",
        "                                                  shuffle=True,\n",
        "                                                  stratify=df_train[stratify])"
      ],
      "metadata": {
        "id": "VILw-BwKY2Wn",
        "colab": {
          "base_uri": "https://localhost:8080/"
        },
        "outputId": "1b4f2e48-d5f5-4fe9-c21d-121d19189214"
      },
      "execution_count": null,
      "outputs": [
        {
          "output_type": "stream",
          "name": "stderr",
          "text": [
            "\u001b[34m\u001b[1mwandb\u001b[0m: Currently logged in as: \u001b[33mmorsinaldo\u001b[0m. Use \u001b[1m`wandb login --relogin`\u001b[0m to force relogin\n"
          ]
        },
        {
          "output_type": "display_data",
          "data": {
            "text/plain": [
              "<IPython.core.display.HTML object>"
            ],
            "text/html": [
              "Tracking run with wandb version 0.12.17"
            ]
          },
          "metadata": {}
        },
        {
          "output_type": "display_data",
          "data": {
            "text/plain": [
              "<IPython.core.display.HTML object>"
            ],
            "text/html": [
              "Run data is saved locally in <code>/content/wandb/run-20220529_003835-2o9yiu92</code>"
            ]
          },
          "metadata": {}
        },
        {
          "output_type": "display_data",
          "data": {
            "text/plain": [
              "<IPython.core.display.HTML object>"
            ],
            "text/html": [
              "Syncing run <strong><a href=\"https://wandb.ai/morsinaldo/risk_credit/runs/2o9yiu92\" target=\"_blank\">vital-donkey-92</a></strong> to <a href=\"https://wandb.ai/morsinaldo/risk_credit\" target=\"_blank\">Weights & Biases</a> (<a href=\"https://wandb.me/run\" target=\"_blank\">docs</a>)<br/>"
            ]
          },
          "metadata": {}
        },
        {
          "output_type": "stream",
          "name": "stderr",
          "text": [
            "29-05-2022 00:38:40 Downloading and reading train artifact\n",
            "29-05-2022 00:38:40 Spliting data into train/val\n"
          ]
        }
      ]
    },
    {
      "cell_type": "code",
      "source": [
        "logger.info(\"x train: {}\".format(x_train.shape))\n",
        "logger.info(\"y train: {}\".format(y_train.shape))\n",
        "logger.info(\"x val: {}\".format(x_val.shape))\n",
        "logger.info(\"y val: {}\".format(y_val.shape))"
      ],
      "metadata": {
        "id": "VOFF72bq9QoB",
        "colab": {
          "base_uri": "https://localhost:8080/"
        },
        "outputId": "cce4de0e-8531-4068-ac0e-6d927bbba53a"
      },
      "execution_count": null,
      "outputs": [
        {
          "output_type": "stream",
          "name": "stderr",
          "text": [
            "29-05-2022 00:38:40 x train: (18460, 17)\n",
            "29-05-2022 00:38:40 y train: (18460,)\n",
            "29-05-2022 00:38:40 x val: (7912, 17)\n",
            "29-05-2022 00:38:40 y val: (7912,)\n"
          ]
        }
      ]
    },
    {
      "cell_type": "markdown",
      "source": [
        "## 1.4 Data preparation"
      ],
      "metadata": {
        "id": "PcqOxTYQ4z3D"
      }
    },
    {
      "cell_type": "markdown",
      "source": [
        "### 1.4.1 Outlier Removal"
      ],
      "metadata": {
        "id": "tt9AnGT3922Q"
      }
    },
    {
      "cell_type": "code",
      "source": [
        "logger.info(\"Outlier Removal\")\n",
        "# temporary variable\n",
        "x = x_train.select_dtypes(\"float64\").copy()\n",
        "\n",
        "# identify outlier in the dataset\n",
        "lof = LocalOutlierFactor()\n",
        "outlier = lof.fit_predict(x)\n",
        "mask = outlier != -1"
      ],
      "metadata": {
        "id": "KRvgo0Ol9sPL",
        "colab": {
          "base_uri": "https://localhost:8080/"
        },
        "outputId": "ba05c584-f490-4708-dc61-2a5b8ef78d43"
      },
      "execution_count": null,
      "outputs": [
        {
          "output_type": "stream",
          "name": "stderr",
          "text": [
            "29-05-2022 00:38:43 Outlier Removal\n"
          ]
        }
      ]
    },
    {
      "cell_type": "code",
      "source": [
        "logger.info(\"x_train shape [original]: {}\".format(x_train.shape))\n",
        "logger.info(\"x_train shape [outlier removal]: {}\".format(x_train.loc[mask,:].shape))"
      ],
      "metadata": {
        "id": "A2Y4UgfA9-kn",
        "colab": {
          "base_uri": "https://localhost:8080/"
        },
        "outputId": "ca9bce4d-efd1-4aee-b0e5-f3816a3988ea"
      },
      "execution_count": null,
      "outputs": [
        {
          "output_type": "stream",
          "name": "stderr",
          "text": [
            "29-05-2022 00:38:43 x_train shape [original]: (18460, 17)\n",
            "29-05-2022 00:38:43 x_train shape [outlier removal]: (18431, 17)\n"
          ]
        }
      ]
    },
    {
      "cell_type": "code",
      "source": [
        "# AVOID data leakage and you should not do this procedure in the preprocessing stage\n",
        "# Note that we did not perform this procedure in the validation set\n",
        "x_train = x_train.loc[mask,:].copy()\n",
        "y_train = y_train[mask].copy()"
      ],
      "metadata": {
        "id": "TD1yG61E9_xK"
      },
      "execution_count": null,
      "outputs": []
    },
    {
      "cell_type": "markdown",
      "source": [
        "### 1.4.2 Encoding Target Variable"
      ],
      "metadata": {
        "id": "EEKvM3qL_3Hb"
      }
    },
    {
      "cell_type": "code",
      "source": [
        "y_train.head(10)"
      ],
      "metadata": {
        "id": "coxDBYZ5Dv4_",
        "colab": {
          "base_uri": "https://localhost:8080/"
        },
        "outputId": "08b91749-4616-4189-87ba-9319065b317f"
      },
      "execution_count": null,
      "outputs": [
        {
          "output_type": "execute_result",
          "data": {
            "text/plain": [
              "5525     Fully Paid\n",
              "19011    Fully Paid\n",
              "20964    Fully Paid\n",
              "20533    Fully Paid\n",
              "8244     Fully Paid\n",
              "8138     Fully Paid\n",
              "12371    Fully Paid\n",
              "3891     Fully Paid\n",
              "21678    Fully Paid\n",
              "5197     Fully Paid\n",
              "Name: loan_status, dtype: object"
            ]
          },
          "metadata": {},
          "execution_count": 10
        }
      ]
    },
    {
      "cell_type": "code",
      "source": [
        "logger.info(\"Encoding Target Variable\")\n",
        "# define a categorical encoding for target variable\n",
        "le = LabelEncoder()\n",
        "\n",
        "# fit and transform y_train\n",
        "y_train = le.fit_transform(y_train)\n",
        "\n",
        "# transform y_test (avoiding data leakage)\n",
        "y_val = le.transform(y_val)\n",
        "\n",
        "logger.info(\"Classes [0, 1]: {}\".format(le.inverse_transform([0, 1])))"
      ],
      "metadata": {
        "id": "hGToiv4198vq",
        "colab": {
          "base_uri": "https://localhost:8080/"
        },
        "outputId": "3392f959-6ea6-414a-95f5-270771c1a38e"
      },
      "execution_count": null,
      "outputs": [
        {
          "output_type": "stream",
          "name": "stderr",
          "text": [
            "29-05-2022 00:38:43 Encoding Target Variable\n",
            "29-05-2022 00:38:43 Classes [0, 1]: ['Charged Off' 'Fully Paid']\n"
          ]
        }
      ]
    },
    {
      "cell_type": "code",
      "source": [
        "y_train"
      ],
      "metadata": {
        "id": "KjZA7Fa2ENJH",
        "colab": {
          "base_uri": "https://localhost:8080/"
        },
        "outputId": "7ea671a2-48fe-4229-97cf-64dcb61eabd2"
      },
      "execution_count": null,
      "outputs": [
        {
          "output_type": "execute_result",
          "data": {
            "text/plain": [
              "array([1, 1, 1, ..., 1, 1, 0])"
            ]
          },
          "metadata": {},
          "execution_count": 12
        }
      ]
    },
    {
      "cell_type": "code",
      "source": [
        "y_val"
      ],
      "metadata": {
        "id": "vHSpkzzdEYpC",
        "colab": {
          "base_uri": "https://localhost:8080/"
        },
        "outputId": "9e512a34-ac32-43de-e6b6-1a5338a107e5"
      },
      "execution_count": null,
      "outputs": [
        {
          "output_type": "execute_result",
          "data": {
            "text/plain": [
              "array([1, 0, 1, ..., 0, 1, 1])"
            ]
          },
          "metadata": {},
          "execution_count": 13
        }
      ]
    },
    {
      "cell_type": "markdown",
      "source": [
        "### 1.4.3 Using a full-pipeline"
      ],
      "metadata": {
        "id": "7qcpCDX0gce4"
      }
    },
    {
      "cell_type": "markdown",
      "source": [
        "```\n",
        "A reproducible pipeline is all you need\n",
        "```"
      ],
      "metadata": {
        "id": "rNRBHjI-ZscT"
      }
    },
    {
      "cell_type": "markdown",
      "source": [
        "#### 1.4.3.1 Feature Extractor"
      ],
      "metadata": {
        "id": "gF_ZLoVjjPUg"
      }
    },
    {
      "cell_type": "code",
      "source": [
        "class FeatureSelector(BaseEstimator, TransformerMixin):\n",
        "    # Class Constructor\n",
        "    def __init__(self, feature_names):\n",
        "        self.feature_names = feature_names\n",
        "\n",
        "    # Return self nothing else to do here\n",
        "    def fit(self, X, y=None):\n",
        "        return self\n",
        "\n",
        "    # Method that describes what this custom transformer need to do\n",
        "    def transform(self, X, y=None):\n",
        "        return X[self.feature_names]"
      ],
      "metadata": {
        "id": "0yn1GUbCdFmj"
      },
      "execution_count": null,
      "outputs": []
    },
    {
      "cell_type": "code",
      "source": [
        "# for validation purposes\n",
        "fs = FeatureSelector(x_train.select_dtypes(\"object\").columns.to_list())\n",
        "df = fs.fit_transform(x_train)\n",
        "df.head()"
      ],
      "metadata": {
        "id": "DEa9qLnVirdY",
        "colab": {
          "base_uri": "https://localhost:8080/"
        },
        "outputId": "f90312d1-ffc8-4935-f16b-1d82def14abf"
      },
      "execution_count": null,
      "outputs": [
        {
          "output_type": "execute_result",
          "data": {
            "text/plain": [
              "             term emp_length home_ownership verification_status  \\\n",
              "5525    60 months   < 1 year           RENT     Source Verified   \n",
              "19011   36 months  10+ years       MORTGAGE            Verified   \n",
              "20964   36 months    5 years           RENT     Source Verified   \n",
              "20533   36 months    3 years       MORTGAGE        Not Verified   \n",
              "8244    36 months    3 years           RENT            Verified   \n",
              "\n",
              "                  purpose  \n",
              "5525              wedding  \n",
              "19011               other  \n",
              "20964  debt_consolidation  \n",
              "20533         credit_card  \n",
              "8244                other  "
            ],
            "text/html": [
              "\n",
              "  <div id=\"df-fdf3d263-6434-4ff7-911e-9af23fcde7dd\">\n",
              "    <div class=\"colab-df-container\">\n",
              "      <div>\n",
              "<style scoped>\n",
              "    .dataframe tbody tr th:only-of-type {\n",
              "        vertical-align: middle;\n",
              "    }\n",
              "\n",
              "    .dataframe tbody tr th {\n",
              "        vertical-align: top;\n",
              "    }\n",
              "\n",
              "    .dataframe thead th {\n",
              "        text-align: right;\n",
              "    }\n",
              "</style>\n",
              "<table border=\"1\" class=\"dataframe\">\n",
              "  <thead>\n",
              "    <tr style=\"text-align: right;\">\n",
              "      <th></th>\n",
              "      <th>term</th>\n",
              "      <th>emp_length</th>\n",
              "      <th>home_ownership</th>\n",
              "      <th>verification_status</th>\n",
              "      <th>purpose</th>\n",
              "    </tr>\n",
              "  </thead>\n",
              "  <tbody>\n",
              "    <tr>\n",
              "      <th>5525</th>\n",
              "      <td>60 months</td>\n",
              "      <td>&lt; 1 year</td>\n",
              "      <td>RENT</td>\n",
              "      <td>Source Verified</td>\n",
              "      <td>wedding</td>\n",
              "    </tr>\n",
              "    <tr>\n",
              "      <th>19011</th>\n",
              "      <td>36 months</td>\n",
              "      <td>10+ years</td>\n",
              "      <td>MORTGAGE</td>\n",
              "      <td>Verified</td>\n",
              "      <td>other</td>\n",
              "    </tr>\n",
              "    <tr>\n",
              "      <th>20964</th>\n",
              "      <td>36 months</td>\n",
              "      <td>5 years</td>\n",
              "      <td>RENT</td>\n",
              "      <td>Source Verified</td>\n",
              "      <td>debt_consolidation</td>\n",
              "    </tr>\n",
              "    <tr>\n",
              "      <th>20533</th>\n",
              "      <td>36 months</td>\n",
              "      <td>3 years</td>\n",
              "      <td>MORTGAGE</td>\n",
              "      <td>Not Verified</td>\n",
              "      <td>credit_card</td>\n",
              "    </tr>\n",
              "    <tr>\n",
              "      <th>8244</th>\n",
              "      <td>36 months</td>\n",
              "      <td>3 years</td>\n",
              "      <td>RENT</td>\n",
              "      <td>Verified</td>\n",
              "      <td>other</td>\n",
              "    </tr>\n",
              "  </tbody>\n",
              "</table>\n",
              "</div>\n",
              "      <button class=\"colab-df-convert\" onclick=\"convertToInteractive('df-fdf3d263-6434-4ff7-911e-9af23fcde7dd')\"\n",
              "              title=\"Convert this dataframe to an interactive table.\"\n",
              "              style=\"display:none;\">\n",
              "        \n",
              "  <svg xmlns=\"http://www.w3.org/2000/svg\" height=\"24px\"viewBox=\"0 0 24 24\"\n",
              "       width=\"24px\">\n",
              "    <path d=\"M0 0h24v24H0V0z\" fill=\"none\"/>\n",
              "    <path d=\"M18.56 5.44l.94 2.06.94-2.06 2.06-.94-2.06-.94-.94-2.06-.94 2.06-2.06.94zm-11 1L8.5 8.5l.94-2.06 2.06-.94-2.06-.94L8.5 2.5l-.94 2.06-2.06.94zm10 10l.94 2.06.94-2.06 2.06-.94-2.06-.94-.94-2.06-.94 2.06-2.06.94z\"/><path d=\"M17.41 7.96l-1.37-1.37c-.4-.4-.92-.59-1.43-.59-.52 0-1.04.2-1.43.59L10.3 9.45l-7.72 7.72c-.78.78-.78 2.05 0 2.83L4 21.41c.39.39.9.59 1.41.59.51 0 1.02-.2 1.41-.59l7.78-7.78 2.81-2.81c.8-.78.8-2.07 0-2.86zM5.41 20L4 18.59l7.72-7.72 1.47 1.35L5.41 20z\"/>\n",
              "  </svg>\n",
              "      </button>\n",
              "      \n",
              "  <style>\n",
              "    .colab-df-container {\n",
              "      display:flex;\n",
              "      flex-wrap:wrap;\n",
              "      gap: 12px;\n",
              "    }\n",
              "\n",
              "    .colab-df-convert {\n",
              "      background-color: #E8F0FE;\n",
              "      border: none;\n",
              "      border-radius: 50%;\n",
              "      cursor: pointer;\n",
              "      display: none;\n",
              "      fill: #1967D2;\n",
              "      height: 32px;\n",
              "      padding: 0 0 0 0;\n",
              "      width: 32px;\n",
              "    }\n",
              "\n",
              "    .colab-df-convert:hover {\n",
              "      background-color: #E2EBFA;\n",
              "      box-shadow: 0px 1px 2px rgba(60, 64, 67, 0.3), 0px 1px 3px 1px rgba(60, 64, 67, 0.15);\n",
              "      fill: #174EA6;\n",
              "    }\n",
              "\n",
              "    [theme=dark] .colab-df-convert {\n",
              "      background-color: #3B4455;\n",
              "      fill: #D2E3FC;\n",
              "    }\n",
              "\n",
              "    [theme=dark] .colab-df-convert:hover {\n",
              "      background-color: #434B5C;\n",
              "      box-shadow: 0px 1px 3px 1px rgba(0, 0, 0, 0.15);\n",
              "      filter: drop-shadow(0px 1px 2px rgba(0, 0, 0, 0.3));\n",
              "      fill: #FFFFFF;\n",
              "    }\n",
              "  </style>\n",
              "\n",
              "      <script>\n",
              "        const buttonEl =\n",
              "          document.querySelector('#df-fdf3d263-6434-4ff7-911e-9af23fcde7dd button.colab-df-convert');\n",
              "        buttonEl.style.display =\n",
              "          google.colab.kernel.accessAllowed ? 'block' : 'none';\n",
              "\n",
              "        async function convertToInteractive(key) {\n",
              "          const element = document.querySelector('#df-fdf3d263-6434-4ff7-911e-9af23fcde7dd');\n",
              "          const dataTable =\n",
              "            await google.colab.kernel.invokeFunction('convertToInteractive',\n",
              "                                                     [key], {});\n",
              "          if (!dataTable) return;\n",
              "\n",
              "          const docLinkHtml = 'Like what you see? Visit the ' +\n",
              "            '<a target=\"_blank\" href=https://colab.research.google.com/notebooks/data_table.ipynb>data table notebook</a>'\n",
              "            + ' to learn more about interactive tables.';\n",
              "          element.innerHTML = '';\n",
              "          dataTable['output_type'] = 'display_data';\n",
              "          await google.colab.output.renderOutput(dataTable, element);\n",
              "          const docLink = document.createElement('div');\n",
              "          docLink.innerHTML = docLinkHtml;\n",
              "          element.appendChild(docLink);\n",
              "        }\n",
              "      </script>\n",
              "    </div>\n",
              "  </div>\n",
              "  "
            ]
          },
          "metadata": {},
          "execution_count": 15
        }
      ]
    },
    {
      "cell_type": "code",
      "source": [
        "# for validation purposes\n",
        "fs = FeatureSelector(x_train.select_dtypes(\"float64\").columns.to_list())\n",
        "df = fs.fit_transform(x_train)\n",
        "df.head()"
      ],
      "metadata": {
        "colab": {
          "base_uri": "https://localhost:8080/"
        },
        "id": "zbMWlomUbK5w",
        "outputId": "e0a8dbaf-868c-49eb-c22e-6f10633eabd0"
      },
      "execution_count": null,
      "outputs": [
        {
          "output_type": "execute_result",
          "data": {
            "text/plain": [
              "       loan_amnt  int_rate  installment  annual_inc    dti  delinq_2yrs  \\\n",
              "5525     14400.0     17.93       243.42    120000.0  21.60          0.0   \n",
              "19011    16000.0     11.71       529.22     88000.0  19.95          0.0   \n",
              "20964    10000.0      7.88       312.82     64800.0  13.98          0.0   \n",
              "20533     5700.0      6.91       175.77     45000.0   7.57          0.0   \n",
              "8244      2000.0     10.99        65.47     50400.0  24.71          0.0   \n",
              "\n",
              "       inq_last_6mths  open_acc  pub_rec  revol_bal  revol_util  total_acc  \n",
              "5525              0.0      15.0      0.0    25420.0        73.3       25.0  \n",
              "19011             0.0       8.0      0.0    12075.0        41.2       56.0  \n",
              "20964             2.0       7.0      0.0      364.0         1.6       26.0  \n",
              "20533             1.0       4.0      0.0     5057.0        56.2       23.0  \n",
              "8244              0.0      22.0      0.0    27541.0        88.8       30.0  "
            ],
            "text/html": [
              "\n",
              "  <div id=\"df-e61e5abd-6e12-40ea-ba67-d027de7afa6b\">\n",
              "    <div class=\"colab-df-container\">\n",
              "      <div>\n",
              "<style scoped>\n",
              "    .dataframe tbody tr th:only-of-type {\n",
              "        vertical-align: middle;\n",
              "    }\n",
              "\n",
              "    .dataframe tbody tr th {\n",
              "        vertical-align: top;\n",
              "    }\n",
              "\n",
              "    .dataframe thead th {\n",
              "        text-align: right;\n",
              "    }\n",
              "</style>\n",
              "<table border=\"1\" class=\"dataframe\">\n",
              "  <thead>\n",
              "    <tr style=\"text-align: right;\">\n",
              "      <th></th>\n",
              "      <th>loan_amnt</th>\n",
              "      <th>int_rate</th>\n",
              "      <th>installment</th>\n",
              "      <th>annual_inc</th>\n",
              "      <th>dti</th>\n",
              "      <th>delinq_2yrs</th>\n",
              "      <th>inq_last_6mths</th>\n",
              "      <th>open_acc</th>\n",
              "      <th>pub_rec</th>\n",
              "      <th>revol_bal</th>\n",
              "      <th>revol_util</th>\n",
              "      <th>total_acc</th>\n",
              "    </tr>\n",
              "  </thead>\n",
              "  <tbody>\n",
              "    <tr>\n",
              "      <th>5525</th>\n",
              "      <td>14400.0</td>\n",
              "      <td>17.93</td>\n",
              "      <td>243.42</td>\n",
              "      <td>120000.0</td>\n",
              "      <td>21.60</td>\n",
              "      <td>0.0</td>\n",
              "      <td>0.0</td>\n",
              "      <td>15.0</td>\n",
              "      <td>0.0</td>\n",
              "      <td>25420.0</td>\n",
              "      <td>73.3</td>\n",
              "      <td>25.0</td>\n",
              "    </tr>\n",
              "    <tr>\n",
              "      <th>19011</th>\n",
              "      <td>16000.0</td>\n",
              "      <td>11.71</td>\n",
              "      <td>529.22</td>\n",
              "      <td>88000.0</td>\n",
              "      <td>19.95</td>\n",
              "      <td>0.0</td>\n",
              "      <td>0.0</td>\n",
              "      <td>8.0</td>\n",
              "      <td>0.0</td>\n",
              "      <td>12075.0</td>\n",
              "      <td>41.2</td>\n",
              "      <td>56.0</td>\n",
              "    </tr>\n",
              "    <tr>\n",
              "      <th>20964</th>\n",
              "      <td>10000.0</td>\n",
              "      <td>7.88</td>\n",
              "      <td>312.82</td>\n",
              "      <td>64800.0</td>\n",
              "      <td>13.98</td>\n",
              "      <td>0.0</td>\n",
              "      <td>2.0</td>\n",
              "      <td>7.0</td>\n",
              "      <td>0.0</td>\n",
              "      <td>364.0</td>\n",
              "      <td>1.6</td>\n",
              "      <td>26.0</td>\n",
              "    </tr>\n",
              "    <tr>\n",
              "      <th>20533</th>\n",
              "      <td>5700.0</td>\n",
              "      <td>6.91</td>\n",
              "      <td>175.77</td>\n",
              "      <td>45000.0</td>\n",
              "      <td>7.57</td>\n",
              "      <td>0.0</td>\n",
              "      <td>1.0</td>\n",
              "      <td>4.0</td>\n",
              "      <td>0.0</td>\n",
              "      <td>5057.0</td>\n",
              "      <td>56.2</td>\n",
              "      <td>23.0</td>\n",
              "    </tr>\n",
              "    <tr>\n",
              "      <th>8244</th>\n",
              "      <td>2000.0</td>\n",
              "      <td>10.99</td>\n",
              "      <td>65.47</td>\n",
              "      <td>50400.0</td>\n",
              "      <td>24.71</td>\n",
              "      <td>0.0</td>\n",
              "      <td>0.0</td>\n",
              "      <td>22.0</td>\n",
              "      <td>0.0</td>\n",
              "      <td>27541.0</td>\n",
              "      <td>88.8</td>\n",
              "      <td>30.0</td>\n",
              "    </tr>\n",
              "  </tbody>\n",
              "</table>\n",
              "</div>\n",
              "      <button class=\"colab-df-convert\" onclick=\"convertToInteractive('df-e61e5abd-6e12-40ea-ba67-d027de7afa6b')\"\n",
              "              title=\"Convert this dataframe to an interactive table.\"\n",
              "              style=\"display:none;\">\n",
              "        \n",
              "  <svg xmlns=\"http://www.w3.org/2000/svg\" height=\"24px\"viewBox=\"0 0 24 24\"\n",
              "       width=\"24px\">\n",
              "    <path d=\"M0 0h24v24H0V0z\" fill=\"none\"/>\n",
              "    <path d=\"M18.56 5.44l.94 2.06.94-2.06 2.06-.94-2.06-.94-.94-2.06-.94 2.06-2.06.94zm-11 1L8.5 8.5l.94-2.06 2.06-.94-2.06-.94L8.5 2.5l-.94 2.06-2.06.94zm10 10l.94 2.06.94-2.06 2.06-.94-2.06-.94-.94-2.06-.94 2.06-2.06.94z\"/><path d=\"M17.41 7.96l-1.37-1.37c-.4-.4-.92-.59-1.43-.59-.52 0-1.04.2-1.43.59L10.3 9.45l-7.72 7.72c-.78.78-.78 2.05 0 2.83L4 21.41c.39.39.9.59 1.41.59.51 0 1.02-.2 1.41-.59l7.78-7.78 2.81-2.81c.8-.78.8-2.07 0-2.86zM5.41 20L4 18.59l7.72-7.72 1.47 1.35L5.41 20z\"/>\n",
              "  </svg>\n",
              "      </button>\n",
              "      \n",
              "  <style>\n",
              "    .colab-df-container {\n",
              "      display:flex;\n",
              "      flex-wrap:wrap;\n",
              "      gap: 12px;\n",
              "    }\n",
              "\n",
              "    .colab-df-convert {\n",
              "      background-color: #E8F0FE;\n",
              "      border: none;\n",
              "      border-radius: 50%;\n",
              "      cursor: pointer;\n",
              "      display: none;\n",
              "      fill: #1967D2;\n",
              "      height: 32px;\n",
              "      padding: 0 0 0 0;\n",
              "      width: 32px;\n",
              "    }\n",
              "\n",
              "    .colab-df-convert:hover {\n",
              "      background-color: #E2EBFA;\n",
              "      box-shadow: 0px 1px 2px rgba(60, 64, 67, 0.3), 0px 1px 3px 1px rgba(60, 64, 67, 0.15);\n",
              "      fill: #174EA6;\n",
              "    }\n",
              "\n",
              "    [theme=dark] .colab-df-convert {\n",
              "      background-color: #3B4455;\n",
              "      fill: #D2E3FC;\n",
              "    }\n",
              "\n",
              "    [theme=dark] .colab-df-convert:hover {\n",
              "      background-color: #434B5C;\n",
              "      box-shadow: 0px 1px 3px 1px rgba(0, 0, 0, 0.15);\n",
              "      filter: drop-shadow(0px 1px 2px rgba(0, 0, 0, 0.3));\n",
              "      fill: #FFFFFF;\n",
              "    }\n",
              "  </style>\n",
              "\n",
              "      <script>\n",
              "        const buttonEl =\n",
              "          document.querySelector('#df-e61e5abd-6e12-40ea-ba67-d027de7afa6b button.colab-df-convert');\n",
              "        buttonEl.style.display =\n",
              "          google.colab.kernel.accessAllowed ? 'block' : 'none';\n",
              "\n",
              "        async function convertToInteractive(key) {\n",
              "          const element = document.querySelector('#df-e61e5abd-6e12-40ea-ba67-d027de7afa6b');\n",
              "          const dataTable =\n",
              "            await google.colab.kernel.invokeFunction('convertToInteractive',\n",
              "                                                     [key], {});\n",
              "          if (!dataTable) return;\n",
              "\n",
              "          const docLinkHtml = 'Like what you see? Visit the ' +\n",
              "            '<a target=\"_blank\" href=https://colab.research.google.com/notebooks/data_table.ipynb>data table notebook</a>'\n",
              "            + ' to learn more about interactive tables.';\n",
              "          element.innerHTML = '';\n",
              "          dataTable['output_type'] = 'display_data';\n",
              "          await google.colab.output.renderOutput(dataTable, element);\n",
              "          const docLink = document.createElement('div');\n",
              "          docLink.innerHTML = docLinkHtml;\n",
              "          element.appendChild(docLink);\n",
              "        }\n",
              "      </script>\n",
              "    </div>\n",
              "  </div>\n",
              "  "
            ]
          },
          "metadata": {},
          "execution_count": 16
        }
      ]
    },
    {
      "cell_type": "markdown",
      "source": [
        "#### 1.4.3.2 Handling Categorical Features"
      ],
      "metadata": {
        "id": "_ofrw3WLjVay"
      }
    },
    {
      "cell_type": "code",
      "source": [
        "# Handling categorical features\n",
        "class CategoricalTransformer(BaseEstimator, TransformerMixin):\n",
        "    # Class constructor method that takes one boolean as its argument\n",
        "    def __init__(self, new_features=True, colnames=None):\n",
        "        self.new_features = new_features\n",
        "        self.colnames = colnames\n",
        "\n",
        "    # Return self nothing else to do here\n",
        "    def fit(self, X, y=None):\n",
        "        return self\n",
        "\n",
        "    def get_feature_names_out(self):\n",
        "        return self.colnames.tolist()\n",
        "\n",
        "    # Transformer method we wrote for this transformer\n",
        "    def transform(self, X, y=None):\n",
        "        df = pd.DataFrame(X, columns=self.colnames)\n",
        "\n",
        "        # Remove white space in categorical features\n",
        "        df = df.apply(lambda row: row.str.strip())\n",
        "\n",
        "        # customize feature?\n",
        "        # How can I identify what needs to be modified? EDA!!!!\n",
        "        if self.new_features:\n",
        "\n",
        "            #adjust emp_lenght feature\n",
        "            mapping_dict = {\n",
        "                \"emp_length\": {\n",
        "                    \"10+ years\": 10,\n",
        "                    \"9 years\": 9,\n",
        "                    \"8 years\": 8,\n",
        "                    \"7 years\": 7,\n",
        "                    \"6 years\": 6,\n",
        "                    \"5 years\": 5,\n",
        "                    \"4 years\": 4,\n",
        "                    \"3 years\": 3,\n",
        "                    \"2 years\": 2,\n",
        "                    \"1 year\": 1,\n",
        "                    \"< 1 year\": 0,\n",
        "                    \"n/a\": 0\n",
        "                }\n",
        "            }\n",
        "            df = df.replace(mapping_dict)\n",
        "\n",
        "        # update column names\n",
        "        self.colnames = df.columns\n",
        "            \n",
        "        return df\n"
      ],
      "metadata": {
        "id": "Od5QTxwdhqgL"
      },
      "execution_count": null,
      "outputs": []
    },
    {
      "cell_type": "code",
      "source": [
        "# for validation purposes\n",
        "fs = FeatureSelector(x_train.select_dtypes(\"object\").columns.to_list())\n",
        "df = fs.fit_transform(x_train)\n",
        "df.head()"
      ],
      "metadata": {
        "id": "j6BYQho9mQHU",
        "colab": {
          "base_uri": "https://localhost:8080/"
        },
        "outputId": "cd66d4d8-1744-471a-b686-7b29e4ae5a72"
      },
      "execution_count": null,
      "outputs": [
        {
          "output_type": "execute_result",
          "data": {
            "text/plain": [
              "             term emp_length home_ownership verification_status  \\\n",
              "5525    60 months   < 1 year           RENT     Source Verified   \n",
              "19011   36 months  10+ years       MORTGAGE            Verified   \n",
              "20964   36 months    5 years           RENT     Source Verified   \n",
              "20533   36 months    3 years       MORTGAGE        Not Verified   \n",
              "8244    36 months    3 years           RENT            Verified   \n",
              "\n",
              "                  purpose  \n",
              "5525              wedding  \n",
              "19011               other  \n",
              "20964  debt_consolidation  \n",
              "20533         credit_card  \n",
              "8244                other  "
            ],
            "text/html": [
              "\n",
              "  <div id=\"df-538b35f4-1e62-4ee8-92e5-80586ab9dcb1\">\n",
              "    <div class=\"colab-df-container\">\n",
              "      <div>\n",
              "<style scoped>\n",
              "    .dataframe tbody tr th:only-of-type {\n",
              "        vertical-align: middle;\n",
              "    }\n",
              "\n",
              "    .dataframe tbody tr th {\n",
              "        vertical-align: top;\n",
              "    }\n",
              "\n",
              "    .dataframe thead th {\n",
              "        text-align: right;\n",
              "    }\n",
              "</style>\n",
              "<table border=\"1\" class=\"dataframe\">\n",
              "  <thead>\n",
              "    <tr style=\"text-align: right;\">\n",
              "      <th></th>\n",
              "      <th>term</th>\n",
              "      <th>emp_length</th>\n",
              "      <th>home_ownership</th>\n",
              "      <th>verification_status</th>\n",
              "      <th>purpose</th>\n",
              "    </tr>\n",
              "  </thead>\n",
              "  <tbody>\n",
              "    <tr>\n",
              "      <th>5525</th>\n",
              "      <td>60 months</td>\n",
              "      <td>&lt; 1 year</td>\n",
              "      <td>RENT</td>\n",
              "      <td>Source Verified</td>\n",
              "      <td>wedding</td>\n",
              "    </tr>\n",
              "    <tr>\n",
              "      <th>19011</th>\n",
              "      <td>36 months</td>\n",
              "      <td>10+ years</td>\n",
              "      <td>MORTGAGE</td>\n",
              "      <td>Verified</td>\n",
              "      <td>other</td>\n",
              "    </tr>\n",
              "    <tr>\n",
              "      <th>20964</th>\n",
              "      <td>36 months</td>\n",
              "      <td>5 years</td>\n",
              "      <td>RENT</td>\n",
              "      <td>Source Verified</td>\n",
              "      <td>debt_consolidation</td>\n",
              "    </tr>\n",
              "    <tr>\n",
              "      <th>20533</th>\n",
              "      <td>36 months</td>\n",
              "      <td>3 years</td>\n",
              "      <td>MORTGAGE</td>\n",
              "      <td>Not Verified</td>\n",
              "      <td>credit_card</td>\n",
              "    </tr>\n",
              "    <tr>\n",
              "      <th>8244</th>\n",
              "      <td>36 months</td>\n",
              "      <td>3 years</td>\n",
              "      <td>RENT</td>\n",
              "      <td>Verified</td>\n",
              "      <td>other</td>\n",
              "    </tr>\n",
              "  </tbody>\n",
              "</table>\n",
              "</div>\n",
              "      <button class=\"colab-df-convert\" onclick=\"convertToInteractive('df-538b35f4-1e62-4ee8-92e5-80586ab9dcb1')\"\n",
              "              title=\"Convert this dataframe to an interactive table.\"\n",
              "              style=\"display:none;\">\n",
              "        \n",
              "  <svg xmlns=\"http://www.w3.org/2000/svg\" height=\"24px\"viewBox=\"0 0 24 24\"\n",
              "       width=\"24px\">\n",
              "    <path d=\"M0 0h24v24H0V0z\" fill=\"none\"/>\n",
              "    <path d=\"M18.56 5.44l.94 2.06.94-2.06 2.06-.94-2.06-.94-.94-2.06-.94 2.06-2.06.94zm-11 1L8.5 8.5l.94-2.06 2.06-.94-2.06-.94L8.5 2.5l-.94 2.06-2.06.94zm10 10l.94 2.06.94-2.06 2.06-.94-2.06-.94-.94-2.06-.94 2.06-2.06.94z\"/><path d=\"M17.41 7.96l-1.37-1.37c-.4-.4-.92-.59-1.43-.59-.52 0-1.04.2-1.43.59L10.3 9.45l-7.72 7.72c-.78.78-.78 2.05 0 2.83L4 21.41c.39.39.9.59 1.41.59.51 0 1.02-.2 1.41-.59l7.78-7.78 2.81-2.81c.8-.78.8-2.07 0-2.86zM5.41 20L4 18.59l7.72-7.72 1.47 1.35L5.41 20z\"/>\n",
              "  </svg>\n",
              "      </button>\n",
              "      \n",
              "  <style>\n",
              "    .colab-df-container {\n",
              "      display:flex;\n",
              "      flex-wrap:wrap;\n",
              "      gap: 12px;\n",
              "    }\n",
              "\n",
              "    .colab-df-convert {\n",
              "      background-color: #E8F0FE;\n",
              "      border: none;\n",
              "      border-radius: 50%;\n",
              "      cursor: pointer;\n",
              "      display: none;\n",
              "      fill: #1967D2;\n",
              "      height: 32px;\n",
              "      padding: 0 0 0 0;\n",
              "      width: 32px;\n",
              "    }\n",
              "\n",
              "    .colab-df-convert:hover {\n",
              "      background-color: #E2EBFA;\n",
              "      box-shadow: 0px 1px 2px rgba(60, 64, 67, 0.3), 0px 1px 3px 1px rgba(60, 64, 67, 0.15);\n",
              "      fill: #174EA6;\n",
              "    }\n",
              "\n",
              "    [theme=dark] .colab-df-convert {\n",
              "      background-color: #3B4455;\n",
              "      fill: #D2E3FC;\n",
              "    }\n",
              "\n",
              "    [theme=dark] .colab-df-convert:hover {\n",
              "      background-color: #434B5C;\n",
              "      box-shadow: 0px 1px 3px 1px rgba(0, 0, 0, 0.15);\n",
              "      filter: drop-shadow(0px 1px 2px rgba(0, 0, 0, 0.3));\n",
              "      fill: #FFFFFF;\n",
              "    }\n",
              "  </style>\n",
              "\n",
              "      <script>\n",
              "        const buttonEl =\n",
              "          document.querySelector('#df-538b35f4-1e62-4ee8-92e5-80586ab9dcb1 button.colab-df-convert');\n",
              "        buttonEl.style.display =\n",
              "          google.colab.kernel.accessAllowed ? 'block' : 'none';\n",
              "\n",
              "        async function convertToInteractive(key) {\n",
              "          const element = document.querySelector('#df-538b35f4-1e62-4ee8-92e5-80586ab9dcb1');\n",
              "          const dataTable =\n",
              "            await google.colab.kernel.invokeFunction('convertToInteractive',\n",
              "                                                     [key], {});\n",
              "          if (!dataTable) return;\n",
              "\n",
              "          const docLinkHtml = 'Like what you see? Visit the ' +\n",
              "            '<a target=\"_blank\" href=https://colab.research.google.com/notebooks/data_table.ipynb>data table notebook</a>'\n",
              "            + ' to learn more about interactive tables.';\n",
              "          element.innerHTML = '';\n",
              "          dataTable['output_type'] = 'display_data';\n",
              "          await google.colab.output.renderOutput(dataTable, element);\n",
              "          const docLink = document.createElement('div');\n",
              "          docLink.innerHTML = docLinkHtml;\n",
              "          element.appendChild(docLink);\n",
              "        }\n",
              "      </script>\n",
              "    </div>\n",
              "  </div>\n",
              "  "
            ]
          },
          "metadata": {},
          "execution_count": 18
        }
      ]
    },
    {
      "cell_type": "code",
      "source": [
        "# for validation purposes\n",
        "ct = CategoricalTransformer(new_features=True,colnames=df.columns.tolist())\n",
        "df_cat = ct.fit_transform(df)\n",
        "df_cat.head()"
      ],
      "metadata": {
        "id": "41xrQMJqmfEW",
        "colab": {
          "base_uri": "https://localhost:8080/"
        },
        "outputId": "951501d3-6742-4e79-b003-159a362295ed"
      },
      "execution_count": null,
      "outputs": [
        {
          "output_type": "execute_result",
          "data": {
            "text/plain": [
              "            term  emp_length home_ownership verification_status  \\\n",
              "5525   60 months           0           RENT     Source Verified   \n",
              "19011  36 months          10       MORTGAGE            Verified   \n",
              "20964  36 months           5           RENT     Source Verified   \n",
              "20533  36 months           3       MORTGAGE        Not Verified   \n",
              "8244   36 months           3           RENT            Verified   \n",
              "\n",
              "                  purpose  \n",
              "5525              wedding  \n",
              "19011               other  \n",
              "20964  debt_consolidation  \n",
              "20533         credit_card  \n",
              "8244                other  "
            ],
            "text/html": [
              "\n",
              "  <div id=\"df-437f9498-8adc-479d-8d84-6d6d208a4f11\">\n",
              "    <div class=\"colab-df-container\">\n",
              "      <div>\n",
              "<style scoped>\n",
              "    .dataframe tbody tr th:only-of-type {\n",
              "        vertical-align: middle;\n",
              "    }\n",
              "\n",
              "    .dataframe tbody tr th {\n",
              "        vertical-align: top;\n",
              "    }\n",
              "\n",
              "    .dataframe thead th {\n",
              "        text-align: right;\n",
              "    }\n",
              "</style>\n",
              "<table border=\"1\" class=\"dataframe\">\n",
              "  <thead>\n",
              "    <tr style=\"text-align: right;\">\n",
              "      <th></th>\n",
              "      <th>term</th>\n",
              "      <th>emp_length</th>\n",
              "      <th>home_ownership</th>\n",
              "      <th>verification_status</th>\n",
              "      <th>purpose</th>\n",
              "    </tr>\n",
              "  </thead>\n",
              "  <tbody>\n",
              "    <tr>\n",
              "      <th>5525</th>\n",
              "      <td>60 months</td>\n",
              "      <td>0</td>\n",
              "      <td>RENT</td>\n",
              "      <td>Source Verified</td>\n",
              "      <td>wedding</td>\n",
              "    </tr>\n",
              "    <tr>\n",
              "      <th>19011</th>\n",
              "      <td>36 months</td>\n",
              "      <td>10</td>\n",
              "      <td>MORTGAGE</td>\n",
              "      <td>Verified</td>\n",
              "      <td>other</td>\n",
              "    </tr>\n",
              "    <tr>\n",
              "      <th>20964</th>\n",
              "      <td>36 months</td>\n",
              "      <td>5</td>\n",
              "      <td>RENT</td>\n",
              "      <td>Source Verified</td>\n",
              "      <td>debt_consolidation</td>\n",
              "    </tr>\n",
              "    <tr>\n",
              "      <th>20533</th>\n",
              "      <td>36 months</td>\n",
              "      <td>3</td>\n",
              "      <td>MORTGAGE</td>\n",
              "      <td>Not Verified</td>\n",
              "      <td>credit_card</td>\n",
              "    </tr>\n",
              "    <tr>\n",
              "      <th>8244</th>\n",
              "      <td>36 months</td>\n",
              "      <td>3</td>\n",
              "      <td>RENT</td>\n",
              "      <td>Verified</td>\n",
              "      <td>other</td>\n",
              "    </tr>\n",
              "  </tbody>\n",
              "</table>\n",
              "</div>\n",
              "      <button class=\"colab-df-convert\" onclick=\"convertToInteractive('df-437f9498-8adc-479d-8d84-6d6d208a4f11')\"\n",
              "              title=\"Convert this dataframe to an interactive table.\"\n",
              "              style=\"display:none;\">\n",
              "        \n",
              "  <svg xmlns=\"http://www.w3.org/2000/svg\" height=\"24px\"viewBox=\"0 0 24 24\"\n",
              "       width=\"24px\">\n",
              "    <path d=\"M0 0h24v24H0V0z\" fill=\"none\"/>\n",
              "    <path d=\"M18.56 5.44l.94 2.06.94-2.06 2.06-.94-2.06-.94-.94-2.06-.94 2.06-2.06.94zm-11 1L8.5 8.5l.94-2.06 2.06-.94-2.06-.94L8.5 2.5l-.94 2.06-2.06.94zm10 10l.94 2.06.94-2.06 2.06-.94-2.06-.94-.94-2.06-.94 2.06-2.06.94z\"/><path d=\"M17.41 7.96l-1.37-1.37c-.4-.4-.92-.59-1.43-.59-.52 0-1.04.2-1.43.59L10.3 9.45l-7.72 7.72c-.78.78-.78 2.05 0 2.83L4 21.41c.39.39.9.59 1.41.59.51 0 1.02-.2 1.41-.59l7.78-7.78 2.81-2.81c.8-.78.8-2.07 0-2.86zM5.41 20L4 18.59l7.72-7.72 1.47 1.35L5.41 20z\"/>\n",
              "  </svg>\n",
              "      </button>\n",
              "      \n",
              "  <style>\n",
              "    .colab-df-container {\n",
              "      display:flex;\n",
              "      flex-wrap:wrap;\n",
              "      gap: 12px;\n",
              "    }\n",
              "\n",
              "    .colab-df-convert {\n",
              "      background-color: #E8F0FE;\n",
              "      border: none;\n",
              "      border-radius: 50%;\n",
              "      cursor: pointer;\n",
              "      display: none;\n",
              "      fill: #1967D2;\n",
              "      height: 32px;\n",
              "      padding: 0 0 0 0;\n",
              "      width: 32px;\n",
              "    }\n",
              "\n",
              "    .colab-df-convert:hover {\n",
              "      background-color: #E2EBFA;\n",
              "      box-shadow: 0px 1px 2px rgba(60, 64, 67, 0.3), 0px 1px 3px 1px rgba(60, 64, 67, 0.15);\n",
              "      fill: #174EA6;\n",
              "    }\n",
              "\n",
              "    [theme=dark] .colab-df-convert {\n",
              "      background-color: #3B4455;\n",
              "      fill: #D2E3FC;\n",
              "    }\n",
              "\n",
              "    [theme=dark] .colab-df-convert:hover {\n",
              "      background-color: #434B5C;\n",
              "      box-shadow: 0px 1px 3px 1px rgba(0, 0, 0, 0.15);\n",
              "      filter: drop-shadow(0px 1px 2px rgba(0, 0, 0, 0.3));\n",
              "      fill: #FFFFFF;\n",
              "    }\n",
              "  </style>\n",
              "\n",
              "      <script>\n",
              "        const buttonEl =\n",
              "          document.querySelector('#df-437f9498-8adc-479d-8d84-6d6d208a4f11 button.colab-df-convert');\n",
              "        buttonEl.style.display =\n",
              "          google.colab.kernel.accessAllowed ? 'block' : 'none';\n",
              "\n",
              "        async function convertToInteractive(key) {\n",
              "          const element = document.querySelector('#df-437f9498-8adc-479d-8d84-6d6d208a4f11');\n",
              "          const dataTable =\n",
              "            await google.colab.kernel.invokeFunction('convertToInteractive',\n",
              "                                                     [key], {});\n",
              "          if (!dataTable) return;\n",
              "\n",
              "          const docLinkHtml = 'Like what you see? Visit the ' +\n",
              "            '<a target=\"_blank\" href=https://colab.research.google.com/notebooks/data_table.ipynb>data table notebook</a>'\n",
              "            + ' to learn more about interactive tables.';\n",
              "          element.innerHTML = '';\n",
              "          dataTable['output_type'] = 'display_data';\n",
              "          await google.colab.output.renderOutput(dataTable, element);\n",
              "          const docLink = document.createElement('div');\n",
              "          docLink.innerHTML = docLinkHtml;\n",
              "          element.appendChild(docLink);\n",
              "        }\n",
              "      </script>\n",
              "    </div>\n",
              "  </div>\n",
              "  "
            ]
          },
          "metadata": {},
          "execution_count": 19
        }
      ]
    },
    {
      "cell_type": "markdown",
      "source": [
        "#### 1.4.3.3 Handling Numerical Features"
      ],
      "metadata": {
        "id": "ldfU54n7njja"
      }
    },
    {
      "cell_type": "code",
      "source": [
        "# transform numerical features\n",
        "class NumericalTransformer(BaseEstimator, TransformerMixin):\n",
        "    # Class constructor method that takes a model parameter as its argument\n",
        "    # model 0: minmax\n",
        "    # model 1: standard\n",
        "    # model 2: without scaler\n",
        "    def __init__(self, model=0, colnames=None):\n",
        "        self.model = model\n",
        "        self.colnames = colnames\n",
        "        self.scaler = None\n",
        "\n",
        "    # Fit is used only to learn statistical about Scalers\n",
        "    def fit(self, X, y=None):\n",
        "        df = pd.DataFrame(X, columns=self.colnames)\n",
        "        # minmax\n",
        "        if self.model == 0:\n",
        "            self.scaler = MinMaxScaler()\n",
        "            self.scaler.fit(df)\n",
        "        # standard scaler\n",
        "        elif self.model == 1:\n",
        "            self.scaler = StandardScaler()\n",
        "            self.scaler.fit(df)\n",
        "        return self\n",
        "\n",
        "    # return columns names after transformation\n",
        "    def get_feature_names_out(self):\n",
        "        return self.colnames\n",
        "\n",
        "    # Transformer method we wrote for this transformer\n",
        "    # Use fitted scalers\n",
        "    def transform(self, X, y=None):\n",
        "        df = pd.DataFrame(X, columns=self.colnames)\n",
        "\n",
        "        # update columns name\n",
        "        self.colnames = df.columns.tolist()\n",
        "\n",
        "        # minmax\n",
        "        if self.model == 0:\n",
        "            # transform data\n",
        "            df = self.scaler.transform(df)\n",
        "        elif self.model == 1:\n",
        "            # transform data\n",
        "            df = self.scaler.transform(df)\n",
        "        else:\n",
        "            df = df.values\n",
        "\n",
        "        return df"
      ],
      "metadata": {
        "id": "2RWfY7ctjxW2"
      },
      "execution_count": null,
      "outputs": []
    },
    {
      "cell_type": "code",
      "source": [
        "# for validation purposes\n",
        "fs = FeatureSelector(x_train.select_dtypes(\"float64\").columns.to_list())\n",
        "df = fs.fit_transform(x_train)\n",
        "df.head()"
      ],
      "metadata": {
        "id": "05vfbEtjo4RQ",
        "colab": {
          "base_uri": "https://localhost:8080/"
        },
        "outputId": "a201a96f-53db-489c-b70f-c32784e022c4"
      },
      "execution_count": null,
      "outputs": [
        {
          "output_type": "execute_result",
          "data": {
            "text/plain": [
              "       loan_amnt  int_rate  installment  annual_inc    dti  delinq_2yrs  \\\n",
              "5525     14400.0     17.93       243.42    120000.0  21.60          0.0   \n",
              "19011    16000.0     11.71       529.22     88000.0  19.95          0.0   \n",
              "20964    10000.0      7.88       312.82     64800.0  13.98          0.0   \n",
              "20533     5700.0      6.91       175.77     45000.0   7.57          0.0   \n",
              "8244      2000.0     10.99        65.47     50400.0  24.71          0.0   \n",
              "\n",
              "       inq_last_6mths  open_acc  pub_rec  revol_bal  revol_util  total_acc  \n",
              "5525              0.0      15.0      0.0    25420.0        73.3       25.0  \n",
              "19011             0.0       8.0      0.0    12075.0        41.2       56.0  \n",
              "20964             2.0       7.0      0.0      364.0         1.6       26.0  \n",
              "20533             1.0       4.0      0.0     5057.0        56.2       23.0  \n",
              "8244              0.0      22.0      0.0    27541.0        88.8       30.0  "
            ],
            "text/html": [
              "\n",
              "  <div id=\"df-9b3cec5c-27a5-4835-af5e-788c243275b9\">\n",
              "    <div class=\"colab-df-container\">\n",
              "      <div>\n",
              "<style scoped>\n",
              "    .dataframe tbody tr th:only-of-type {\n",
              "        vertical-align: middle;\n",
              "    }\n",
              "\n",
              "    .dataframe tbody tr th {\n",
              "        vertical-align: top;\n",
              "    }\n",
              "\n",
              "    .dataframe thead th {\n",
              "        text-align: right;\n",
              "    }\n",
              "</style>\n",
              "<table border=\"1\" class=\"dataframe\">\n",
              "  <thead>\n",
              "    <tr style=\"text-align: right;\">\n",
              "      <th></th>\n",
              "      <th>loan_amnt</th>\n",
              "      <th>int_rate</th>\n",
              "      <th>installment</th>\n",
              "      <th>annual_inc</th>\n",
              "      <th>dti</th>\n",
              "      <th>delinq_2yrs</th>\n",
              "      <th>inq_last_6mths</th>\n",
              "      <th>open_acc</th>\n",
              "      <th>pub_rec</th>\n",
              "      <th>revol_bal</th>\n",
              "      <th>revol_util</th>\n",
              "      <th>total_acc</th>\n",
              "    </tr>\n",
              "  </thead>\n",
              "  <tbody>\n",
              "    <tr>\n",
              "      <th>5525</th>\n",
              "      <td>14400.0</td>\n",
              "      <td>17.93</td>\n",
              "      <td>243.42</td>\n",
              "      <td>120000.0</td>\n",
              "      <td>21.60</td>\n",
              "      <td>0.0</td>\n",
              "      <td>0.0</td>\n",
              "      <td>15.0</td>\n",
              "      <td>0.0</td>\n",
              "      <td>25420.0</td>\n",
              "      <td>73.3</td>\n",
              "      <td>25.0</td>\n",
              "    </tr>\n",
              "    <tr>\n",
              "      <th>19011</th>\n",
              "      <td>16000.0</td>\n",
              "      <td>11.71</td>\n",
              "      <td>529.22</td>\n",
              "      <td>88000.0</td>\n",
              "      <td>19.95</td>\n",
              "      <td>0.0</td>\n",
              "      <td>0.0</td>\n",
              "      <td>8.0</td>\n",
              "      <td>0.0</td>\n",
              "      <td>12075.0</td>\n",
              "      <td>41.2</td>\n",
              "      <td>56.0</td>\n",
              "    </tr>\n",
              "    <tr>\n",
              "      <th>20964</th>\n",
              "      <td>10000.0</td>\n",
              "      <td>7.88</td>\n",
              "      <td>312.82</td>\n",
              "      <td>64800.0</td>\n",
              "      <td>13.98</td>\n",
              "      <td>0.0</td>\n",
              "      <td>2.0</td>\n",
              "      <td>7.0</td>\n",
              "      <td>0.0</td>\n",
              "      <td>364.0</td>\n",
              "      <td>1.6</td>\n",
              "      <td>26.0</td>\n",
              "    </tr>\n",
              "    <tr>\n",
              "      <th>20533</th>\n",
              "      <td>5700.0</td>\n",
              "      <td>6.91</td>\n",
              "      <td>175.77</td>\n",
              "      <td>45000.0</td>\n",
              "      <td>7.57</td>\n",
              "      <td>0.0</td>\n",
              "      <td>1.0</td>\n",
              "      <td>4.0</td>\n",
              "      <td>0.0</td>\n",
              "      <td>5057.0</td>\n",
              "      <td>56.2</td>\n",
              "      <td>23.0</td>\n",
              "    </tr>\n",
              "    <tr>\n",
              "      <th>8244</th>\n",
              "      <td>2000.0</td>\n",
              "      <td>10.99</td>\n",
              "      <td>65.47</td>\n",
              "      <td>50400.0</td>\n",
              "      <td>24.71</td>\n",
              "      <td>0.0</td>\n",
              "      <td>0.0</td>\n",
              "      <td>22.0</td>\n",
              "      <td>0.0</td>\n",
              "      <td>27541.0</td>\n",
              "      <td>88.8</td>\n",
              "      <td>30.0</td>\n",
              "    </tr>\n",
              "  </tbody>\n",
              "</table>\n",
              "</div>\n",
              "      <button class=\"colab-df-convert\" onclick=\"convertToInteractive('df-9b3cec5c-27a5-4835-af5e-788c243275b9')\"\n",
              "              title=\"Convert this dataframe to an interactive table.\"\n",
              "              style=\"display:none;\">\n",
              "        \n",
              "  <svg xmlns=\"http://www.w3.org/2000/svg\" height=\"24px\"viewBox=\"0 0 24 24\"\n",
              "       width=\"24px\">\n",
              "    <path d=\"M0 0h24v24H0V0z\" fill=\"none\"/>\n",
              "    <path d=\"M18.56 5.44l.94 2.06.94-2.06 2.06-.94-2.06-.94-.94-2.06-.94 2.06-2.06.94zm-11 1L8.5 8.5l.94-2.06 2.06-.94-2.06-.94L8.5 2.5l-.94 2.06-2.06.94zm10 10l.94 2.06.94-2.06 2.06-.94-2.06-.94-.94-2.06-.94 2.06-2.06.94z\"/><path d=\"M17.41 7.96l-1.37-1.37c-.4-.4-.92-.59-1.43-.59-.52 0-1.04.2-1.43.59L10.3 9.45l-7.72 7.72c-.78.78-.78 2.05 0 2.83L4 21.41c.39.39.9.59 1.41.59.51 0 1.02-.2 1.41-.59l7.78-7.78 2.81-2.81c.8-.78.8-2.07 0-2.86zM5.41 20L4 18.59l7.72-7.72 1.47 1.35L5.41 20z\"/>\n",
              "  </svg>\n",
              "      </button>\n",
              "      \n",
              "  <style>\n",
              "    .colab-df-container {\n",
              "      display:flex;\n",
              "      flex-wrap:wrap;\n",
              "      gap: 12px;\n",
              "    }\n",
              "\n",
              "    .colab-df-convert {\n",
              "      background-color: #E8F0FE;\n",
              "      border: none;\n",
              "      border-radius: 50%;\n",
              "      cursor: pointer;\n",
              "      display: none;\n",
              "      fill: #1967D2;\n",
              "      height: 32px;\n",
              "      padding: 0 0 0 0;\n",
              "      width: 32px;\n",
              "    }\n",
              "\n",
              "    .colab-df-convert:hover {\n",
              "      background-color: #E2EBFA;\n",
              "      box-shadow: 0px 1px 2px rgba(60, 64, 67, 0.3), 0px 1px 3px 1px rgba(60, 64, 67, 0.15);\n",
              "      fill: #174EA6;\n",
              "    }\n",
              "\n",
              "    [theme=dark] .colab-df-convert {\n",
              "      background-color: #3B4455;\n",
              "      fill: #D2E3FC;\n",
              "    }\n",
              "\n",
              "    [theme=dark] .colab-df-convert:hover {\n",
              "      background-color: #434B5C;\n",
              "      box-shadow: 0px 1px 3px 1px rgba(0, 0, 0, 0.15);\n",
              "      filter: drop-shadow(0px 1px 2px rgba(0, 0, 0, 0.3));\n",
              "      fill: #FFFFFF;\n",
              "    }\n",
              "  </style>\n",
              "\n",
              "      <script>\n",
              "        const buttonEl =\n",
              "          document.querySelector('#df-9b3cec5c-27a5-4835-af5e-788c243275b9 button.colab-df-convert');\n",
              "        buttonEl.style.display =\n",
              "          google.colab.kernel.accessAllowed ? 'block' : 'none';\n",
              "\n",
              "        async function convertToInteractive(key) {\n",
              "          const element = document.querySelector('#df-9b3cec5c-27a5-4835-af5e-788c243275b9');\n",
              "          const dataTable =\n",
              "            await google.colab.kernel.invokeFunction('convertToInteractive',\n",
              "                                                     [key], {});\n",
              "          if (!dataTable) return;\n",
              "\n",
              "          const docLinkHtml = 'Like what you see? Visit the ' +\n",
              "            '<a target=\"_blank\" href=https://colab.research.google.com/notebooks/data_table.ipynb>data table notebook</a>'\n",
              "            + ' to learn more about interactive tables.';\n",
              "          element.innerHTML = '';\n",
              "          dataTable['output_type'] = 'display_data';\n",
              "          await google.colab.output.renderOutput(dataTable, element);\n",
              "          const docLink = document.createElement('div');\n",
              "          docLink.innerHTML = docLinkHtml;\n",
              "          element.appendChild(docLink);\n",
              "        }\n",
              "      </script>\n",
              "    </div>\n",
              "  </div>\n",
              "  "
            ]
          },
          "metadata": {},
          "execution_count": 21
        }
      ]
    },
    {
      "cell_type": "code",
      "source": [
        "# for validation purposes\n",
        "nt = NumericalTransformer(model=1)\n",
        "df_num = nt.fit_transform(df)\n",
        "df_num"
      ],
      "metadata": {
        "id": "22lgbdTqpXqD",
        "colab": {
          "base_uri": "https://localhost:8080/"
        },
        "outputId": "fab6b2ad-4377-45a7-a186-3d0fa855f2cc"
      },
      "execution_count": null,
      "outputs": [
        {
          "output_type": "execute_result",
          "data": {
            "text/plain": [
              "array([[ 0.43105921,  1.61158526, -0.39726645, ...,  0.76559949,\n",
              "         0.86201652,  0.26250589],\n",
              "       [ 0.64767724, -0.07295841,  0.96521003, ..., -0.0789009 ,\n",
              "        -0.27370592,  2.99922025],\n",
              "       [-0.16464039, -1.11022565, -0.06642017, ..., -0.81999824,\n",
              "        -1.67478408,  0.350787  ],\n",
              "       ...,\n",
              "       [ 1.18922233, -0.23545458,  0.52056978, ..., -0.58300656,\n",
              "        -1.31390032, -1.59139738],\n",
              "       [-0.69264684, -0.26795382, -0.92557171, ..., -0.08605178,\n",
              "         1.44933716, -0.62030519],\n",
              "       [-0.16464039,  0.33599029,  0.05366654, ...,  0.09493519,\n",
              "         0.97169688, -1.23827295]])"
            ]
          },
          "metadata": {},
          "execution_count": 22
        }
      ]
    },
    {
      "cell_type": "code",
      "source": [
        "# return columns name\n",
        "nt.get_feature_names_out()"
      ],
      "metadata": {
        "id": "GgJK5Bnspo8A",
        "colab": {
          "base_uri": "https://localhost:8080/"
        },
        "outputId": "5b349d09-8c31-4b6e-dae0-87b531f039bb"
      },
      "execution_count": null,
      "outputs": [
        {
          "output_type": "execute_result",
          "data": {
            "text/plain": [
              "['loan_amnt',\n",
              " 'int_rate',\n",
              " 'installment',\n",
              " 'annual_inc',\n",
              " 'dti',\n",
              " 'delinq_2yrs',\n",
              " 'inq_last_6mths',\n",
              " 'open_acc',\n",
              " 'pub_rec',\n",
              " 'revol_bal',\n",
              " 'revol_util',\n",
              " 'total_acc']"
            ]
          },
          "metadata": {},
          "execution_count": 23
        }
      ]
    },
    {
      "cell_type": "markdown",
      "source": [
        "#### 1.4.3.4 Data Preparation Pipeline"
      ],
      "metadata": {
        "id": "_HjGtsdP2xb9"
      }
    },
    {
      "cell_type": "code",
      "source": [
        "# model = 0 (min-max), 1 (z-score), 2 (without normalization)\n",
        "numerical_model = 0\n",
        "\n",
        "# Categrical features to pass down the categorical pipeline\n",
        "categorical_features = x_train.select_dtypes(\"object\").columns.to_list()\n",
        "\n",
        "# Numerical features to pass down the numerical pipeline\n",
        "numerical_features = x_train.select_dtypes(\"float64\").columns.to_list()\n",
        "\n",
        "# Defining the steps for the categorical pipeline\n",
        "categorical_pipeline = Pipeline(steps=[('cat_selector', FeatureSelector(categorical_features)),\n",
        "                                       ('imputer_cat', SimpleImputer(strategy=\"most_frequent\")),\n",
        "                                       ('cat_transformer', CategoricalTransformer(colnames=categorical_features)),\n",
        "                                       ('cat_encoder', OneHotEncoder(handle_unknown=\"ignore\",sparse=False, drop=\"first\"))\n",
        "                                       ]\n",
        "                                )\n",
        "\n",
        "# Defining the steps in the numerical pipeline\n",
        "numerical_pipeline = Pipeline(steps=[('num_selector', FeatureSelector(numerical_features)),\n",
        "                                     ('imputer_num', SimpleImputer(strategy=\"median\")),\n",
        "                                     ('num_transformer', NumericalTransformer(numerical_model, \n",
        "                                                                              colnames=numerical_features))])\n",
        "\n",
        "# Combine numerical and categorical pipelines into one full big pipeline horizontally\n",
        "full_pipeline_preprocessing = FeatureUnion(transformer_list=[('cat_pipeline', categorical_pipeline),\n",
        "                                                             ('num_pipeline', numerical_pipeline)]\n",
        "                              )"
      ],
      "metadata": {
        "id": "dOn6aApB212h"
      },
      "execution_count": null,
      "outputs": []
    },
    {
      "cell_type": "code",
      "source": [
        "# for validation purposes\n",
        "new_data = full_pipeline_preprocessing.fit_transform(x_train)\n",
        "# cat_names is a numpy array\n",
        "cat_names = full_pipeline_preprocessing.get_params()[\"cat_pipeline\"][3].get_feature_names_out().tolist()\n",
        "# num_names is a list\n",
        "num_names = full_pipeline_preprocessing.get_params()[\"num_pipeline\"][2].get_feature_names_out()\n",
        "df = pd.DataFrame(new_data,columns = cat_names + num_names)\n",
        "df.head()"
      ],
      "metadata": {
        "id": "eKOidk7l4PXz",
        "colab": {
          "base_uri": "https://localhost:8080/"
        },
        "outputId": "1e196b41-b599-47c7-a602-96263b410601"
      },
      "execution_count": null,
      "outputs": [
        {
          "output_type": "execute_result",
          "data": {
            "text/plain": [
              "   term_60 months  emp_length_1  emp_length_2  emp_length_3  emp_length_4  \\\n",
              "0             1.0           0.0           0.0           0.0           0.0   \n",
              "1             0.0           0.0           0.0           0.0           0.0   \n",
              "2             0.0           0.0           0.0           0.0           0.0   \n",
              "3             0.0           0.0           0.0           1.0           0.0   \n",
              "4             0.0           0.0           0.0           1.0           0.0   \n",
              "\n",
              "   emp_length_5  emp_length_6  emp_length_7  emp_length_8  emp_length_9  ...  \\\n",
              "0           0.0           0.0           0.0           0.0           0.0  ...   \n",
              "1           0.0           0.0           0.0           0.0           0.0  ...   \n",
              "2           1.0           0.0           0.0           0.0           0.0  ...   \n",
              "3           0.0           0.0           0.0           0.0           0.0  ...   \n",
              "4           0.0           0.0           0.0           0.0           0.0  ...   \n",
              "\n",
              "   installment  annual_inc       dti  delinq_2yrs  inq_last_6mths  open_acc  \\\n",
              "0     0.176550    0.127517  0.721202          0.0           0.000     0.325   \n",
              "1     0.398724    0.091723  0.666110          0.0           0.000     0.150   \n",
              "2     0.230500    0.065772  0.466778          0.0           0.250     0.125   \n",
              "3     0.123960    0.043624  0.252755          0.0           0.125     0.050   \n",
              "4     0.038216    0.049664  0.825042          0.0           0.000     0.500   \n",
              "\n",
              "   pub_rec  revol_bal  revol_util  total_acc  \n",
              "0      0.0   0.170003    0.733734   0.261364  \n",
              "1      0.0   0.080755    0.412412   0.613636  \n",
              "2      0.0   0.002434    0.016016   0.272727  \n",
              "3      0.0   0.033820    0.562563   0.238636  \n",
              "4      0.0   0.184187    0.888889   0.318182  \n",
              "\n",
              "[5 rows x 42 columns]"
            ],
            "text/html": [
              "\n",
              "  <div id=\"df-035b29fc-2e19-4c8d-802b-cf333e83564e\">\n",
              "    <div class=\"colab-df-container\">\n",
              "      <div>\n",
              "<style scoped>\n",
              "    .dataframe tbody tr th:only-of-type {\n",
              "        vertical-align: middle;\n",
              "    }\n",
              "\n",
              "    .dataframe tbody tr th {\n",
              "        vertical-align: top;\n",
              "    }\n",
              "\n",
              "    .dataframe thead th {\n",
              "        text-align: right;\n",
              "    }\n",
              "</style>\n",
              "<table border=\"1\" class=\"dataframe\">\n",
              "  <thead>\n",
              "    <tr style=\"text-align: right;\">\n",
              "      <th></th>\n",
              "      <th>term_60 months</th>\n",
              "      <th>emp_length_1</th>\n",
              "      <th>emp_length_2</th>\n",
              "      <th>emp_length_3</th>\n",
              "      <th>emp_length_4</th>\n",
              "      <th>emp_length_5</th>\n",
              "      <th>emp_length_6</th>\n",
              "      <th>emp_length_7</th>\n",
              "      <th>emp_length_8</th>\n",
              "      <th>emp_length_9</th>\n",
              "      <th>...</th>\n",
              "      <th>installment</th>\n",
              "      <th>annual_inc</th>\n",
              "      <th>dti</th>\n",
              "      <th>delinq_2yrs</th>\n",
              "      <th>inq_last_6mths</th>\n",
              "      <th>open_acc</th>\n",
              "      <th>pub_rec</th>\n",
              "      <th>revol_bal</th>\n",
              "      <th>revol_util</th>\n",
              "      <th>total_acc</th>\n",
              "    </tr>\n",
              "  </thead>\n",
              "  <tbody>\n",
              "    <tr>\n",
              "      <th>0</th>\n",
              "      <td>1.0</td>\n",
              "      <td>0.0</td>\n",
              "      <td>0.0</td>\n",
              "      <td>0.0</td>\n",
              "      <td>0.0</td>\n",
              "      <td>0.0</td>\n",
              "      <td>0.0</td>\n",
              "      <td>0.0</td>\n",
              "      <td>0.0</td>\n",
              "      <td>0.0</td>\n",
              "      <td>...</td>\n",
              "      <td>0.176550</td>\n",
              "      <td>0.127517</td>\n",
              "      <td>0.721202</td>\n",
              "      <td>0.0</td>\n",
              "      <td>0.000</td>\n",
              "      <td>0.325</td>\n",
              "      <td>0.0</td>\n",
              "      <td>0.170003</td>\n",
              "      <td>0.733734</td>\n",
              "      <td>0.261364</td>\n",
              "    </tr>\n",
              "    <tr>\n",
              "      <th>1</th>\n",
              "      <td>0.0</td>\n",
              "      <td>0.0</td>\n",
              "      <td>0.0</td>\n",
              "      <td>0.0</td>\n",
              "      <td>0.0</td>\n",
              "      <td>0.0</td>\n",
              "      <td>0.0</td>\n",
              "      <td>0.0</td>\n",
              "      <td>0.0</td>\n",
              "      <td>0.0</td>\n",
              "      <td>...</td>\n",
              "      <td>0.398724</td>\n",
              "      <td>0.091723</td>\n",
              "      <td>0.666110</td>\n",
              "      <td>0.0</td>\n",
              "      <td>0.000</td>\n",
              "      <td>0.150</td>\n",
              "      <td>0.0</td>\n",
              "      <td>0.080755</td>\n",
              "      <td>0.412412</td>\n",
              "      <td>0.613636</td>\n",
              "    </tr>\n",
              "    <tr>\n",
              "      <th>2</th>\n",
              "      <td>0.0</td>\n",
              "      <td>0.0</td>\n",
              "      <td>0.0</td>\n",
              "      <td>0.0</td>\n",
              "      <td>0.0</td>\n",
              "      <td>1.0</td>\n",
              "      <td>0.0</td>\n",
              "      <td>0.0</td>\n",
              "      <td>0.0</td>\n",
              "      <td>0.0</td>\n",
              "      <td>...</td>\n",
              "      <td>0.230500</td>\n",
              "      <td>0.065772</td>\n",
              "      <td>0.466778</td>\n",
              "      <td>0.0</td>\n",
              "      <td>0.250</td>\n",
              "      <td>0.125</td>\n",
              "      <td>0.0</td>\n",
              "      <td>0.002434</td>\n",
              "      <td>0.016016</td>\n",
              "      <td>0.272727</td>\n",
              "    </tr>\n",
              "    <tr>\n",
              "      <th>3</th>\n",
              "      <td>0.0</td>\n",
              "      <td>0.0</td>\n",
              "      <td>0.0</td>\n",
              "      <td>1.0</td>\n",
              "      <td>0.0</td>\n",
              "      <td>0.0</td>\n",
              "      <td>0.0</td>\n",
              "      <td>0.0</td>\n",
              "      <td>0.0</td>\n",
              "      <td>0.0</td>\n",
              "      <td>...</td>\n",
              "      <td>0.123960</td>\n",
              "      <td>0.043624</td>\n",
              "      <td>0.252755</td>\n",
              "      <td>0.0</td>\n",
              "      <td>0.125</td>\n",
              "      <td>0.050</td>\n",
              "      <td>0.0</td>\n",
              "      <td>0.033820</td>\n",
              "      <td>0.562563</td>\n",
              "      <td>0.238636</td>\n",
              "    </tr>\n",
              "    <tr>\n",
              "      <th>4</th>\n",
              "      <td>0.0</td>\n",
              "      <td>0.0</td>\n",
              "      <td>0.0</td>\n",
              "      <td>1.0</td>\n",
              "      <td>0.0</td>\n",
              "      <td>0.0</td>\n",
              "      <td>0.0</td>\n",
              "      <td>0.0</td>\n",
              "      <td>0.0</td>\n",
              "      <td>0.0</td>\n",
              "      <td>...</td>\n",
              "      <td>0.038216</td>\n",
              "      <td>0.049664</td>\n",
              "      <td>0.825042</td>\n",
              "      <td>0.0</td>\n",
              "      <td>0.000</td>\n",
              "      <td>0.500</td>\n",
              "      <td>0.0</td>\n",
              "      <td>0.184187</td>\n",
              "      <td>0.888889</td>\n",
              "      <td>0.318182</td>\n",
              "    </tr>\n",
              "  </tbody>\n",
              "</table>\n",
              "<p>5 rows × 42 columns</p>\n",
              "</div>\n",
              "      <button class=\"colab-df-convert\" onclick=\"convertToInteractive('df-035b29fc-2e19-4c8d-802b-cf333e83564e')\"\n",
              "              title=\"Convert this dataframe to an interactive table.\"\n",
              "              style=\"display:none;\">\n",
              "        \n",
              "  <svg xmlns=\"http://www.w3.org/2000/svg\" height=\"24px\"viewBox=\"0 0 24 24\"\n",
              "       width=\"24px\">\n",
              "    <path d=\"M0 0h24v24H0V0z\" fill=\"none\"/>\n",
              "    <path d=\"M18.56 5.44l.94 2.06.94-2.06 2.06-.94-2.06-.94-.94-2.06-.94 2.06-2.06.94zm-11 1L8.5 8.5l.94-2.06 2.06-.94-2.06-.94L8.5 2.5l-.94 2.06-2.06.94zm10 10l.94 2.06.94-2.06 2.06-.94-2.06-.94-.94-2.06-.94 2.06-2.06.94z\"/><path d=\"M17.41 7.96l-1.37-1.37c-.4-.4-.92-.59-1.43-.59-.52 0-1.04.2-1.43.59L10.3 9.45l-7.72 7.72c-.78.78-.78 2.05 0 2.83L4 21.41c.39.39.9.59 1.41.59.51 0 1.02-.2 1.41-.59l7.78-7.78 2.81-2.81c.8-.78.8-2.07 0-2.86zM5.41 20L4 18.59l7.72-7.72 1.47 1.35L5.41 20z\"/>\n",
              "  </svg>\n",
              "      </button>\n",
              "      \n",
              "  <style>\n",
              "    .colab-df-container {\n",
              "      display:flex;\n",
              "      flex-wrap:wrap;\n",
              "      gap: 12px;\n",
              "    }\n",
              "\n",
              "    .colab-df-convert {\n",
              "      background-color: #E8F0FE;\n",
              "      border: none;\n",
              "      border-radius: 50%;\n",
              "      cursor: pointer;\n",
              "      display: none;\n",
              "      fill: #1967D2;\n",
              "      height: 32px;\n",
              "      padding: 0 0 0 0;\n",
              "      width: 32px;\n",
              "    }\n",
              "\n",
              "    .colab-df-convert:hover {\n",
              "      background-color: #E2EBFA;\n",
              "      box-shadow: 0px 1px 2px rgba(60, 64, 67, 0.3), 0px 1px 3px 1px rgba(60, 64, 67, 0.15);\n",
              "      fill: #174EA6;\n",
              "    }\n",
              "\n",
              "    [theme=dark] .colab-df-convert {\n",
              "      background-color: #3B4455;\n",
              "      fill: #D2E3FC;\n",
              "    }\n",
              "\n",
              "    [theme=dark] .colab-df-convert:hover {\n",
              "      background-color: #434B5C;\n",
              "      box-shadow: 0px 1px 3px 1px rgba(0, 0, 0, 0.15);\n",
              "      filter: drop-shadow(0px 1px 2px rgba(0, 0, 0, 0.3));\n",
              "      fill: #FFFFFF;\n",
              "    }\n",
              "  </style>\n",
              "\n",
              "      <script>\n",
              "        const buttonEl =\n",
              "          document.querySelector('#df-035b29fc-2e19-4c8d-802b-cf333e83564e button.colab-df-convert');\n",
              "        buttonEl.style.display =\n",
              "          google.colab.kernel.accessAllowed ? 'block' : 'none';\n",
              "\n",
              "        async function convertToInteractive(key) {\n",
              "          const element = document.querySelector('#df-035b29fc-2e19-4c8d-802b-cf333e83564e');\n",
              "          const dataTable =\n",
              "            await google.colab.kernel.invokeFunction('convertToInteractive',\n",
              "                                                     [key], {});\n",
              "          if (!dataTable) return;\n",
              "\n",
              "          const docLinkHtml = 'Like what you see? Visit the ' +\n",
              "            '<a target=\"_blank\" href=https://colab.research.google.com/notebooks/data_table.ipynb>data table notebook</a>'\n",
              "            + ' to learn more about interactive tables.';\n",
              "          element.innerHTML = '';\n",
              "          dataTable['output_type'] = 'display_data';\n",
              "          await google.colab.output.renderOutput(dataTable, element);\n",
              "          const docLink = document.createElement('div');\n",
              "          docLink.innerHTML = docLinkHtml;\n",
              "          element.appendChild(docLink);\n",
              "        }\n",
              "      </script>\n",
              "    </div>\n",
              "  </div>\n",
              "  "
            ]
          },
          "metadata": {},
          "execution_count": 25
        }
      ]
    },
    {
      "cell_type": "code",
      "source": [
        "df.shape"
      ],
      "metadata": {
        "colab": {
          "base_uri": "https://localhost:8080/"
        },
        "id": "Y33lLBHjgLys",
        "outputId": "cacdaae9-1cd4-4cfa-d700-62ddbecdfe19"
      },
      "execution_count": null,
      "outputs": [
        {
          "output_type": "execute_result",
          "data": {
            "text/plain": [
              "(18431, 42)"
            ]
          },
          "metadata": {},
          "execution_count": 26
        }
      ]
    },
    {
      "cell_type": "code",
      "source": [
        "x_train.shape"
      ],
      "metadata": {
        "colab": {
          "base_uri": "https://localhost:8080/"
        },
        "id": "8Efr1QcjgQR8",
        "outputId": "01c4ca1a-0aba-4a08-e4c6-a7ca0ebb6c2e"
      },
      "execution_count": null,
      "outputs": [
        {
          "output_type": "execute_result",
          "data": {
            "text/plain": [
              "(18431, 17)"
            ]
          },
          "metadata": {},
          "execution_count": 27
        }
      ]
    },
    {
      "cell_type": "code",
      "source": [
        "y_train.shape"
      ],
      "metadata": {
        "colab": {
          "base_uri": "https://localhost:8080/"
        },
        "id": "DOep6zFQgWvp",
        "outputId": "eb053f06-1405-4055-fded-86ec46ff7187"
      },
      "execution_count": null,
      "outputs": [
        {
          "output_type": "execute_result",
          "data": {
            "text/plain": [
              "(18431,)"
            ]
          },
          "metadata": {},
          "execution_count": 28
        }
      ]
    },
    {
      "cell_type": "markdown",
      "source": [
        "## 1.5 Holdout Training"
      ],
      "metadata": {
        "id": "3JBkxykTp2HF"
      }
    },
    {
      "cell_type": "markdown",
      "source": [
        "In this example the inference artifacts are:\n",
        "- pipe (contains trained model and the preprocesing pipeline)\n",
        "- le (label encoder object used to encode the target variable)"
      ],
      "metadata": {
        "id": "_toW-9SWAZv7"
      }
    },
    {
      "cell_type": "code",
      "source": [
        "# The full pipeline \n",
        "pipe = Pipeline(steps = [('full_pipeline', full_pipeline_preprocessing),\n",
        "                         (\"classifier\",DecisionTreeClassifier())\n",
        "                         ]\n",
        "                )\n",
        "\n",
        "# training\n",
        "logger.info(\"Training\")\n",
        "pipe.fit(x_train, y_train)\n",
        "\n",
        "# predict\n",
        "logger.info(\"Infering\")\n",
        "predict = pipe.predict(x_val)\n",
        "\n",
        "# Evaluation Metrics\n",
        "logger.info(\"Evaluation metrics\")\n",
        "fbeta = fbeta_score(y_val, predict, beta=1, zero_division=1)\n",
        "precision = precision_score(y_val, predict, zero_division=1)\n",
        "recall = recall_score(y_val, predict, zero_division=1)\n",
        "acc = accuracy_score(y_val, predict)\n",
        "\n",
        "logger.info(\"Accuracy: {}\".format(acc))\n",
        "logger.info(\"Precision: {}\".format(precision))\n",
        "logger.info(\"Recall: {}\".format(recall))\n",
        "logger.info(\"F1: {}\".format(fbeta))"
      ],
      "metadata": {
        "id": "v-CIUlIE2aVU",
        "colab": {
          "base_uri": "https://localhost:8080/"
        },
        "outputId": "9dcb5178-5976-4509-9477-f63178e0fd1d"
      },
      "execution_count": null,
      "outputs": [
        {
          "output_type": "stream",
          "name": "stderr",
          "text": [
            "29-05-2022 00:29:56 Training\n",
            "29-05-2022 00:29:57 Infering\n",
            "29-05-2022 00:29:57 Evaluation metrics\n",
            "29-05-2022 00:29:57 Accuracy: 0.7637765419615774\n",
            "29-05-2022 00:29:57 Precision: 0.8705296514259846\n",
            "29-05-2022 00:29:57 Recall: 0.8508849557522123\n",
            "29-05-2022 00:29:57 F1: 0.8605952114567017\n"
          ]
        }
      ]
    },
    {
      "cell_type": "code",
      "source": [
        "run.summary[\"Acc\"] = acc\n",
        "run.summary[\"Precision\"] = precision\n",
        "run.summary[\"Recall\"] = recall\n",
        "run.summary[\"F1\"] = fbeta"
      ],
      "metadata": {
        "id": "kw1kSZf37-yw"
      },
      "execution_count": null,
      "outputs": []
    },
    {
      "cell_type": "code",
      "source": [
        "# predict bias\n",
        "logger.info(\"Infering Bias\")\n",
        "predict_bias = pipe.predict(x_train)\n",
        "\n",
        "# Evaluation Metrics\n",
        "logger.info(\"Bias Evaluation metrics\")\n",
        "fbeta = fbeta_score(y_train, predict_bias, beta=1, zero_division=1)\n",
        "precision = precision_score(y_train, predict_bias, zero_division=1)\n",
        "recall = recall_score(y_train, predict_bias, zero_division=1)\n",
        "acc = accuracy_score(y_train, predict_bias)\n",
        "\n",
        "logger.info(\"Bias Accuracy: {}\".format(acc))\n",
        "logger.info(\"Bias Precision: {}\".format(precision))\n",
        "logger.info(\"Bias Recall: {}\".format(recall))\n",
        "logger.info(\"Bias F1: {}\".format(fbeta))"
      ],
      "metadata": {
        "id": "wcIO140lO-xc",
        "colab": {
          "base_uri": "https://localhost:8080/"
        },
        "outputId": "4f9926f7-9ef7-4f3f-ce38-0504a95e21bf"
      },
      "execution_count": null,
      "outputs": [
        {
          "output_type": "stream",
          "name": "stderr",
          "text": [
            "29-05-2022 00:29:57 Infering Bias\n",
            "29-05-2022 00:29:57 Bias Evaluation metrics\n",
            "29-05-2022 00:29:57 Bias Accuracy: 1.0\n",
            "29-05-2022 00:29:57 Bias Precision: 1.0\n",
            "29-05-2022 00:29:57 Bias Recall: 1.0\n",
            "29-05-2022 00:29:57 Bias F1: 1.0\n"
          ]
        }
      ]
    },
    {
      "cell_type": "code",
      "source": [
        "# Compare the accuracy, precision, recall with previous ones\n",
        "print(classification_report(y_val,predict))"
      ],
      "metadata": {
        "id": "RR7x-wAM94VS",
        "colab": {
          "base_uri": "https://localhost:8080/"
        },
        "outputId": "e7ab6ff8-7661-477a-bf10-5f07262d2d43"
      },
      "execution_count": null,
      "outputs": [
        {
          "output_type": "stream",
          "name": "stdout",
          "text": [
            "              precision    recall  f1-score   support\n",
            "\n",
            "           0       0.21      0.24      0.23      1132\n",
            "           1       0.87      0.85      0.86      6780\n",
            "\n",
            "    accuracy                           0.76      7912\n",
            "   macro avg       0.54      0.55      0.54      7912\n",
            "weighted avg       0.78      0.76      0.77      7912\n",
            "\n"
          ]
        }
      ]
    },
    {
      "cell_type": "code",
      "source": [
        "fig_confusion_matrix, ax = plt.subplots(1,1,figsize=(7,4))\n",
        "ConfusionMatrixDisplay(confusion_matrix(predict,y_val,labels=[1,0]),\n",
        "                       display_labels=[\"1\",\"0\"]).plot(values_format=\".0f\",ax=ax)\n",
        "\n",
        "ax.set_xlabel(\"True Label\")\n",
        "ax.set_ylabel(\"Predicted Label\")\n",
        "plt.show()"
      ],
      "metadata": {
        "id": "9f5FubtsA8yw",
        "colab": {
          "base_uri": "https://localhost:8080/",
          "height": 279
        },
        "outputId": "d5be26d3-38a8-464d-f14b-1e4b1fb1027e"
      },
      "execution_count": null,
      "outputs": [
        {
          "output_type": "display_data",
          "data": {
            "text/plain": [
              "<Figure size 504x288 with 2 Axes>"
            ],
            "image/png": "[encoded data removed]"
          },
          "metadata": {
            "needs_background": "light"
          }
        }
      ]
    },
    {
      "cell_type": "code",
      "source": [
        "# Uploading figures\n",
        "logger.info(\"Uploading figures\")\n",
        "run.log(\n",
        "    {\n",
        "        \"confusion_matrix\": wandb.Image(fig_confusion_matrix),\n",
        "        # \"other_figure\": wandb.Image(other_fig)\n",
        "    }\n",
        ")"
      ],
      "metadata": {
        "id": "7NODonon9kHO",
        "colab": {
          "base_uri": "https://localhost:8080/"
        },
        "outputId": "be6e564d-820b-4473-bb99-8bb916f6ec46"
      },
      "execution_count": null,
      "outputs": [
        {
          "output_type": "stream",
          "name": "stderr",
          "text": [
            "29-05-2022 00:29:57 Uploading figures\n"
          ]
        }
      ]
    },
    {
      "cell_type": "code",
      "source": [
        "# Feature importance\n",
        "pipe.get_params()[\"classifier\"].feature_importances_"
      ],
      "metadata": {
        "id": "k1XylahaKaCW",
        "colab": {
          "base_uri": "https://localhost:8080/"
        },
        "outputId": "45742edb-24b8-4f55-e029-5a0f112e38f1"
      },
      "execution_count": null,
      "outputs": [
        {
          "output_type": "execute_result",
          "data": {
            "text/plain": [
              "array([0.01032797, 0.00808898, 0.00979263, 0.01050745, 0.0071569 ,\n",
              "       0.01116871, 0.00611285, 0.00670872, 0.00446337, 0.00358727,\n",
              "       0.01229317, 0.        , 0.00066476, 0.00848392, 0.00628738,\n",
              "       0.00882303, 0.00632174, 0.00379822, 0.01363918, 0.00102073,\n",
              "       0.0026523 , 0.00102792, 0.00250031, 0.00345276, 0.0035178 ,\n",
              "       0.00605377, 0.00165999, 0.00606701, 0.00236593, 0.0022719 ,\n",
              "       0.04654765, 0.10250674, 0.08459346, 0.10463332, 0.09235207,\n",
              "       0.00992039, 0.02344821, 0.06583025, 0.00886443, 0.11056398,\n",
              "       0.09542138, 0.08450145])"
            ]
          },
          "metadata": {},
          "execution_count": 35
        }
      ]
    },
    {
      "cell_type": "code",
      "source": [
        "# Get categorical column names\n",
        "cat_names = pipe.named_steps['full_pipeline'].get_params()[\"cat_pipeline\"][3].get_feature_names_out().tolist()\n",
        "cat_names"
      ],
      "metadata": {
        "id": "TCp9zEgGMJD0",
        "colab": {
          "base_uri": "https://localhost:8080/"
        },
        "outputId": "aeeff8db-097e-4cfd-b83f-8515739e68c7"
      },
      "execution_count": null,
      "outputs": [
        {
          "output_type": "execute_result",
          "data": {
            "text/plain": [
              "['term_60 months',\n",
              " 'emp_length_1',\n",
              " 'emp_length_2',\n",
              " 'emp_length_3',\n",
              " 'emp_length_4',\n",
              " 'emp_length_5',\n",
              " 'emp_length_6',\n",
              " 'emp_length_7',\n",
              " 'emp_length_8',\n",
              " 'emp_length_9',\n",
              " 'emp_length_10',\n",
              " 'home_ownership_NONE',\n",
              " 'home_ownership_OTHER',\n",
              " 'home_ownership_OWN',\n",
              " 'home_ownership_RENT',\n",
              " 'verification_status_Source Verified',\n",
              " 'verification_status_Verified',\n",
              " 'purpose_credit_card',\n",
              " 'purpose_debt_consolidation',\n",
              " 'purpose_educational',\n",
              " 'purpose_home_improvement',\n",
              " 'purpose_house',\n",
              " 'purpose_major_purchase',\n",
              " 'purpose_medical',\n",
              " 'purpose_moving',\n",
              " 'purpose_other',\n",
              " 'purpose_renewable_energy',\n",
              " 'purpose_small_business',\n",
              " 'purpose_vacation',\n",
              " 'purpose_wedding']"
            ]
          },
          "metadata": {},
          "execution_count": 36
        }
      ]
    },
    {
      "cell_type": "code",
      "source": [
        "# Get numerical column names\n",
        "num_names = pipe.named_steps['full_pipeline'].get_params()[\"num_pipeline\"][2].get_feature_names_out()\n",
        "num_names"
      ],
      "metadata": {
        "id": "6Ob7S9N2L82x",
        "colab": {
          "base_uri": "https://localhost:8080/"
        },
        "outputId": "c49e9a45-f03d-4bc9-8149-2cb8a58f1be6"
      },
      "execution_count": null,
      "outputs": [
        {
          "output_type": "execute_result",
          "data": {
            "text/plain": [
              "['loan_amnt',\n",
              " 'int_rate',\n",
              " 'installment',\n",
              " 'annual_inc',\n",
              " 'dti',\n",
              " 'delinq_2yrs',\n",
              " 'inq_last_6mths',\n",
              " 'open_acc',\n",
              " 'pub_rec',\n",
              " 'revol_bal',\n",
              " 'revol_util',\n",
              " 'total_acc']"
            ]
          },
          "metadata": {},
          "execution_count": 37
        }
      ]
    },
    {
      "cell_type": "code",
      "source": [
        "# merge all column names together\n",
        "all_names = cat_names + num_names\n",
        "all_names"
      ],
      "metadata": {
        "id": "USlqpKBUMV64",
        "colab": {
          "base_uri": "https://localhost:8080/"
        },
        "outputId": "924e10ae-ed4c-4a79-bafd-a1b12118251d"
      },
      "execution_count": null,
      "outputs": [
        {
          "output_type": "execute_result",
          "data": {
            "text/plain": [
              "['term_60 months',\n",
              " 'emp_length_1',\n",
              " 'emp_length_2',\n",
              " 'emp_length_3',\n",
              " 'emp_length_4',\n",
              " 'emp_length_5',\n",
              " 'emp_length_6',\n",
              " 'emp_length_7',\n",
              " 'emp_length_8',\n",
              " 'emp_length_9',\n",
              " 'emp_length_10',\n",
              " 'home_ownership_NONE',\n",
              " 'home_ownership_OTHER',\n",
              " 'home_ownership_OWN',\n",
              " 'home_ownership_RENT',\n",
              " 'verification_status_Source Verified',\n",
              " 'verification_status_Verified',\n",
              " 'purpose_credit_card',\n",
              " 'purpose_debt_consolidation',\n",
              " 'purpose_educational',\n",
              " 'purpose_home_improvement',\n",
              " 'purpose_house',\n",
              " 'purpose_major_purchase',\n",
              " 'purpose_medical',\n",
              " 'purpose_moving',\n",
              " 'purpose_other',\n",
              " 'purpose_renewable_energy',\n",
              " 'purpose_small_business',\n",
              " 'purpose_vacation',\n",
              " 'purpose_wedding',\n",
              " 'loan_amnt',\n",
              " 'int_rate',\n",
              " 'installment',\n",
              " 'annual_inc',\n",
              " 'dti',\n",
              " 'delinq_2yrs',\n",
              " 'inq_last_6mths',\n",
              " 'open_acc',\n",
              " 'pub_rec',\n",
              " 'revol_bal',\n",
              " 'revol_util',\n",
              " 'total_acc']"
            ]
          },
          "metadata": {},
          "execution_count": 38
        }
      ]
    },
    {
      "cell_type": "code",
      "source": [
        "# Visualize all classifier plots\n",
        "# For a complete documentation please see: https://docs.wandb.ai/guides/integrations/scikit\n",
        "wandb.sklearn.plot_classifier(pipe.get_params()[\"classifier\"],\n",
        "                              full_pipeline_preprocessing.transform(x_train),\n",
        "                              full_pipeline_preprocessing.transform(x_val),\n",
        "                              y_train,\n",
        "                              y_val,\n",
        "                              predict,\n",
        "                              pipe.predict_proba(x_val),\n",
        "                              [0,1],\n",
        "                              model_name='DT', feature_names=all_names)"
      ],
      "metadata": {
        "id": "wo0jKHj0FlIq",
        "colab": {
          "base_uri": "https://localhost:8080/"
        },
        "outputId": "7d1be8d9-c5aa-4f6f-9d16-52e214072adb"
      },
      "execution_count": null,
      "outputs": [
        {
          "output_type": "stream",
          "name": "stderr",
          "text": [
            "\u001b[34m\u001b[1mwandb\u001b[0m: \n",
            "\u001b[34m\u001b[1mwandb\u001b[0m: Plotting DT.\n",
            "\u001b[34m\u001b[1mwandb\u001b[0m: Logged feature importances.\n",
            "\u001b[34m\u001b[1mwandb\u001b[0m: Logged confusion matrix.\n",
            "\u001b[34m\u001b[1mwandb\u001b[0m: Logged summary metrics.\n",
            "\u001b[34m\u001b[1mwandb\u001b[0m: Logged class proportions.\n",
            "\u001b[34m\u001b[1mwandb\u001b[0m: Logged calibration curve.\n",
            "\u001b[34m\u001b[1mwandb\u001b[0m: \u001b[33mWARNING\u001b[0m wandb.plots.* functions are deprecated and will be removed in a future release. Please use wandb.plot.* instead.\n",
            "\u001b[34m\u001b[1mwandb\u001b[0m: Logged roc curve.\n",
            "\u001b[34m\u001b[1mwandb\u001b[0m: Logged precision-recall curve.\n"
          ]
        }
      ]
    },
    {
      "cell_type": "code",
      "source": [
        "# Visualize single plot\n",
        "wandb.sklearn.plot_confusion_matrix(y_val, predict, [0,1])"
      ],
      "metadata": {
        "id": "ZZa7WZFCD9KE"
      },
      "execution_count": null,
      "outputs": []
    },
    {
      "cell_type": "code",
      "source": [
        "# Catch up the class proportions between train and validation\n",
        "wandb.sklearn.plot_class_proportions(y_train, y_val, [0,1])"
      ],
      "metadata": {
        "id": "cd9LLU0sFw5Q"
      },
      "execution_count": null,
      "outputs": []
    },
    {
      "cell_type": "code",
      "source": [
        "# Plot the importance of columns\n",
        "wandb.sklearn.plot_feature_importances(pipe.get_params()[\"classifier\"],all_names)"
      ],
      "metadata": {
        "id": "Wd16dY-3Mn2e"
      },
      "execution_count": null,
      "outputs": []
    },
    {
      "cell_type": "code",
      "source": [
        "# Plot a brief summary of the weighted avg results (recall, precision, f1, acc)\n",
        "wandb.sklearn.plot_summary_metrics(pipe.get_params()[\"classifier\"],\n",
        "                                    full_pipeline_preprocessing.transform(x_train),\n",
        "                                    y_train,\n",
        "                                    full_pipeline_preprocessing.transform(x_val),\n",
        "                                    y_val)"
      ],
      "metadata": {
        "id": "CGX5BdLpMwKw"
      },
      "execution_count": null,
      "outputs": []
    },
    {
      "cell_type": "code",
      "source": [
        "# ROC curve\n",
        "predict_proba = pipe.predict_proba(x_val)\n",
        "wandb.sklearn.plot_roc(y_val, predict_proba, [0,1])"
      ],
      "metadata": {
        "id": "D7Sl-7TbOZqD"
      },
      "execution_count": null,
      "outputs": []
    },
    {
      "cell_type": "code",
      "source": [
        "person1 = pd.DataFrame([[5000.0,'36 months', 5, 162.87, \"10+ years\", \"RENT\", 24000, \"Verified\", \"car\", 27.65,\n",
        "                0.0, 1.0, 3.0, 0.0, 13648.0, 83.7, 9.0]], columns=x_train.columns)\n",
        "pred = pipe.predict(person1)\n",
        "print(pred[0])"
      ],
      "metadata": {
        "colab": {
          "base_uri": "https://localhost:8080/"
        },
        "id": "aExy-Wb23YSP",
        "outputId": "91e6d687-304c-41e5-bdd4-b24b1accf683"
      },
      "execution_count": null,
      "outputs": [
        {
          "output_type": "stream",
          "name": "stdout",
          "text": [
            "1\n"
          ]
        }
      ]
    },
    {
      "cell_type": "code",
      "source": [
        "person2 = pd.DataFrame([[21000.0,'36 months', 12.42, 701.73, \"10+ years\", \"RENT\", 105000, \"Verified\", \"debt_consolidation\", 13.22,\n",
        "                0.0, 0.0, 7.0, 0.0, 32135.0, 90.3, 38.0]], columns=x_train.columns)\n",
        "print(pipe.predict(person2))"
      ],
      "metadata": {
        "colab": {
          "base_uri": "https://localhost:8080/"
        },
        "id": "qzTtTosC3s7c",
        "outputId": "63474a94-64fc-4571-e2e7-1d741a2c0350"
      },
      "execution_count": null,
      "outputs": [
        {
          "output_type": "stream",
          "name": "stdout",
          "text": [
            "[0]\n"
          ]
        }
      ]
    },
    {
      "cell_type": "code",
      "source": [
        "# close the current run before to execute the next section\n",
        "run.finish()"
      ],
      "metadata": {
        "id": "v7WQb9yaReCA",
        "colab": {
          "base_uri": "https://localhost:8080/",
          "height": 270,
          "referenced_widgets": [
            "b33588a583a74b0ca704326da92a26ba",
            "ebd0cae92b844bc5b85c6ca43146b939",
            "d0a7f9c1ca234cfcbf80dde01b6469a6",
            "b53f9d1b87644c17a87da9e7df964c0c",
            "0c88b95b46ce418f9a065ffa977d5df5",
            "e01a27661e7b40dabe5476019a4354a7",
            "edba6df8dde94f4abb03fcf9f8630fc9",
            "9fe9f462c7254798b47382a56719dfe4"
          ]
        },
        "outputId": "77a480ae-80dd-47ed-e0ad-023654a22c81"
      },
      "execution_count": null,
      "outputs": [
        {
          "output_type": "display_data",
          "data": {
            "text/plain": [
              "<IPython.core.display.HTML object>"
            ],
            "text/html": [
              "Waiting for W&B process to finish... <strong style=\"color:green\">(success).</strong>"
            ]
          },
          "metadata": {}
        },
        {
          "output_type": "display_data",
          "data": {
            "text/plain": [
              "VBox(children=(Label(value='0.023 MB of 0.023 MB uploaded (0.000 MB deduped)\\r'), FloatProgress(value=0.994047…"
            ],
            "application/vnd.jupyter.widget-view+json": {
              "version_major": 2,
              "version_minor": 0,
              "model_id": "b33588a583a74b0ca704326da92a26ba"
            }
          },
          "metadata": {}
        },
        {
          "output_type": "display_data",
          "data": {
            "text/plain": [
              "<IPython.core.display.HTML object>"
            ],
            "text/html": [
              "<style>\n",
              "    table.wandb td:nth-child(1) { padding: 0 10px; text-align: left ; width: auto;} td:nth-child(2) {text-align: left ; width: 100%}\n",
              "    .wandb-row { display: flex; flex-direction: row; flex-wrap: wrap; justify-content: flex-start; width: 100% }\n",
              "    .wandb-col { display: flex; flex-direction: column; flex-basis: 100%; flex: 1; padding: 10px; }\n",
              "    </style>\n",
              "<div class=\"wandb-row\"><div class=\"wandb-col\"><h3>Run summary:</h3><br/><table class=\"wandb\"><tr><td>Acc</td><td>0.76378</td></tr><tr><td>F1</td><td>0.8606</td></tr><tr><td>Precision</td><td>0.87053</td></tr><tr><td>Recall</td><td>0.85088</td></tr></table><br/></div></div>"
            ]
          },
          "metadata": {}
        },
        {
          "output_type": "display_data",
          "data": {
            "text/plain": [
              "<IPython.core.display.HTML object>"
            ],
            "text/html": [
              "Synced <strong style=\"color:#cdcd00\">still-microwave-91</strong>: <a href=\"https://wandb.ai/morsinaldo/risk_credit/runs/17nk20fq\" target=\"_blank\">https://wandb.ai/morsinaldo/risk_credit/runs/17nk20fq</a><br/>Synced 5 W&B file(s), 13 media file(s), 7 artifact file(s) and 0 other file(s)"
            ]
          },
          "metadata": {}
        },
        {
          "output_type": "display_data",
          "data": {
            "text/plain": [
              "<IPython.core.display.HTML object>"
            ],
            "text/html": [
              "Find logs at: <code>./wandb/run-20220529_002857-17nk20fq/logs</code>"
            ]
          },
          "metadata": {}
        }
      ]
    },
    {
      "cell_type": "markdown",
      "source": [
        "## 1.6 Hyperparameter Tuning"
      ],
      "metadata": {
        "id": "G8tKLeBIa44E"
      }
    },
    {
      "cell_type": "code",
      "source": [
        "# To see all parameters of a specific step of the pipeline\n",
        "# pipe.named_steps['classifier'].get_params() #or\n",
        "# pipe.named_steps['full_pipeline'].get_params()"
      ],
      "metadata": {
        "id": "eBVoapcIkc6X"
      },
      "execution_count": null,
      "outputs": []
    },
    {
      "cell_type": "code",
      "source": [
        "# global seed\n",
        "seed = 41"
      ],
      "metadata": {
        "id": "jPy291-mwumB"
      },
      "execution_count": null,
      "outputs": []
    },
    {
      "cell_type": "code",
      "source": [
        "sweep_config = {\n",
        "    # try grid or random\n",
        "    \"method\": \"random\",\n",
        "    \"metric\": {\n",
        "        \"name\": \"Accuracy\",\n",
        "        \"goal\": \"maximize\"\n",
        "        },\n",
        "    \"parameters\": {\n",
        "        \"criterion\": {\n",
        "            \"values\": [\"gini\",\"entropy\"]\n",
        "            },\n",
        "        \"splitter\": {\n",
        "            \"values\": [\"random\",\"best\"]\n",
        "        },\n",
        "        \"model\": {\n",
        "            \"values\": [0,1,2]\n",
        "        },\n",
        "        \"random_state\": {\n",
        "            \"values\": [seed]\n",
        "        }\n",
        "    }\n",
        "}\n",
        "\n",
        "sweep_id = wandb.sweep(sweep_config, project=\"decision_tree\")"
      ],
      "metadata": {
        "id": "fMuG1XSTnXVk",
        "colab": {
          "base_uri": "https://localhost:8080/"
        },
        "outputId": "2a6f2a62-7a69-463f-a93d-c1d222280cdd"
      },
      "execution_count": null,
      "outputs": [
        {
          "output_type": "stream",
          "name": "stdout",
          "text": [
            "Create sweep with ID: h1wekc28\n",
            "Sweep URL: https://wandb.ai/morsinaldo/decision_tree/sweeps/h1wekc28\n"
          ]
        }
      ]
    },
    {
      "cell_type": "code",
      "source": [
        "def train():\n",
        "    with wandb.init() as run:\n",
        "\n",
        "        # The full pipeline \n",
        "        pipe = Pipeline(steps = [('full_pipeline', full_pipeline_preprocessing),\n",
        "                                    (\"classifier\",DecisionTreeClassifier())\n",
        "                                    ]\n",
        "                        )\n",
        "\n",
        "        # update the parameters of the pipeline that we would like to tuning\n",
        "        pipe.set_params(**{\"full_pipeline__num_pipeline__num_transformer__model\": run.config.model})\n",
        "        pipe.set_params(**{\"classifier__criterion\": run.config.criterion})\n",
        "        pipe.set_params(**{\"classifier__splitter\": run.config.splitter})\n",
        "        pipe.set_params(**{\"classifier__random_state\": run.config.random_state})\n",
        "\n",
        "        # training\n",
        "        logger.info(\"Training\")\n",
        "        pipe.fit(x_train, y_train)\n",
        "\n",
        "        # predict\n",
        "        logger.info(\"Infering\")\n",
        "        predict = pipe.predict(x_val)\n",
        "\n",
        "        # Evaluation Metrics\n",
        "        logger.info(\"Evaluation metrics\")\n",
        "        fbeta = fbeta_score(y_val, predict, beta=1, zero_division=1)\n",
        "        precision = precision_score(y_val, predict, zero_division=1)\n",
        "        recall = recall_score(y_val, predict, zero_division=1)\n",
        "        acc = accuracy_score(y_val, predict)\n",
        "\n",
        "        logger.info(\"Accuracy: {}\".format(acc))\n",
        "        logger.info(\"Precision: {}\".format(precision))\n",
        "        logger.info(\"Recall: {}\".format(recall))\n",
        "        logger.info(\"F1: {}\".format(fbeta))\n",
        "\n",
        "        run.summary[\"Accuracy\"] = acc\n",
        "        run.summary[\"Precision\"] = precision\n",
        "        run.summary[\"Recall\"] = recall\n",
        "        run.summary[\"F1\"] = fbeta"
      ],
      "metadata": {
        "id": "uvnUejepa_FY"
      },
      "execution_count": null,
      "outputs": []
    },
    {
      "cell_type": "code",
      "source": [
        "wandb.agent(sweep_id, train, count=8)"
      ],
      "metadata": {
        "id": "W1hb9Y4ncZel",
        "colab": {
          "base_uri": "https://localhost:8080/",
          "height": 1000,
          "referenced_widgets": [
            "d66272ef259e414fa0aeff26c17833e5",
            "b816211e808140ef92b41e8aa91406a0",
            "9c447133b9144bc1905bab6fbddb8060",
            "9abdeaf7387b413bbe83d0507a16c419",
            "ac72ba6a977342fca73b3b0e61439cab",
            "5dad7e56bbc24479b083a9ed7dc2ebe6",
            "fd2b0ee41f094cecb350286406b33dd5",
            "7b2be86d62944910bfd8e9de3fd21512",
            "0613c7cb0f514b22a4e6528e40e2e156",
            "5bd958e1e2bc4b1ea1f586e2afa89499",
            "c75b56bef9f946508d8db9a716432df4",
            "4dc52778c02542ad94a5f7d45b7a5a98",
            "521f77db070641e7a0097f0b4c0793ef",
            "c2576f2a4b3e4d77882585ea581e3c07",
            "0a9328d22f424f759a4cb7b68a7de40c",
            "21b5c781e9c2442a96f6ab630b98a2aa",
            "6e9eff32ca164a51b3fb183ecdd5cae0",
            "3f1500527dc04bcbaa7f1ace440d3897",
            "372061e7f44c46d98144f9fb4bc193ac",
            "11e7c611da6149d3a970a59207dbcae9",
            "8a010640585e45ea8cab901ba1dc0c18",
            "e28eaca3569046d89907b619ed4b9c3f",
            "36c291b5b8cb4de5a90f52223becea31",
            "409659c3ae114173bcea7cdd74211846",
            "e54f33b16fec4a5f8bac961fc4fb532a",
            "6bc474b778ed4e448c7962c9b3da06fa",
            "00217f46375e4534bcdd9654ca763886",
            "28dc085cf9c84a259b9aa20dfc307928",
            "d77025115a81456dade5d139892d942e",
            "c134c8bbd52b41da88dcf49f7421099c",
            "48a8816a4fd944a2983867072b18281b",
            "1ef4066db49b491dacd1e36f0e3f3b3a",
            "3ef2cddcc21a43249ca25213cb480d1d",
            "f216ca5fa31f4e8bb1b3d49c18c88a42",
            "8a7f76ee1dbf419687535970bade573b",
            "4123fc15d9c14b1c9b134f4f9e1e0f2d",
            "f38cf56dc8244bf0857c0276819f5b4a",
            "2dc7c807794f4ffd9a144938fe4abdda",
            "aa05254699df452c97dd970e874d855f",
            "acf104d7b145494ebdecdcd77ee36449",
            "f947014ebe80475787758607be1392fc",
            "81fba16a494f4223a8d217f28019d369",
            "dfac957f3d4b43b3beeee89bc16b7081",
            "e110d8881e4d466387c288d116624ac1",
            "24674bfe30014b018d205b781b4ea5b8",
            "56009f45f7ce4372b14f86d8273236e6",
            "5dde59adcbf244aba363806ffaf74607",
            "3b622de75449459188763c85adbd36ad",
            "e9b68bd74eb94512afa2fc9e052004ce",
            "642acd73d99c470a99c17d685f0b7704",
            "e34f38da777d4eed844352c69287c5d0",
            "99db2784438e4525aa6f63a7327f21e9",
            "ea37187ae765457eb09295a54c5e7365",
            "455e69ec3bb64becaed1dec637e1b2bc",
            "bc255094fc244b6bb5ebbcc5b180ab74",
            "82f5b3b2a66c4bd9a977a41dca5a2fcb",
            "789ca682cc164fe9be5a63f1226bf47a",
            "30d5335d53814da2b4244ea3e7d511fb",
            "8c6d9a0e02d9403b9bbb63ec6ce9e513",
            "2e3788cccf2a4b84bd7d5a59c03c42a5",
            "685ee2fe32fb4ae08aefa144f8738f16",
            "07be9fb8d14944cc855b289d695fe00b",
            "27dd8676102f4a34adc321360ad7c16e",
            "3166e54e4f994c848e76435a1962f441"
          ]
        },
        "outputId": "9e064a2b-2f5a-4199-a6b5-08eb132c9cc1"
      },
      "execution_count": null,
      "outputs": [
        {
          "output_type": "stream",
          "name": "stderr",
          "text": [
            "\u001b[34m\u001b[1mwandb\u001b[0m: Agent Starting Run: 7nnfxqmr with config:\n",
            "\u001b[34m\u001b[1mwandb\u001b[0m: \tcriterion: gini\n",
            "\u001b[34m\u001b[1mwandb\u001b[0m: \tmodel: 1\n",
            "\u001b[34m\u001b[1mwandb\u001b[0m: \trandom_state: 41\n",
            "\u001b[34m\u001b[1mwandb\u001b[0m: \tsplitter: random\n"
          ]
        },
        {
          "output_type": "display_data",
          "data": {
            "text/plain": [
              "<IPython.core.display.HTML object>"
            ],
            "text/html": [
              "Tracking run with wandb version 0.12.17"
            ]
          },
          "metadata": {}
        },
        {
          "output_type": "display_data",
          "data": {
            "text/plain": [
              "<IPython.core.display.HTML object>"
            ],
            "text/html": [
              "Run data is saved locally in <code>/content/wandb/run-20220529_003038-7nnfxqmr</code>"
            ]
          },
          "metadata": {}
        },
        {
          "output_type": "display_data",
          "data": {
            "text/plain": [
              "<IPython.core.display.HTML object>"
            ],
            "text/html": [
              "Syncing run <strong><a href=\"https://wandb.ai/morsinaldo/decision_tree/runs/7nnfxqmr\" target=\"_blank\">zany-sweep-1</a></strong> to <a href=\"https://wandb.ai/morsinaldo/decision_tree\" target=\"_blank\">Weights & Biases</a> (<a href=\"https://wandb.me/run\" target=\"_blank\">docs</a>)<br/>Sweep page:  <a href=\"https://wandb.ai/morsinaldo/decision_tree/sweeps/h1wekc28\" target=\"_blank\">https://wandb.ai/morsinaldo/decision_tree/sweeps/h1wekc28</a>"
            ]
          },
          "metadata": {}
        },
        {
          "output_type": "stream",
          "name": "stderr",
          "text": [
            "29-05-2022 00:30:43 Training\n",
            "29-05-2022 00:30:43 Infering\n",
            "29-05-2022 00:30:43 Evaluation metrics\n",
            "29-05-2022 00:30:43 Accuracy: 0.7601112234580384\n",
            "29-05-2022 00:30:43 Precision: 0.8687311178247734\n",
            "29-05-2022 00:30:43 Recall: 0.8482300884955752\n",
            "29-05-2022 00:30:43 F1: 0.8583582089552239\n"
          ]
        },
        {
          "output_type": "display_data",
          "data": {
            "text/plain": [
              "<IPython.core.display.HTML object>"
            ],
            "text/html": [
              "Waiting for W&B process to finish... <strong style=\"color:green\">(success).</strong>"
            ]
          },
          "metadata": {}
        },
        {
          "output_type": "display_data",
          "data": {
            "text/plain": [
              "VBox(children=(Label(value='0.000 MB of 0.000 MB uploaded (0.000 MB deduped)\\r'), FloatProgress(value=1.0, max…"
            ],
            "application/vnd.jupyter.widget-view+json": {
              "version_major": 2,
              "version_minor": 0,
              "model_id": "d66272ef259e414fa0aeff26c17833e5"
            }
          },
          "metadata": {}
        },
        {
          "output_type": "display_data",
          "data": {
            "text/plain": [
              "<IPython.core.display.HTML object>"
            ],
            "text/html": [
              "<style>\n",
              "    table.wandb td:nth-child(1) { padding: 0 10px; text-align: left ; width: auto;} td:nth-child(2) {text-align: left ; width: 100%}\n",
              "    .wandb-row { display: flex; flex-direction: row; flex-wrap: wrap; justify-content: flex-start; width: 100% }\n",
              "    .wandb-col { display: flex; flex-direction: column; flex-basis: 100%; flex: 1; padding: 10px; }\n",
              "    </style>\n",
              "<div class=\"wandb-row\"><div class=\"wandb-col\"><h3>Run summary:</h3><br/><table class=\"wandb\"><tr><td>Accuracy</td><td>0.76011</td></tr><tr><td>F1</td><td>0.85836</td></tr><tr><td>Precision</td><td>0.86873</td></tr><tr><td>Recall</td><td>0.84823</td></tr></table><br/></div></div>"
            ]
          },
          "metadata": {}
        },
        {
          "output_type": "display_data",
          "data": {
            "text/plain": [
              "<IPython.core.display.HTML object>"
            ],
            "text/html": [
              "Synced <strong style=\"color:#cdcd00\">zany-sweep-1</strong>: <a href=\"https://wandb.ai/morsinaldo/decision_tree/runs/7nnfxqmr\" target=\"_blank\">https://wandb.ai/morsinaldo/decision_tree/runs/7nnfxqmr</a><br/>Synced 5 W&B file(s), 0 media file(s), 0 artifact file(s) and 0 other file(s)"
            ]
          },
          "metadata": {}
        },
        {
          "output_type": "display_data",
          "data": {
            "text/plain": [
              "<IPython.core.display.HTML object>"
            ],
            "text/html": [
              "Find logs at: <code>./wandb/run-20220529_003038-7nnfxqmr/logs</code>"
            ]
          },
          "metadata": {}
        },
        {
          "output_type": "stream",
          "name": "stderr",
          "text": [
            "\u001b[34m\u001b[1mwandb\u001b[0m: Agent Starting Run: vme4gled with config:\n",
            "\u001b[34m\u001b[1mwandb\u001b[0m: \tcriterion: gini\n",
            "\u001b[34m\u001b[1mwandb\u001b[0m: \tmodel: 0\n",
            "\u001b[34m\u001b[1mwandb\u001b[0m: \trandom_state: 41\n",
            "\u001b[34m\u001b[1mwandb\u001b[0m: \tsplitter: best\n"
          ]
        },
        {
          "output_type": "display_data",
          "data": {
            "text/plain": [
              "<IPython.core.display.HTML object>"
            ],
            "text/html": [
              "Tracking run with wandb version 0.12.17"
            ]
          },
          "metadata": {}
        },
        {
          "output_type": "display_data",
          "data": {
            "text/plain": [
              "<IPython.core.display.HTML object>"
            ],
            "text/html": [
              "Run data is saved locally in <code>/content/wandb/run-20220529_003054-vme4gled</code>"
            ]
          },
          "metadata": {}
        },
        {
          "output_type": "display_data",
          "data": {
            "text/plain": [
              "<IPython.core.display.HTML object>"
            ],
            "text/html": [
              "Syncing run <strong><a href=\"https://wandb.ai/morsinaldo/decision_tree/runs/vme4gled\" target=\"_blank\">avid-sweep-2</a></strong> to <a href=\"https://wandb.ai/morsinaldo/decision_tree\" target=\"_blank\">Weights & Biases</a> (<a href=\"https://wandb.me/run\" target=\"_blank\">docs</a>)<br/>Sweep page:  <a href=\"https://wandb.ai/morsinaldo/decision_tree/sweeps/h1wekc28\" target=\"_blank\">https://wandb.ai/morsinaldo/decision_tree/sweeps/h1wekc28</a>"
            ]
          },
          "metadata": {}
        },
        {
          "output_type": "stream",
          "name": "stderr",
          "text": [
            "29-05-2022 00:30:58 Training\n",
            "29-05-2022 00:30:59 Infering\n",
            "29-05-2022 00:30:59 Evaluation metrics\n",
            "29-05-2022 00:30:59 Accuracy: 0.7606167846309403\n",
            "29-05-2022 00:30:59 Precision: 0.8683655006031363\n",
            "29-05-2022 00:30:59 Recall: 0.8494100294985251\n",
            "29-05-2022 00:30:59 F1: 0.8587831792424695\n"
          ]
        },
        {
          "output_type": "display_data",
          "data": {
            "text/plain": [
              "<IPython.core.display.HTML object>"
            ],
            "text/html": [
              "Waiting for W&B process to finish... <strong style=\"color:green\">(success).</strong>"
            ]
          },
          "metadata": {}
        },
        {
          "output_type": "display_data",
          "data": {
            "text/plain": [
              "VBox(children=(Label(value='0.000 MB of 0.000 MB uploaded (0.000 MB deduped)\\r'), FloatProgress(value=1.0, max…"
            ],
            "application/vnd.jupyter.widget-view+json": {
              "version_major": 2,
              "version_minor": 0,
              "model_id": "0613c7cb0f514b22a4e6528e40e2e156"
            }
          },
          "metadata": {}
        },
        {
          "output_type": "display_data",
          "data": {
            "text/plain": [
              "<IPython.core.display.HTML object>"
            ],
            "text/html": [
              "<style>\n",
              "    table.wandb td:nth-child(1) { padding: 0 10px; text-align: left ; width: auto;} td:nth-child(2) {text-align: left ; width: 100%}\n",
              "    .wandb-row { display: flex; flex-direction: row; flex-wrap: wrap; justify-content: flex-start; width: 100% }\n",
              "    .wandb-col { display: flex; flex-direction: column; flex-basis: 100%; flex: 1; padding: 10px; }\n",
              "    </style>\n",
              "<div class=\"wandb-row\"><div class=\"wandb-col\"><h3>Run summary:</h3><br/><table class=\"wandb\"><tr><td>Accuracy</td><td>0.76062</td></tr><tr><td>F1</td><td>0.85878</td></tr><tr><td>Precision</td><td>0.86837</td></tr><tr><td>Recall</td><td>0.84941</td></tr></table><br/></div></div>"
            ]
          },
          "metadata": {}
        },
        {
          "output_type": "display_data",
          "data": {
            "text/plain": [
              "<IPython.core.display.HTML object>"
            ],
            "text/html": [
              "Synced <strong style=\"color:#cdcd00\">avid-sweep-2</strong>: <a href=\"https://wandb.ai/morsinaldo/decision_tree/runs/vme4gled\" target=\"_blank\">https://wandb.ai/morsinaldo/decision_tree/runs/vme4gled</a><br/>Synced 5 W&B file(s), 0 media file(s), 0 artifact file(s) and 0 other file(s)"
            ]
          },
          "metadata": {}
        },
        {
          "output_type": "display_data",
          "data": {
            "text/plain": [
              "<IPython.core.display.HTML object>"
            ],
            "text/html": [
              "Find logs at: <code>./wandb/run-20220529_003054-vme4gled/logs</code>"
            ]
          },
          "metadata": {}
        },
        {
          "output_type": "stream",
          "name": "stderr",
          "text": [
            "\u001b[34m\u001b[1mwandb\u001b[0m: Agent Starting Run: tiiwnljs with config:\n",
            "\u001b[34m\u001b[1mwandb\u001b[0m: \tcriterion: gini\n",
            "\u001b[34m\u001b[1mwandb\u001b[0m: \tmodel: 0\n",
            "\u001b[34m\u001b[1mwandb\u001b[0m: \trandom_state: 41\n",
            "\u001b[34m\u001b[1mwandb\u001b[0m: \tsplitter: random\n"
          ]
        },
        {
          "output_type": "display_data",
          "data": {
            "text/plain": [
              "<IPython.core.display.HTML object>"
            ],
            "text/html": [
              "Tracking run with wandb version 0.12.17"
            ]
          },
          "metadata": {}
        },
        {
          "output_type": "display_data",
          "data": {
            "text/plain": [
              "<IPython.core.display.HTML object>"
            ],
            "text/html": [
              "Run data is saved locally in <code>/content/wandb/run-20220529_003104-tiiwnljs</code>"
            ]
          },
          "metadata": {}
        },
        {
          "output_type": "display_data",
          "data": {
            "text/plain": [
              "<IPython.core.display.HTML object>"
            ],
            "text/html": [
              "Syncing run <strong><a href=\"https://wandb.ai/morsinaldo/decision_tree/runs/tiiwnljs\" target=\"_blank\">scarlet-sweep-3</a></strong> to <a href=\"https://wandb.ai/morsinaldo/decision_tree\" target=\"_blank\">Weights & Biases</a> (<a href=\"https://wandb.me/run\" target=\"_blank\">docs</a>)<br/>Sweep page:  <a href=\"https://wandb.ai/morsinaldo/decision_tree/sweeps/h1wekc28\" target=\"_blank\">https://wandb.ai/morsinaldo/decision_tree/sweeps/h1wekc28</a>"
            ]
          },
          "metadata": {}
        },
        {
          "output_type": "stream",
          "name": "stderr",
          "text": [
            "29-05-2022 00:31:10 Training\n",
            "29-05-2022 00:31:10 Infering\n",
            "29-05-2022 00:31:10 Evaluation metrics\n",
            "29-05-2022 00:31:10 Accuracy: 0.7601112234580384\n",
            "29-05-2022 00:31:10 Precision: 0.8687311178247734\n",
            "29-05-2022 00:31:10 Recall: 0.8482300884955752\n",
            "29-05-2022 00:31:10 F1: 0.8583582089552239\n"
          ]
        },
        {
          "output_type": "display_data",
          "data": {
            "text/plain": [
              "<IPython.core.display.HTML object>"
            ],
            "text/html": [
              "Waiting for W&B process to finish... <strong style=\"color:green\">(success).</strong>"
            ]
          },
          "metadata": {}
        },
        {
          "output_type": "display_data",
          "data": {
            "text/plain": [
              "VBox(children=(Label(value='0.000 MB of 0.000 MB uploaded (0.000 MB deduped)\\r'), FloatProgress(value=1.0, max…"
            ],
            "application/vnd.jupyter.widget-view+json": {
              "version_major": 2,
              "version_minor": 0,
              "model_id": "6e9eff32ca164a51b3fb183ecdd5cae0"
            }
          },
          "metadata": {}
        },
        {
          "output_type": "display_data",
          "data": {
            "text/plain": [
              "<IPython.core.display.HTML object>"
            ],
            "text/html": [
              "<style>\n",
              "    table.wandb td:nth-child(1) { padding: 0 10px; text-align: left ; width: auto;} td:nth-child(2) {text-align: left ; width: 100%}\n",
              "    .wandb-row { display: flex; flex-direction: row; flex-wrap: wrap; justify-content: flex-start; width: 100% }\n",
              "    .wandb-col { display: flex; flex-direction: column; flex-basis: 100%; flex: 1; padding: 10px; }\n",
              "    </style>\n",
              "<div class=\"wandb-row\"><div class=\"wandb-col\"><h3>Run summary:</h3><br/><table class=\"wandb\"><tr><td>Accuracy</td><td>0.76011</td></tr><tr><td>F1</td><td>0.85836</td></tr><tr><td>Precision</td><td>0.86873</td></tr><tr><td>Recall</td><td>0.84823</td></tr></table><br/></div></div>"
            ]
          },
          "metadata": {}
        },
        {
          "output_type": "display_data",
          "data": {
            "text/plain": [
              "<IPython.core.display.HTML object>"
            ],
            "text/html": [
              "Synced <strong style=\"color:#cdcd00\">scarlet-sweep-3</strong>: <a href=\"https://wandb.ai/morsinaldo/decision_tree/runs/tiiwnljs\" target=\"_blank\">https://wandb.ai/morsinaldo/decision_tree/runs/tiiwnljs</a><br/>Synced 5 W&B file(s), 0 media file(s), 0 artifact file(s) and 0 other file(s)"
            ]
          },
          "metadata": {}
        },
        {
          "output_type": "display_data",
          "data": {
            "text/plain": [
              "<IPython.core.display.HTML object>"
            ],
            "text/html": [
              "Find logs at: <code>./wandb/run-20220529_003104-tiiwnljs/logs</code>"
            ]
          },
          "metadata": {}
        },
        {
          "output_type": "stream",
          "name": "stderr",
          "text": [
            "\u001b[34m\u001b[1mwandb\u001b[0m: Agent Starting Run: w7yekhwo with config:\n",
            "\u001b[34m\u001b[1mwandb\u001b[0m: \tcriterion: entropy\n",
            "\u001b[34m\u001b[1mwandb\u001b[0m: \tmodel: 2\n",
            "\u001b[34m\u001b[1mwandb\u001b[0m: \trandom_state: 41\n",
            "\u001b[34m\u001b[1mwandb\u001b[0m: \tsplitter: random\n"
          ]
        },
        {
          "output_type": "display_data",
          "data": {
            "text/plain": [
              "<IPython.core.display.HTML object>"
            ],
            "text/html": [
              "Tracking run with wandb version 0.12.17"
            ]
          },
          "metadata": {}
        },
        {
          "output_type": "display_data",
          "data": {
            "text/plain": [
              "<IPython.core.display.HTML object>"
            ],
            "text/html": [
              "Run data is saved locally in <code>/content/wandb/run-20220529_003120-w7yekhwo</code>"
            ]
          },
          "metadata": {}
        },
        {
          "output_type": "display_data",
          "data": {
            "text/plain": [
              "<IPython.core.display.HTML object>"
            ],
            "text/html": [
              "Syncing run <strong><a href=\"https://wandb.ai/morsinaldo/decision_tree/runs/w7yekhwo\" target=\"_blank\">pretty-sweep-4</a></strong> to <a href=\"https://wandb.ai/morsinaldo/decision_tree\" target=\"_blank\">Weights & Biases</a> (<a href=\"https://wandb.me/run\" target=\"_blank\">docs</a>)<br/>Sweep page:  <a href=\"https://wandb.ai/morsinaldo/decision_tree/sweeps/h1wekc28\" target=\"_blank\">https://wandb.ai/morsinaldo/decision_tree/sweeps/h1wekc28</a>"
            ]
          },
          "metadata": {}
        },
        {
          "output_type": "stream",
          "name": "stderr",
          "text": [
            "29-05-2022 00:31:24 Training\n",
            "29-05-2022 00:31:25 Infering\n",
            "29-05-2022 00:31:25 Evaluation metrics\n",
            "29-05-2022 00:31:25 Accuracy: 0.7742669362992922\n",
            "29-05-2022 00:31:25 Precision: 0.8698163507109005\n",
            "29-05-2022 00:31:25 Recall: 0.8662241887905605\n",
            "29-05-2022 00:31:25 F1: 0.8680165533550104\n"
          ]
        },
        {
          "output_type": "display_data",
          "data": {
            "text/plain": [
              "<IPython.core.display.HTML object>"
            ],
            "text/html": [
              "Waiting for W&B process to finish... <strong style=\"color:green\">(success).</strong>"
            ]
          },
          "metadata": {}
        },
        {
          "output_type": "display_data",
          "data": {
            "text/plain": [
              "VBox(children=(Label(value='0.000 MB of 0.000 MB uploaded (0.000 MB deduped)\\r'), FloatProgress(value=1.0, max…"
            ],
            "application/vnd.jupyter.widget-view+json": {
              "version_major": 2,
              "version_minor": 0,
              "model_id": "e54f33b16fec4a5f8bac961fc4fb532a"
            }
          },
          "metadata": {}
        },
        {
          "output_type": "display_data",
          "data": {
            "text/plain": [
              "<IPython.core.display.HTML object>"
            ],
            "text/html": [
              "<style>\n",
              "    table.wandb td:nth-child(1) { padding: 0 10px; text-align: left ; width: auto;} td:nth-child(2) {text-align: left ; width: 100%}\n",
              "    .wandb-row { display: flex; flex-direction: row; flex-wrap: wrap; justify-content: flex-start; width: 100% }\n",
              "    .wandb-col { display: flex; flex-direction: column; flex-basis: 100%; flex: 1; padding: 10px; }\n",
              "    </style>\n",
              "<div class=\"wandb-row\"><div class=\"wandb-col\"><h3>Run summary:</h3><br/><table class=\"wandb\"><tr><td>Accuracy</td><td>0.77427</td></tr><tr><td>F1</td><td>0.86802</td></tr><tr><td>Precision</td><td>0.86982</td></tr><tr><td>Recall</td><td>0.86622</td></tr></table><br/></div></div>"
            ]
          },
          "metadata": {}
        },
        {
          "output_type": "display_data",
          "data": {
            "text/plain": [
              "<IPython.core.display.HTML object>"
            ],
            "text/html": [
              "Synced <strong style=\"color:#cdcd00\">pretty-sweep-4</strong>: <a href=\"https://wandb.ai/morsinaldo/decision_tree/runs/w7yekhwo\" target=\"_blank\">https://wandb.ai/morsinaldo/decision_tree/runs/w7yekhwo</a><br/>Synced 5 W&B file(s), 0 media file(s), 0 artifact file(s) and 0 other file(s)"
            ]
          },
          "metadata": {}
        },
        {
          "output_type": "display_data",
          "data": {
            "text/plain": [
              "<IPython.core.display.HTML object>"
            ],
            "text/html": [
              "Find logs at: <code>./wandb/run-20220529_003120-w7yekhwo/logs</code>"
            ]
          },
          "metadata": {}
        },
        {
          "output_type": "stream",
          "name": "stderr",
          "text": [
            "\u001b[34m\u001b[1mwandb\u001b[0m: Agent Starting Run: b22bb9p6 with config:\n",
            "\u001b[34m\u001b[1mwandb\u001b[0m: \tcriterion: gini\n",
            "\u001b[34m\u001b[1mwandb\u001b[0m: \tmodel: 1\n",
            "\u001b[34m\u001b[1mwandb\u001b[0m: \trandom_state: 41\n",
            "\u001b[34m\u001b[1mwandb\u001b[0m: \tsplitter: best\n"
          ]
        },
        {
          "output_type": "display_data",
          "data": {
            "text/plain": [
              "<IPython.core.display.HTML object>"
            ],
            "text/html": [
              "Tracking run with wandb version 0.12.17"
            ]
          },
          "metadata": {}
        },
        {
          "output_type": "display_data",
          "data": {
            "text/plain": [
              "<IPython.core.display.HTML object>"
            ],
            "text/html": [
              "Run data is saved locally in <code>/content/wandb/run-20220529_003140-b22bb9p6</code>"
            ]
          },
          "metadata": {}
        },
        {
          "output_type": "display_data",
          "data": {
            "text/plain": [
              "<IPython.core.display.HTML object>"
            ],
            "text/html": [
              "Syncing run <strong><a href=\"https://wandb.ai/morsinaldo/decision_tree/runs/b22bb9p6\" target=\"_blank\">firm-sweep-5</a></strong> to <a href=\"https://wandb.ai/morsinaldo/decision_tree\" target=\"_blank\">Weights & Biases</a> (<a href=\"https://wandb.me/run\" target=\"_blank\">docs</a>)<br/>Sweep page:  <a href=\"https://wandb.ai/morsinaldo/decision_tree/sweeps/h1wekc28\" target=\"_blank\">https://wandb.ai/morsinaldo/decision_tree/sweeps/h1wekc28</a>"
            ]
          },
          "metadata": {}
        },
        {
          "output_type": "stream",
          "name": "stderr",
          "text": [
            "29-05-2022 00:31:45 Training\n",
            "29-05-2022 00:31:45 Infering\n",
            "29-05-2022 00:31:45 Evaluation metrics\n",
            "29-05-2022 00:31:45 Accuracy: 0.7604903943377148\n",
            "29-05-2022 00:31:45 Precision: 0.8682345846524951\n",
            "29-05-2022 00:31:45 Recall: 0.8494100294985251\n",
            "29-05-2022 00:31:45 F1: 0.8587191530604638\n"
          ]
        },
        {
          "output_type": "display_data",
          "data": {
            "text/plain": [
              "<IPython.core.display.HTML object>"
            ],
            "text/html": [
              "Waiting for W&B process to finish... <strong style=\"color:green\">(success).</strong>"
            ]
          },
          "metadata": {}
        },
        {
          "output_type": "display_data",
          "data": {
            "text/plain": [
              "VBox(children=(Label(value='0.000 MB of 0.000 MB uploaded (0.000 MB deduped)\\r'), FloatProgress(value=1.0, max…"
            ],
            "application/vnd.jupyter.widget-view+json": {
              "version_major": 2,
              "version_minor": 0,
              "model_id": "3ef2cddcc21a43249ca25213cb480d1d"
            }
          },
          "metadata": {}
        },
        {
          "output_type": "display_data",
          "data": {
            "text/plain": [
              "<IPython.core.display.HTML object>"
            ],
            "text/html": [
              "<style>\n",
              "    table.wandb td:nth-child(1) { padding: 0 10px; text-align: left ; width: auto;} td:nth-child(2) {text-align: left ; width: 100%}\n",
              "    .wandb-row { display: flex; flex-direction: row; flex-wrap: wrap; justify-content: flex-start; width: 100% }\n",
              "    .wandb-col { display: flex; flex-direction: column; flex-basis: 100%; flex: 1; padding: 10px; }\n",
              "    </style>\n",
              "<div class=\"wandb-row\"><div class=\"wandb-col\"><h3>Run summary:</h3><br/><table class=\"wandb\"><tr><td>Accuracy</td><td>0.76049</td></tr><tr><td>F1</td><td>0.85872</td></tr><tr><td>Precision</td><td>0.86823</td></tr><tr><td>Recall</td><td>0.84941</td></tr></table><br/></div></div>"
            ]
          },
          "metadata": {}
        },
        {
          "output_type": "display_data",
          "data": {
            "text/plain": [
              "<IPython.core.display.HTML object>"
            ],
            "text/html": [
              "Synced <strong style=\"color:#cdcd00\">firm-sweep-5</strong>: <a href=\"https://wandb.ai/morsinaldo/decision_tree/runs/b22bb9p6\" target=\"_blank\">https://wandb.ai/morsinaldo/decision_tree/runs/b22bb9p6</a><br/>Synced 5 W&B file(s), 0 media file(s), 0 artifact file(s) and 0 other file(s)"
            ]
          },
          "metadata": {}
        },
        {
          "output_type": "display_data",
          "data": {
            "text/plain": [
              "<IPython.core.display.HTML object>"
            ],
            "text/html": [
              "Find logs at: <code>./wandb/run-20220529_003140-b22bb9p6/logs</code>"
            ]
          },
          "metadata": {}
        },
        {
          "output_type": "stream",
          "name": "stderr",
          "text": [
            "\u001b[34m\u001b[1mwandb\u001b[0m: Agent Starting Run: qmmxcbqp with config:\n",
            "\u001b[34m\u001b[1mwandb\u001b[0m: \tcriterion: gini\n",
            "\u001b[34m\u001b[1mwandb\u001b[0m: \tmodel: 1\n",
            "\u001b[34m\u001b[1mwandb\u001b[0m: \trandom_state: 41\n",
            "\u001b[34m\u001b[1mwandb\u001b[0m: \tsplitter: random\n"
          ]
        },
        {
          "output_type": "display_data",
          "data": {
            "text/plain": [
              "<IPython.core.display.HTML object>"
            ],
            "text/html": [
              "Tracking run with wandb version 0.12.17"
            ]
          },
          "metadata": {}
        },
        {
          "output_type": "display_data",
          "data": {
            "text/plain": [
              "<IPython.core.display.HTML object>"
            ],
            "text/html": [
              "Run data is saved locally in <code>/content/wandb/run-20220529_003156-qmmxcbqp</code>"
            ]
          },
          "metadata": {}
        },
        {
          "output_type": "display_data",
          "data": {
            "text/plain": [
              "<IPython.core.display.HTML object>"
            ],
            "text/html": [
              "Syncing run <strong><a href=\"https://wandb.ai/morsinaldo/decision_tree/runs/qmmxcbqp\" target=\"_blank\">genial-sweep-6</a></strong> to <a href=\"https://wandb.ai/morsinaldo/decision_tree\" target=\"_blank\">Weights & Biases</a> (<a href=\"https://wandb.me/run\" target=\"_blank\">docs</a>)<br/>Sweep page:  <a href=\"https://wandb.ai/morsinaldo/decision_tree/sweeps/h1wekc28\" target=\"_blank\">https://wandb.ai/morsinaldo/decision_tree/sweeps/h1wekc28</a>"
            ]
          },
          "metadata": {}
        },
        {
          "output_type": "stream",
          "name": "stderr",
          "text": [
            "29-05-2022 00:32:00 Training\n",
            "29-05-2022 00:32:00 Infering\n",
            "29-05-2022 00:32:00 Evaluation metrics\n",
            "29-05-2022 00:32:00 Accuracy: 0.7601112234580384\n",
            "29-05-2022 00:32:00 Precision: 0.8687311178247734\n",
            "29-05-2022 00:32:00 Recall: 0.8482300884955752\n",
            "29-05-2022 00:32:00 F1: 0.8583582089552239\n"
          ]
        },
        {
          "output_type": "display_data",
          "data": {
            "text/plain": [
              "<IPython.core.display.HTML object>"
            ],
            "text/html": [
              "Waiting for W&B process to finish... <strong style=\"color:green\">(success).</strong>"
            ]
          },
          "metadata": {}
        },
        {
          "output_type": "display_data",
          "data": {
            "text/plain": [
              "VBox(children=(Label(value='0.000 MB of 0.000 MB uploaded (0.000 MB deduped)\\r'), FloatProgress(value=1.0, max…"
            ],
            "application/vnd.jupyter.widget-view+json": {
              "version_major": 2,
              "version_minor": 0,
              "model_id": "f947014ebe80475787758607be1392fc"
            }
          },
          "metadata": {}
        },
        {
          "output_type": "display_data",
          "data": {
            "text/plain": [
              "<IPython.core.display.HTML object>"
            ],
            "text/html": [
              "<style>\n",
              "    table.wandb td:nth-child(1) { padding: 0 10px; text-align: left ; width: auto;} td:nth-child(2) {text-align: left ; width: 100%}\n",
              "    .wandb-row { display: flex; flex-direction: row; flex-wrap: wrap; justify-content: flex-start; width: 100% }\n",
              "    .wandb-col { display: flex; flex-direction: column; flex-basis: 100%; flex: 1; padding: 10px; }\n",
              "    </style>\n",
              "<div class=\"wandb-row\"><div class=\"wandb-col\"><h3>Run summary:</h3><br/><table class=\"wandb\"><tr><td>Accuracy</td><td>0.76011</td></tr><tr><td>F1</td><td>0.85836</td></tr><tr><td>Precision</td><td>0.86873</td></tr><tr><td>Recall</td><td>0.84823</td></tr></table><br/></div></div>"
            ]
          },
          "metadata": {}
        },
        {
          "output_type": "display_data",
          "data": {
            "text/plain": [
              "<IPython.core.display.HTML object>"
            ],
            "text/html": [
              "Synced <strong style=\"color:#cdcd00\">genial-sweep-6</strong>: <a href=\"https://wandb.ai/morsinaldo/decision_tree/runs/qmmxcbqp\" target=\"_blank\">https://wandb.ai/morsinaldo/decision_tree/runs/qmmxcbqp</a><br/>Synced 5 W&B file(s), 0 media file(s), 0 artifact file(s) and 0 other file(s)"
            ]
          },
          "metadata": {}
        },
        {
          "output_type": "display_data",
          "data": {
            "text/plain": [
              "<IPython.core.display.HTML object>"
            ],
            "text/html": [
              "Find logs at: <code>./wandb/run-20220529_003156-qmmxcbqp/logs</code>"
            ]
          },
          "metadata": {}
        },
        {
          "output_type": "stream",
          "name": "stderr",
          "text": [
            "\u001b[34m\u001b[1mwandb\u001b[0m: Agent Starting Run: ahlzwer7 with config:\n",
            "\u001b[34m\u001b[1mwandb\u001b[0m: \tcriterion: gini\n",
            "\u001b[34m\u001b[1mwandb\u001b[0m: \tmodel: 2\n",
            "\u001b[34m\u001b[1mwandb\u001b[0m: \trandom_state: 41\n",
            "\u001b[34m\u001b[1mwandb\u001b[0m: \tsplitter: best\n"
          ]
        },
        {
          "output_type": "display_data",
          "data": {
            "text/plain": [
              "<IPython.core.display.HTML object>"
            ],
            "text/html": [
              "Tracking run with wandb version 0.12.17"
            ]
          },
          "metadata": {}
        },
        {
          "output_type": "display_data",
          "data": {
            "text/plain": [
              "<IPython.core.display.HTML object>"
            ],
            "text/html": [
              "Run data is saved locally in <code>/content/wandb/run-20220529_003206-ahlzwer7</code>"
            ]
          },
          "metadata": {}
        },
        {
          "output_type": "display_data",
          "data": {
            "text/plain": [
              "<IPython.core.display.HTML object>"
            ],
            "text/html": [
              "Syncing run <strong><a href=\"https://wandb.ai/morsinaldo/decision_tree/runs/ahlzwer7\" target=\"_blank\">worthy-sweep-7</a></strong> to <a href=\"https://wandb.ai/morsinaldo/decision_tree\" target=\"_blank\">Weights & Biases</a> (<a href=\"https://wandb.me/run\" target=\"_blank\">docs</a>)<br/>Sweep page:  <a href=\"https://wandb.ai/morsinaldo/decision_tree/sweeps/h1wekc28\" target=\"_blank\">https://wandb.ai/morsinaldo/decision_tree/sweeps/h1wekc28</a>"
            ]
          },
          "metadata": {}
        },
        {
          "output_type": "stream",
          "name": "stderr",
          "text": [
            "29-05-2022 00:32:11 Training\n",
            "29-05-2022 00:32:11 Infering\n",
            "29-05-2022 00:32:11 Evaluation metrics\n",
            "29-05-2022 00:32:11 Accuracy: 0.7603640040444893\n",
            "29-05-2022 00:32:11 Precision: 0.8683257918552036\n",
            "29-05-2022 00:32:11 Recall: 0.8491150442477876\n",
            "29-05-2022 00:32:11 F1: 0.858612975391499\n"
          ]
        },
        {
          "output_type": "display_data",
          "data": {
            "text/plain": [
              "<IPython.core.display.HTML object>"
            ],
            "text/html": [
              "Waiting for W&B process to finish... <strong style=\"color:green\">(success).</strong>"
            ]
          },
          "metadata": {}
        },
        {
          "output_type": "display_data",
          "data": {
            "text/plain": [
              "VBox(children=(Label(value='0.000 MB of 0.000 MB uploaded (0.000 MB deduped)\\r'), FloatProgress(value=1.0, max…"
            ],
            "application/vnd.jupyter.widget-view+json": {
              "version_major": 2,
              "version_minor": 0,
              "model_id": "e9b68bd74eb94512afa2fc9e052004ce"
            }
          },
          "metadata": {}
        },
        {
          "output_type": "display_data",
          "data": {
            "text/plain": [
              "<IPython.core.display.HTML object>"
            ],
            "text/html": [
              "<style>\n",
              "    table.wandb td:nth-child(1) { padding: 0 10px; text-align: left ; width: auto;} td:nth-child(2) {text-align: left ; width: 100%}\n",
              "    .wandb-row { display: flex; flex-direction: row; flex-wrap: wrap; justify-content: flex-start; width: 100% }\n",
              "    .wandb-col { display: flex; flex-direction: column; flex-basis: 100%; flex: 1; padding: 10px; }\n",
              "    </style>\n",
              "<div class=\"wandb-row\"><div class=\"wandb-col\"><h3>Run summary:</h3><br/><table class=\"wandb\"><tr><td>Accuracy</td><td>0.76036</td></tr><tr><td>F1</td><td>0.85861</td></tr><tr><td>Precision</td><td>0.86833</td></tr><tr><td>Recall</td><td>0.84912</td></tr></table><br/></div></div>"
            ]
          },
          "metadata": {}
        },
        {
          "output_type": "display_data",
          "data": {
            "text/plain": [
              "<IPython.core.display.HTML object>"
            ],
            "text/html": [
              "Synced <strong style=\"color:#cdcd00\">worthy-sweep-7</strong>: <a href=\"https://wandb.ai/morsinaldo/decision_tree/runs/ahlzwer7\" target=\"_blank\">https://wandb.ai/morsinaldo/decision_tree/runs/ahlzwer7</a><br/>Synced 5 W&B file(s), 0 media file(s), 0 artifact file(s) and 0 other file(s)"
            ]
          },
          "metadata": {}
        },
        {
          "output_type": "display_data",
          "data": {
            "text/plain": [
              "<IPython.core.display.HTML object>"
            ],
            "text/html": [
              "Find logs at: <code>./wandb/run-20220529_003206-ahlzwer7/logs</code>"
            ]
          },
          "metadata": {}
        },
        {
          "output_type": "stream",
          "name": "stderr",
          "text": [
            "\u001b[34m\u001b[1mwandb\u001b[0m: Agent Starting Run: mnlsl7tr with config:\n",
            "\u001b[34m\u001b[1mwandb\u001b[0m: \tcriterion: gini\n",
            "\u001b[34m\u001b[1mwandb\u001b[0m: \tmodel: 0\n",
            "\u001b[34m\u001b[1mwandb\u001b[0m: \trandom_state: 41\n",
            "\u001b[34m\u001b[1mwandb\u001b[0m: \tsplitter: random\n"
          ]
        },
        {
          "output_type": "display_data",
          "data": {
            "text/plain": [
              "<IPython.core.display.HTML object>"
            ],
            "text/html": [
              "Tracking run with wandb version 0.12.17"
            ]
          },
          "metadata": {}
        },
        {
          "output_type": "display_data",
          "data": {
            "text/plain": [
              "<IPython.core.display.HTML object>"
            ],
            "text/html": [
              "Run data is saved locally in <code>/content/wandb/run-20220529_003222-mnlsl7tr</code>"
            ]
          },
          "metadata": {}
        },
        {
          "output_type": "display_data",
          "data": {
            "text/plain": [
              "<IPython.core.display.HTML object>"
            ],
            "text/html": [
              "Syncing run <strong><a href=\"https://wandb.ai/morsinaldo/decision_tree/runs/mnlsl7tr\" target=\"_blank\">helpful-sweep-8</a></strong> to <a href=\"https://wandb.ai/morsinaldo/decision_tree\" target=\"_blank\">Weights & Biases</a> (<a href=\"https://wandb.me/run\" target=\"_blank\">docs</a>)<br/>Sweep page:  <a href=\"https://wandb.ai/morsinaldo/decision_tree/sweeps/h1wekc28\" target=\"_blank\">https://wandb.ai/morsinaldo/decision_tree/sweeps/h1wekc28</a>"
            ]
          },
          "metadata": {}
        },
        {
          "output_type": "stream",
          "name": "stderr",
          "text": [
            "29-05-2022 00:32:26 Training\n",
            "29-05-2022 00:32:27 Infering\n",
            "29-05-2022 00:32:27 Evaluation metrics\n",
            "29-05-2022 00:32:27 Accuracy: 0.7601112234580384\n",
            "29-05-2022 00:32:27 Precision: 0.8687311178247734\n",
            "29-05-2022 00:32:27 Recall: 0.8482300884955752\n",
            "29-05-2022 00:32:27 F1: 0.8583582089552239\n"
          ]
        },
        {
          "output_type": "display_data",
          "data": {
            "text/plain": [
              "<IPython.core.display.HTML object>"
            ],
            "text/html": [
              "Waiting for W&B process to finish... <strong style=\"color:green\">(success).</strong>"
            ]
          },
          "metadata": {}
        },
        {
          "output_type": "display_data",
          "data": {
            "text/plain": [
              "VBox(children=(Label(value='0.000 MB of 0.000 MB uploaded (0.000 MB deduped)\\r'), FloatProgress(value=1.0, max…"
            ],
            "application/vnd.jupyter.widget-view+json": {
              "version_major": 2,
              "version_minor": 0,
              "model_id": "789ca682cc164fe9be5a63f1226bf47a"
            }
          },
          "metadata": {}
        },
        {
          "output_type": "display_data",
          "data": {
            "text/plain": [
              "<IPython.core.display.HTML object>"
            ],
            "text/html": [
              "<style>\n",
              "    table.wandb td:nth-child(1) { padding: 0 10px; text-align: left ; width: auto;} td:nth-child(2) {text-align: left ; width: 100%}\n",
              "    .wandb-row { display: flex; flex-direction: row; flex-wrap: wrap; justify-content: flex-start; width: 100% }\n",
              "    .wandb-col { display: flex; flex-direction: column; flex-basis: 100%; flex: 1; padding: 10px; }\n",
              "    </style>\n",
              "<div class=\"wandb-row\"><div class=\"wandb-col\"><h3>Run summary:</h3><br/><table class=\"wandb\"><tr><td>Accuracy</td><td>0.76011</td></tr><tr><td>F1</td><td>0.85836</td></tr><tr><td>Precision</td><td>0.86873</td></tr><tr><td>Recall</td><td>0.84823</td></tr></table><br/></div></div>"
            ]
          },
          "metadata": {}
        },
        {
          "output_type": "display_data",
          "data": {
            "text/plain": [
              "<IPython.core.display.HTML object>"
            ],
            "text/html": [
              "Synced <strong style=\"color:#cdcd00\">helpful-sweep-8</strong>: <a href=\"https://wandb.ai/morsinaldo/decision_tree/runs/mnlsl7tr\" target=\"_blank\">https://wandb.ai/morsinaldo/decision_tree/runs/mnlsl7tr</a><br/>Synced 5 W&B file(s), 0 media file(s), 0 artifact file(s) and 0 other file(s)"
            ]
          },
          "metadata": {}
        },
        {
          "output_type": "display_data",
          "data": {
            "text/plain": [
              "<IPython.core.display.HTML object>"
            ],
            "text/html": [
              "Find logs at: <code>./wandb/run-20220529_003222-mnlsl7tr/logs</code>"
            ]
          },
          "metadata": {}
        }
      ]
    },
    {
      "cell_type": "markdown",
      "source": [
        "## 1.7 Configure and train the best model"
      ],
      "metadata": {
        "id": "HKRubLTMopvR"
      }
    },
    {
      "cell_type": "code",
      "source": [
        "# Note that a new run is yet synced to last sweep run\n",
        "# Just to check\n",
        "run = wandb.init()"
      ],
      "metadata": {
        "id": "IGYp599tSSfO"
      },
      "execution_count": null,
      "outputs": []
    },
    {
      "cell_type": "markdown",
      "source": [
        "<font color=\"red\">Important</font> to restart the colab to unlink a new experiment (run) with the last ```sweep``` experiment. \n",
        "\n",
        "```\n",
        "Runtime >> Factory reset runtime\n",
        "```\n",
        "> Re-run all cells except for: ```1.5``` and ```1.6```. "
      ],
      "metadata": {
        "id": "WlDpHMw8SBJ5"
      }
    },
    {
      "cell_type": "code",
      "source": [
        "# initiate the wandb project\n",
        "#run = wandb.init(project=\"risk_credit\",job_type=\"train\")"
      ],
      "metadata": {
        "id": "UV3uATIHHxsR"
      },
      "execution_count": null,
      "outputs": []
    },
    {
      "cell_type": "code",
      "source": [
        "# The full pipeline \n",
        "pipe = Pipeline(steps = [('full_pipeline', full_pipeline_preprocessing),\n",
        "                         (\"classifier\",DecisionTreeClassifier())\n",
        "                         ]\n",
        "                )\n",
        "\n",
        "# update the parameters of the pipeline that we would like to tuning\n",
        "pipe.set_params(**{\"full_pipeline__num_pipeline__num_transformer__model\": 2})\n",
        "pipe.set_params(**{\"classifier__criterion\": 'entropy'})\n",
        "pipe.set_params(**{\"classifier__splitter\": 'random'})\n",
        "pipe.set_params(**{\"classifier__random_state\": 41})\n",
        "\n",
        "\n",
        "\n",
        "# training\n",
        "logger.info(\"Training\")\n",
        "pipe.fit(x_train, y_train)\n",
        "\n",
        "# predict\n",
        "logger.info(\"Infering\")\n",
        "predict = pipe.predict(x_val)\n",
        "\n",
        "# Evaluation Metrics\n",
        "logger.info(\"Evaluation metrics\")\n",
        "fbeta = fbeta_score(y_val, predict, beta=1, zero_division=1)\n",
        "precision = precision_score(y_val, predict, zero_division=1)\n",
        "recall = recall_score(y_val, predict, zero_division=1)\n",
        "acc = accuracy_score(y_val, predict)\n",
        "\n",
        "logger.info(\"Accuracy: {}\".format(acc))\n",
        "logger.info(\"Precision: {}\".format(precision))\n",
        "logger.info(\"Recall: {}\".format(recall))\n",
        "logger.info(\"F1: {}\".format(fbeta))\n",
        "\n",
        "run.summary[\"Acc\"] = acc\n",
        "run.summary[\"Precision\"] = precision\n",
        "run.summary[\"Recall\"] = recall\n",
        "run.summary[\"F1\"] = fbeta"
      ],
      "metadata": {
        "id": "suQFb9M5HM1t",
        "colab": {
          "base_uri": "https://localhost:8080/"
        },
        "outputId": "e531bd5c-fe8e-43e4-df46-8ff294de4bac"
      },
      "execution_count": null,
      "outputs": [
        {
          "output_type": "stream",
          "name": "stderr",
          "text": [
            "29-05-2022 00:39:04 Training\n",
            "29-05-2022 00:39:04 Infering\n",
            "29-05-2022 00:39:04 Evaluation metrics\n",
            "29-05-2022 00:39:04 Accuracy: 0.7742669362992922\n",
            "29-05-2022 00:39:04 Precision: 0.8698163507109005\n",
            "29-05-2022 00:39:04 Recall: 0.8662241887905605\n",
            "29-05-2022 00:39:04 F1: 0.8680165533550104\n"
          ]
        }
      ]
    },
    {
      "cell_type": "code",
      "source": [
        "# Get categorical column names\n",
        "cat_names = pipe.named_steps['full_pipeline'].get_params()[\"cat_pipeline\"][3].get_feature_names_out().tolist()\n",
        "cat_names"
      ],
      "metadata": {
        "id": "CD_vARrbIXv9",
        "colab": {
          "base_uri": "https://localhost:8080/"
        },
        "outputId": "4c7d1e7c-979b-49b9-915d-2307787c9872"
      },
      "execution_count": null,
      "outputs": [
        {
          "output_type": "execute_result",
          "data": {
            "text/plain": [
              "['term_60 months',\n",
              " 'emp_length_1',\n",
              " 'emp_length_2',\n",
              " 'emp_length_3',\n",
              " 'emp_length_4',\n",
              " 'emp_length_5',\n",
              " 'emp_length_6',\n",
              " 'emp_length_7',\n",
              " 'emp_length_8',\n",
              " 'emp_length_9',\n",
              " 'emp_length_10',\n",
              " 'home_ownership_NONE',\n",
              " 'home_ownership_OTHER',\n",
              " 'home_ownership_OWN',\n",
              " 'home_ownership_RENT',\n",
              " 'verification_status_Source Verified',\n",
              " 'verification_status_Verified',\n",
              " 'purpose_credit_card',\n",
              " 'purpose_debt_consolidation',\n",
              " 'purpose_educational',\n",
              " 'purpose_home_improvement',\n",
              " 'purpose_house',\n",
              " 'purpose_major_purchase',\n",
              " 'purpose_medical',\n",
              " 'purpose_moving',\n",
              " 'purpose_other',\n",
              " 'purpose_renewable_energy',\n",
              " 'purpose_small_business',\n",
              " 'purpose_vacation',\n",
              " 'purpose_wedding']"
            ]
          },
          "metadata": {},
          "execution_count": 32
        }
      ]
    },
    {
      "cell_type": "code",
      "source": [
        "# Get numerical column names\n",
        "num_names = pipe.named_steps['full_pipeline'].get_params()[\"num_pipeline\"][2].get_feature_names_out()\n",
        "num_names"
      ],
      "metadata": {
        "id": "g1SkdIXBIXv-",
        "colab": {
          "base_uri": "https://localhost:8080/"
        },
        "outputId": "12911cef-9ca6-4602-89ff-7ab4d1e82640"
      },
      "execution_count": null,
      "outputs": [
        {
          "output_type": "execute_result",
          "data": {
            "text/plain": [
              "['loan_amnt',\n",
              " 'int_rate',\n",
              " 'installment',\n",
              " 'annual_inc',\n",
              " 'dti',\n",
              " 'delinq_2yrs',\n",
              " 'inq_last_6mths',\n",
              " 'open_acc',\n",
              " 'pub_rec',\n",
              " 'revol_bal',\n",
              " 'revol_util',\n",
              " 'total_acc']"
            ]
          },
          "metadata": {},
          "execution_count": 33
        }
      ]
    },
    {
      "cell_type": "code",
      "source": [
        "# merge all column names together\n",
        "all_names = cat_names + num_names\n",
        "all_names"
      ],
      "metadata": {
        "id": "PYhk1nW4IXv-",
        "colab": {
          "base_uri": "https://localhost:8080/"
        },
        "outputId": "743b281e-0291-47cb-c994-b3c56e3952c3"
      },
      "execution_count": null,
      "outputs": [
        {
          "output_type": "execute_result",
          "data": {
            "text/plain": [
              "['term_60 months',\n",
              " 'emp_length_1',\n",
              " 'emp_length_2',\n",
              " 'emp_length_3',\n",
              " 'emp_length_4',\n",
              " 'emp_length_5',\n",
              " 'emp_length_6',\n",
              " 'emp_length_7',\n",
              " 'emp_length_8',\n",
              " 'emp_length_9',\n",
              " 'emp_length_10',\n",
              " 'home_ownership_NONE',\n",
              " 'home_ownership_OTHER',\n",
              " 'home_ownership_OWN',\n",
              " 'home_ownership_RENT',\n",
              " 'verification_status_Source Verified',\n",
              " 'verification_status_Verified',\n",
              " 'purpose_credit_card',\n",
              " 'purpose_debt_consolidation',\n",
              " 'purpose_educational',\n",
              " 'purpose_home_improvement',\n",
              " 'purpose_house',\n",
              " 'purpose_major_purchase',\n",
              " 'purpose_medical',\n",
              " 'purpose_moving',\n",
              " 'purpose_other',\n",
              " 'purpose_renewable_energy',\n",
              " 'purpose_small_business',\n",
              " 'purpose_vacation',\n",
              " 'purpose_wedding',\n",
              " 'loan_amnt',\n",
              " 'int_rate',\n",
              " 'installment',\n",
              " 'annual_inc',\n",
              " 'dti',\n",
              " 'delinq_2yrs',\n",
              " 'inq_last_6mths',\n",
              " 'open_acc',\n",
              " 'pub_rec',\n",
              " 'revol_bal',\n",
              " 'revol_util',\n",
              " 'total_acc']"
            ]
          },
          "metadata": {},
          "execution_count": 34
        }
      ]
    },
    {
      "cell_type": "code",
      "source": [
        "# Visualize all classifier plots\n",
        "# For a complete documentation please see: https://docs.wandb.ai/guides/integrations/scikit\n",
        "wandb.sklearn.plot_classifier(pipe.get_params()[\"classifier\"],\n",
        "                              full_pipeline_preprocessing.transform(x_train),\n",
        "                              full_pipeline_preprocessing.transform(x_val),\n",
        "                              y_train,\n",
        "                              y_val,\n",
        "                              predict,\n",
        "                              pipe.predict_proba(x_val),\n",
        "                              [0,1],\n",
        "                              model_name='BestModel', feature_names=all_names)"
      ],
      "metadata": {
        "id": "nJwRFzuaIXv-",
        "colab": {
          "base_uri": "https://localhost:8080/"
        },
        "outputId": "8da45cec-a60f-447f-e6a3-a4cf0d6bf263"
      },
      "execution_count": null,
      "outputs": [
        {
          "output_type": "stream",
          "name": "stderr",
          "text": [
            "\u001b[34m\u001b[1mwandb\u001b[0m: \n",
            "\u001b[34m\u001b[1mwandb\u001b[0m: Plotting BestModel.\n",
            "\u001b[34m\u001b[1mwandb\u001b[0m: Logged feature importances.\n",
            "\u001b[34m\u001b[1mwandb\u001b[0m: Logged confusion matrix.\n",
            "\u001b[34m\u001b[1mwandb\u001b[0m: Logged summary metrics.\n",
            "\u001b[34m\u001b[1mwandb\u001b[0m: Logged class proportions.\n",
            "/usr/local/lib/python3.7/dist-packages/sklearn/linear_model/_logistic.py:818: ConvergenceWarning: lbfgs failed to converge (status=1):\n",
            "STOP: TOTAL NO. of ITERATIONS REACHED LIMIT.\n",
            "\n",
            "Increase the number of iterations (max_iter) or scale the data as shown in:\n",
            "    https://scikit-learn.org/stable/modules/preprocessing.html\n",
            "Please also refer to the documentation for alternative solver options:\n",
            "    https://scikit-learn.org/stable/modules/linear_model.html#logistic-regression\n",
            "  extra_warning_msg=_LOGISTIC_SOLVER_CONVERGENCE_MSG,\n",
            "\u001b[34m\u001b[1mwandb\u001b[0m: Logged calibration curve.\n",
            "\u001b[34m\u001b[1mwandb\u001b[0m: \u001b[33mWARNING\u001b[0m wandb.plots.* functions are deprecated and will be removed in a future release. Please use wandb.plot.* instead.\n",
            "\u001b[34m\u001b[1mwandb\u001b[0m: Logged roc curve.\n",
            "\u001b[34m\u001b[1mwandb\u001b[0m: Logged precision-recall curve.\n"
          ]
        }
      ]
    },
    {
      "cell_type": "markdown",
      "source": [
        "## 1.8 Export the best model"
      ],
      "metadata": {
        "id": "zdJlBFpQy60F"
      }
    },
    {
      "cell_type": "code",
      "source": [
        "# types and names of the artifacts\n",
        "artifact_type = \"inference_artifact\"\n",
        "artifact_encoder = \"target_encoder\"\n",
        "artifact_model = \"model_export\""
      ],
      "metadata": {
        "id": "-5KDt6Pu0Xo8"
      },
      "execution_count": null,
      "outputs": []
    },
    {
      "cell_type": "code",
      "source": [
        "logger.info(\"Dumping the artifacts to disk\")\n",
        "# Save the model using joblib\n",
        "joblib.dump(pipe, artifact_model)\n",
        "\n",
        "# Save the target encoder using joblib\n",
        "joblib.dump(le, artifact_encoder)"
      ],
      "metadata": {
        "id": "BEIC9zC55mP5",
        "colab": {
          "base_uri": "https://localhost:8080/"
        },
        "outputId": "a620db27-6c9e-4a9a-e54a-befb49eccc90"
      },
      "execution_count": null,
      "outputs": [
        {
          "output_type": "stream",
          "name": "stderr",
          "text": [
            "29-05-2022 00:39:13 Dumping the artifacts to disk\n"
          ]
        },
        {
          "output_type": "execute_result",
          "data": {
            "text/plain": [
              "['target_encoder']"
            ]
          },
          "metadata": {},
          "execution_count": 37
        }
      ]
    },
    {
      "cell_type": "code",
      "source": [
        "# Model artifact\n",
        "artifact = wandb.Artifact(artifact_model,\n",
        "                          type=artifact_type,\n",
        "                          description=\"A full pipeline composed of a Preprocessing Stage and a Decision Tree model\"\n",
        "                          )\n",
        "\n",
        "logger.info(\"Logging model artifact\")\n",
        "artifact.add_file(artifact_model)\n",
        "run.log_artifact(artifact)"
      ],
      "metadata": {
        "id": "5ncI2WnK5iZ9",
        "colab": {
          "base_uri": "https://localhost:8080/"
        },
        "outputId": "2a4326d0-e104-4ee6-b012-939dec7e46cc"
      },
      "execution_count": null,
      "outputs": [
        {
          "output_type": "stream",
          "name": "stderr",
          "text": [
            "29-05-2022 00:39:13 Logging model artifact\n"
          ]
        },
        {
          "output_type": "execute_result",
          "data": {
            "text/plain": [
              "<wandb.sdk.wandb_artifacts.Artifact at 0x7fb6d8d1c5d0>"
            ]
          },
          "metadata": {},
          "execution_count": 38
        }
      ]
    },
    {
      "cell_type": "code",
      "source": [
        "# Target encoder artifact\n",
        "artifact = wandb.Artifact(artifact_encoder,\n",
        "                          type=artifact_type,\n",
        "                          description=\"The encoder used to encode the target variable\"\n",
        "                          )\n",
        "\n",
        "logger.info(\"Logging target enconder artifact\")\n",
        "artifact.add_file(artifact_encoder)\n",
        "run.log_artifact(artifact)"
      ],
      "metadata": {
        "id": "ydqNDU3BVm5t",
        "colab": {
          "base_uri": "https://localhost:8080/"
        },
        "outputId": "1369aeda-8d85-4f7c-f9d0-32c9cf477220"
      },
      "execution_count": null,
      "outputs": [
        {
          "output_type": "stream",
          "name": "stderr",
          "text": [
            "29-05-2022 00:39:13 Logging target enconder artifact\n"
          ]
        },
        {
          "output_type": "execute_result",
          "data": {
            "text/plain": [
              "<wandb.sdk.wandb_artifacts.Artifact at 0x7fb6d8e02810>"
            ]
          },
          "metadata": {},
          "execution_count": 39
        }
      ]
    },
    {
      "cell_type": "code",
      "source": [
        "run.finish()"
      ],
      "metadata": {
        "id": "6OqCWx5q7fqf",
        "colab": {
          "base_uri": "https://localhost:8080/",
          "height": 270,
          "referenced_widgets": [
            "04d61367495149c48ef33d556af340a6",
            "7ea447db634942e2a4c7575b5db2e75e",
            "360b00a21db0426f806abe0102acb29c",
            "466ed2ebbd37483f8da76deaab339d05",
            "f489472bf08149b9afa7ed1fc3c95591",
            "83824852e6be466db356b9ac06f10479",
            "c63c208eead64e2c9a24413793c6aba4",
            "f6868c2e369146bd94d7c939ac01c016"
          ]
        },
        "outputId": "44937c38-2da8-4121-cdd7-211b139c40f6"
      },
      "execution_count": null,
      "outputs": [
        {
          "output_type": "display_data",
          "data": {
            "text/plain": [
              "<IPython.core.display.HTML object>"
            ],
            "text/html": [
              "Waiting for W&B process to finish... <strong style=\"color:green\">(success).</strong>"
            ]
          },
          "metadata": {}
        },
        {
          "output_type": "display_data",
          "data": {
            "text/plain": [
              "VBox(children=(Label(value='0.011 MB of 0.011 MB uploaded (0.000 MB deduped)\\r'), FloatProgress(value=1.0, max…"
            ],
            "application/vnd.jupyter.widget-view+json": {
              "version_major": 2,
              "version_minor": 0,
              "model_id": "04d61367495149c48ef33d556af340a6"
            }
          },
          "metadata": {}
        },
        {
          "output_type": "display_data",
          "data": {
            "text/plain": [
              "<IPython.core.display.HTML object>"
            ],
            "text/html": [
              "<style>\n",
              "    table.wandb td:nth-child(1) { padding: 0 10px; text-align: left ; width: auto;} td:nth-child(2) {text-align: left ; width: 100%}\n",
              "    .wandb-row { display: flex; flex-direction: row; flex-wrap: wrap; justify-content: flex-start; width: 100% }\n",
              "    .wandb-col { display: flex; flex-direction: column; flex-basis: 100%; flex: 1; padding: 10px; }\n",
              "    </style>\n",
              "<div class=\"wandb-row\"><div class=\"wandb-col\"><h3>Run summary:</h3><br/><table class=\"wandb\"><tr><td>Acc</td><td>0.77427</td></tr><tr><td>F1</td><td>0.86802</td></tr><tr><td>Precision</td><td>0.86982</td></tr><tr><td>Recall</td><td>0.86622</td></tr></table><br/></div></div>"
            ]
          },
          "metadata": {}
        },
        {
          "output_type": "display_data",
          "data": {
            "text/plain": [
              "<IPython.core.display.HTML object>"
            ],
            "text/html": [
              "Synced <strong style=\"color:#cdcd00\">vital-donkey-92</strong>: <a href=\"https://wandb.ai/morsinaldo/risk_credit/runs/2o9yiu92\" target=\"_blank\">https://wandb.ai/morsinaldo/risk_credit/runs/2o9yiu92</a><br/>Synced 5 W&B file(s), 7 media file(s), 7 artifact file(s) and 0 other file(s)"
            ]
          },
          "metadata": {}
        },
        {
          "output_type": "display_data",
          "data": {
            "text/plain": [
              "<IPython.core.display.HTML object>"
            ],
            "text/html": [
              "Find logs at: <code>./wandb/run-20220529_003835-2o9yiu92/logs</code>"
            ]
          },
          "metadata": {}
        }
      ]
    }
  ]
}